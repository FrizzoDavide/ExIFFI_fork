{
 "cells": [
  {
   "cell_type": "markdown",
   "metadata": {},
   "source": [
    "# PERFORMANCE METRICS \n",
    "\n",
    "Compute the performance metrics of the EIF and EIF+ models (for the moment let's consider just these two). \n",
    "\n",
    "Performance Metrics computed: \n",
    "\n",
    "1. The typical classification metrics that we can obtain with sklearn.metrics.classification_report\n",
    "\n",
    "2. The Average Precision -> this is obtained with sklearn.metrics.average_precision_score but we can still use the mean value obtained in the Average_Precision.ipynb notebook (the ones used to create the Violin Plot)\n",
    "\n",
    "3. The ROC AUC Score -> obtainable with the sklearn.metrics.auc_roc_score "
   ]
  },
  {
   "cell_type": "code",
   "execution_count": 1,
   "metadata": {},
   "outputs": [],
   "source": [
    "import sys\n",
    "import numpy as np\n",
    "from datetime import datetime\n",
    "import pandas as pd\n",
    "import argparse\n",
    "from tqdm import tqdm\n",
    "from sklearn.preprocessing import StandardScaler,MinMaxScaler\n",
    "import sklearn\n",
    "sys.path.append('../')\n",
    "from utils import *\n",
    "#from utils.feature_selection import *\n",
    "from plot import *\n",
    "from simulation_setup import *\n",
    "from models import *\n",
    "from models.forests import *\n",
    "from models.Extended_IF import *\n",
    "from models.Extended_DIFFI import *\n",
    "from models.Extended_DIFFI_original import *\n",
    "from sklearn.ensemble import IsolationForest,RandomForestClassifier\n",
    "from sklearn.model_selection import train_test_split\n",
    "from sklearn.metrics import classification_report,average_precision_score,roc_auc_score\n",
    "import math\n",
    "import seaborn as sns\n",
    "sns.set()\n",
    "\n",
    "import os\n",
    "import pickle \n",
    "import scipy.io\n",
    "\n",
    "import warnings\n",
    "warnings.simplefilter(action='ignore', category=FutureWarning)\n",
    "warnings.simplefilter(action='ignore', category=RuntimeWarning)"
   ]
  },
  {
   "cell_type": "code",
   "execution_count": 2,
   "metadata": {},
   "outputs": [],
   "source": [
    "def partition_data(X,y):\n",
    "    inliers=X[y==0,:]\n",
    "    outliers=X[y==1,:]\n",
    "    return inliers,outliers"
   ]
  },
  {
   "cell_type": "code",
   "execution_count": 3,
   "metadata": {},
   "outputs": [
    {
     "data": {
      "text/plain": [
       "'c:\\\\Users\\\\lemeda98\\\\Desktop\\\\PHD Information Engineering\\\\ExIFFI\\\\ExIFFI\\\\data'"
      ]
     },
     "execution_count": 3,
     "metadata": {},
     "output_type": "execute_result"
    }
   ],
   "source": [
    "os.chdir('c:\\\\Users\\\\lemeda98\\\\Desktop\\\\PHD Information Engineering\\\\ExIFFI\\\\ExIFFI\\\\data')\n",
    "os.getcwd()"
   ]
  },
  {
   "cell_type": "markdown",
   "metadata": {},
   "source": [
    "# Synthetic Dataset"
   ]
  },
  {
   "cell_type": "markdown",
   "metadata": {},
   "source": [
    "## Load pkl files"
   ]
  },
  {
   "cell_type": "code",
   "execution_count": 14,
   "metadata": {},
   "outputs": [
    {
     "data": {
      "text/plain": [
       "'c:\\\\Users\\\\lemeda98\\\\Desktop\\\\PHD Information Engineering\\\\ExIFFI\\\\ExIFFI\\\\data\\\\diffi_data'"
      ]
     },
     "execution_count": 14,
     "metadata": {},
     "output_type": "execute_result"
    }
   ],
   "source": [
    "os.chdir('c:\\\\Users\\\\lemeda98\\\\Desktop\\\\PHD Information Engineering\\\\ExIFFI\\\\ExIFFI\\\\data\\\\diffi_data')\n",
    "os.getcwd()"
   ]
  },
  {
   "cell_type": "code",
   "execution_count": 15,
   "metadata": {},
   "outputs": [],
   "source": [
    "file_to_read = open(os.getcwd()+'\\\\ball_6_dim.pkl', \"rb\")\n",
    "loaded_dictionary = pickle.load(file_to_read)\n",
    "X_train=loaded_dictionary['X_train']"
   ]
  },
  {
   "cell_type": "code",
   "execution_count": 16,
   "metadata": {},
   "outputs": [],
   "source": [
    "file_to_read = open(os.getcwd()+'\\\\anomalies.pkl', \"rb\")\n",
    "loaded_dictionary = pickle.load(file_to_read)\n",
    "X_xaxis,X_yaxis,X_bisect,X_bisect_3d,X_bisect_6d=loaded_dictionary['X_xaxis'],loaded_dictionary['X_yaxis'],loaded_dictionary['X_bisec'],loaded_dictionary['X_bisec_3d'],loaded_dictionary['X_bisec_6d']"
   ]
  },
  {
   "cell_type": "code",
   "execution_count": 6,
   "metadata": {},
   "outputs": [],
   "source": [
    "file_to_read = open(os.getcwd()+'\\\\syn_test_anomaly_interval.pkl', \"rb\")\n",
    "loaded_dictionary = pickle.load(file_to_read)\n",
    "X_xaxis,X_yaxis,X_bisec = loaded_dictionary['X_xaxis'],loaded_dictionary['X_yaxis'],loaded_dictionary['X_bisect']"
   ]
  },
  {
   "cell_type": "code",
   "execution_count": 7,
   "metadata": {},
   "outputs": [],
   "source": [
    "file_to_read = open(os.getcwd()+'\\\\syn_test_multi_dim_anomaly_interval.pkl', \"rb\")\n",
    "loaded_dictionary = pickle.load(file_to_read)\n",
    "X_bisect_3d,X_bisect_6d = loaded_dictionary['X_bisect_3d'],loaded_dictionary['X_bisect_6d']"
   ]
  },
  {
   "cell_type": "code",
   "execution_count": 8,
   "metadata": {},
   "outputs": [
    {
     "data": {
      "image/png": "[encoded data removed]",
      "text/plain": [
       "<Figure size 600x400 with 1 Axes>"
      ]
     },
     "metadata": {},
     "output_type": "display_data"
    }
   ],
   "source": [
    "sns.set()\n",
    "#plt.scatter(inliers[:,0],inliers[:,1])\n",
    "fig=plt.figure(figsize=(6, 4))\n",
    "fig.patch.set_alpha(0.5)\n",
    "plt.scatter(X_xaxis[:,0],X_xaxis[:,1])\n",
    "plt.scatter(X_yaxis[:,0],X_yaxis[:,1])\n",
    "plt.scatter(X_bisect[:,0],X_bisect[:,1])\n",
    "plt.scatter(X_bisect_3d[:,0],X_bisect_3d[:,1])\n",
    "#plt.scatter(xy[:,0],xy[:,1])\n",
    "#plt.legend(['x-axis Anomalies','y-axis Anomalies',\n",
    "            #'Bisector Anomalies','Bisector 3d Anomalies'])\n",
    "plt.show()"
   ]
  },
  {
   "cell_type": "markdown",
   "metadata": {},
   "source": [
    "## Performance Report Table Computation Function"
   ]
  },
  {
   "cell_type": "code",
   "execution_count": 17,
   "metadata": {},
   "outputs": [],
   "source": [
    "def csv_dataset(name, path = \"../data/\"):\n",
    "    datapath = path + name + \".csv\"\n",
    "    data=pd.read_csv(datapath,index_col=0)\n",
    "    if 'Unnamed: 0' in data.columns:\n",
    "        data=data.drop(columns=['Unnamed: 0'])\n",
    "    \n",
    "    X=data[data.columns[data.columns!='Target']]\n",
    "    y=data['Target']\n",
    "    \n",
    "    X,y = drop_duplicates(X,y)\n",
    "    print(name, \"\\n\")\n",
    "    print_dataset_resume(X,y)\n",
    "    \n",
    "    return X,y"
   ]
  },
  {
   "cell_type": "code",
   "execution_count": 18,
   "metadata": {},
   "outputs": [],
   "source": [
    "def if_predict(score,p):\n",
    "    y=score>np.sort(score)[::-1][int(p*len(score))]\n",
    "    return y.astype(int)"
   ]
  },
  {
   "cell_type": "code",
   "execution_count": 19,
   "metadata": {},
   "outputs": [],
   "source": [
    "def performance_if(y,score):\n",
    "    p=sum(y)/len(y)\n",
    "    y_pred=if_predict(score,p)\n",
    "    d={}\n",
    "    d['Precision']=sklearn.metrics.precision_score(y,y_pred) \n",
    "    d['Recall']=sklearn.metrics.recall_score(y,y_pred) \n",
    "    d['f1 score']=sklearn.metrics.f1_score(y,y_pred) \n",
    "    d['Accuracy']=sklearn.metrics.accuracy_score(y,y_pred) \n",
    "    d['Balanced Accuracy']=sklearn.metrics.balanced_accuracy_score(y,y_pred) \n",
    "    d['Average Precision']=sklearn.metrics.average_precision_score(y,y_pred) \n",
    "    d['ROC AUC Score']=sklearn.metrics.roc_auc_score(y,y_pred) \n",
    "    return d"
   ]
  },
  {
   "cell_type": "code",
   "execution_count": 20,
   "metadata": {},
   "outputs": [],
   "source": [
    "def performance_eif(y,score,X_test,model):\n",
    "    p=sum(y)/len(y)\n",
    "    y_pred=model._predict(X_test,p).astype(int)\n",
    "    d={}\n",
    "    d['Precision']=sklearn.metrics.precision_score(y,y_pred) \n",
    "    d['Recall']=sklearn.metrics.recall_score(y,y_pred)\n",
    "    d['f1 score']=sklearn.metrics.f1_score(y,y_pred)\n",
    "    d['Accuracy']=sklearn.metrics.accuracy_score(y,y_pred)\n",
    "    d['Balanced Accuracy']=sklearn.metrics.balanced_accuracy_score(y,y_pred)\n",
    "    d['Average Precision']=sklearn.metrics.average_precision_score(y,score)\n",
    "    d['ROC AUC Score']=sklearn.metrics.roc_auc_score(y,score)\n",
    "    return d"
   ]
  },
  {
   "cell_type": "code",
   "execution_count": 21,
   "metadata": {},
   "outputs": [],
   "source": [
    "def evaluate_performance(X_train,X_test,y):\n",
    "    \n",
    "    EIF=ExtendedIsolationForest(n_estimators=300,plus=0)\n",
    "    EIF.fit(X_train)\n",
    "\n",
    "    EIF_plus=ExtendedIsolationForest(n_estimators=300,plus=1)\n",
    "    EIF_plus.fit(X_train)\n",
    "\n",
    "    IF=IsolationForest(n_estimators=300,max_samples=min(len(X_train),256))\n",
    "    IF.fit(X_train)\n",
    "\n",
    "    score_if=-1*IF.score_samples(X_test)+0.5\n",
    "    score_eif=EIF.predict(X_test)\n",
    "    score_eif_plus=EIF_plus.predict(X_test)\n",
    "\n",
    "    metrics_if=performance_if(y,score_if)\n",
    "    metrics_eif=performance_eif(y,score_eif,X_test,EIF)\n",
    "    metrics_eif_plus=performance_eif(y,score_eif_plus,X_test,EIF_plus)\n",
    "\n",
    "    return metrics_if,metrics_eif,metrics_eif_plus\n",
    "    "
   ]
  },
  {
   "cell_type": "code",
   "execution_count": 31,
   "metadata": {},
   "outputs": [
    {
     "data": {
      "text/plain": [
       "dict_keys(['Precision', 'Recall', 'f1 score', 'Accuracy', 'Balanced Accuracy', 'Average Precision', 'ROC AUC Score'])"
      ]
     },
     "execution_count": 31,
     "metadata": {},
     "output_type": "execute_result"
    }
   ],
   "source": [
    "metrics_dict['Xaxis']['IF'].keys()"
   ]
  },
  {
   "cell_type": "code",
   "execution_count": 22,
   "metadata": {},
   "outputs": [],
   "source": [
    "def collect_performance(metrics_dict,name,X_train,X_test,y):\n",
    "    metrics_dict[name]={}\n",
    "    metrics_dict[name][\"IF\"]={}\n",
    "    metrics_dict[name][\"EIF\"]={}\n",
    "    metrics_dict[name][\"EIF_plus\"]={}\n",
    "    metric_names=['Precision', 'Recall', 'f1 score', 'Accuracy', 'Balanced Accuracy', 'Average Precision', 'ROC AUC Score']\n",
    "\n",
    "    for metric_name in metric_names:\n",
    "        metrics_dict[name]['IF'][metric_name]=[]\n",
    "        metrics_dict[name]['EIF'][metric_name]=[]\n",
    "        metrics_dict[name]['EIF_plus'][metric_name]=[]\n",
    "\n",
    "\n",
    "    for i in tqdm(range(10)):\n",
    "        metrics_if,metrics_eif,metrics_eif_plus=evaluate_performance(X_train,X_test,y)\n",
    "\n",
    "        for metric_name in metric_names:\n",
    "            metrics_dict[name]['IF'][metric_name].append(metrics_if[metric_name])\n",
    "            metrics_dict[name]['EIF'][metric_name].append(metrics_eif[metric_name])\n",
    "            metrics_dict[name]['EIF_plus'][metric_name].append(metrics_eif_plus[metric_name])\n",
    "\n",
    "    for metric_name in metric_names:\n",
    "        metrics_dict[name]['IF'][metric_name+'_avg']=np.mean(np.array(metrics_dict[name]['IF'][metric_name]))\n",
    "        metrics_dict[name]['EIF'][metric_name+'_avg']=np.mean(np.array(metrics_dict[name]['EIF'][metric_name]))\n",
    "        metrics_dict[name]['EIF_plus'][metric_name+'_avg']=np.mean(np.array(metrics_dict[name]['EIF_plus'][metric_name]))\n",
    "     \n",
    "    \n",
    "    return metrics_dict"
   ]
  },
  {
   "cell_type": "code",
   "execution_count": 23,
   "metadata": {},
   "outputs": [],
   "source": [
    "def performance_report(name,metrics_dict,metrics_dict_split):\n",
    "    \n",
    "    os.chdir('c:\\\\Users\\\\lemeda98\\\\Desktop\\\\PHD Information Engineering\\\\ExIFFI\\\\ExIFFI\\\\data')\n",
    "    if name=='diabetes' or name=='moodify':\n",
    "        X,y=csv_dataset(name,os.getcwd()+'\\\\')\n",
    "    else:\n",
    "        X,y=dataset(name,os.getcwd()+'\\\\')\n",
    "\n",
    "    X,y=downsample(X,y)\n",
    "    X_train,X_test=partition_data(X,y)\n",
    "    scaler=StandardScaler()\n",
    "    X_train=scaler.fit_transform(X_train)\n",
    "    X_test=scaler.transform(X_test)\n",
    "    y_train=np.zeros(X_train.shape[0])\n",
    "    y_test=np.ones(X_test.shape[0])\n",
    "    y=np.concatenate([y_train,y_test])\n",
    "    X_test=np.r_[X_train,X_test]\n",
    "    scaler2=StandardScaler()\n",
    "    X=scaler2.fit_transform(X)\n",
    "\n",
    "    #Compute Performance Report Table without split\n",
    "    metrics_dict=collect_performance(metrics_dict,name,X,X,y)\n",
    "\n",
    "    #Compute Performance Report Table with split\n",
    "    metrics_dict_split=collect_performance(metrics_dict_split,name,X_train,X_test,y)\n",
    "\n",
    "    print('--------------------------------------------------------')\n",
    "    print(name)\n",
    "    print()\n",
    "    print('f1 score and average precision no train test split ')\n",
    "    print(f'IF -> f1 score: {metrics_dict[name][\"IF\"][\"f1 score\"]}\\naverage precision: {metrics_dict[name][\"IF\"][\"Average Precision\"]}')\n",
    "    print(f'EIF -> f1 score: {metrics_dict[name][\"EIF\"][\"f1 score\"]}\\naverage precision: {metrics_dict[name][\"EIF\"][\"Average Precision\"]}')\n",
    "    print(f'EIF_plus -> f1 score: {metrics_dict[name][\"EIF_plus\"][\"f1 score\"]}\\naverage precision: {metrics_dict[name][\"EIF_plus\"][\"Average Precision\"]}')\n",
    "    print(' ')\n",
    "    print('f1 score and average precision with train test split ')\n",
    "    print(f'IF -> f1 score: {metrics_dict_split[name][\"IF\"][\"f1 score\"]}\\naverage precision: {metrics_dict_split[name][\"IF\"][\"Average Precision\"]}')\n",
    "    print(f'EIF -> f1 score: {metrics_dict_split[name][\"EIF\"][\"f1 score\"]}\\naverage precision: {metrics_dict_split[name][\"EIF\"][\"Average Precision\"]}')\n",
    "    print(f'EIF_plus -> f1 score: {metrics_dict_split[name][\"EIF_plus\"][\"f1 score\"]}\\naverage precision: {metrics_dict_split[name][\"EIF_plus\"][\"Average Precision\"]}')\n",
    "    print('-----------------------------------------------------------')\n",
    "\n",
    "    return metrics_dict,metrics_dict_split"
   ]
  },
  {
   "cell_type": "code",
   "execution_count": null,
   "metadata": {},
   "outputs": [],
   "source": [
    "def performance_report_synt(name,X_train,X_test,metrics_dict,metrics_dict_split):\n",
    "    \n",
    "    X=np.r_[X_train,X_test]\n",
    "    scaler=StandardScaler()\n",
    "    X_train=scaler.fit_transform(X_train)\n",
    "    X_test=scaler.transform(X_test)\n",
    "    y_train=np.zeros(X_train.shape[0])\n",
    "    y_test=np.ones(X_test.shape[0])\n",
    "    y=np.concatenate([y_train,y_test])\n",
    "    X_test=np.r_[X_train,X_test]\n",
    "    scaler2=StandardScaler()\n",
    "    X=scaler2.fit_transform(X)\n",
    "\n",
    "    #Compute Performance Report Table without split\n",
    "    metrics_dict=collect_performance(metrics_dict,name,X,X,y)\n",
    "\n",
    "    #Compute Performance Report Table with split\n",
    "    metrics_dict_split=collect_performance(metrics_dict_split,name,X_train,X_test,y)\n",
    "\n",
    "    print('--------------------------------------------------------')\n",
    "    print(name)\n",
    "    print()\n",
    "    print('f1 score and average precision no train test split ')\n",
    "    print(f'IF -> f1 score: {metrics_dict[name][\"IF\"][\"f1 score_avg\"]}\\naverage precision: {metrics_dict[name][\"IF\"][\"Average Precision_avg\"]}')\n",
    "    print(f'EIF -> f1 score: {metrics_dict[name][\"EIF\"][\"f1 score_avg\"]}\\naverage precision: {metrics_dict[name][\"EIF\"][\"Average Precision_avg\"]}')\n",
    "    print(f'EIF_plus -> f1 score: {metrics_dict[name][\"EIF_plus\"][\"f1 score_avg\"]}\\naverage precision: {metrics_dict[name][\"EIF_plus\"][\"Average Precision_avg\"]}')\n",
    "    print(' ')\n",
    "    print('f1 score and average precision with train test split ')\n",
    "    print(f'IF -> f1 score: {metrics_dict_split[name][\"IF\"][\"f1 score_avg\"]}\\naverage precision: {metrics_dict_split[name][\"IF\"][\"Average Precision_avg\"]}')\n",
    "    print(f'EIF -> f1 score: {metrics_dict_split[name][\"EIF\"][\"f1 score_avg\"]}\\naverage precision: {metrics_dict_split[name][\"EIF\"][\"Average Precision_avg\"]}')\n",
    "    print(f'EIF_plus -> f1 score: {metrics_dict_split[name][\"EIF_plus\"][\"f1 score_avg\"]}\\naverage precision: {metrics_dict_split[name][\"EIF_plus\"][\"Average Precision_avg\"]}')\n",
    "    print('-----------------------------------------------------------')\n",
    "\n",
    "    return metrics_dict,metrics_dict_split\n",
    "    "
   ]
  },
  {
   "cell_type": "code",
   "execution_count": 25,
   "metadata": {},
   "outputs": [],
   "source": [
    "X=np.r_[X_train,X_xaxis]\n",
    "scaler=StandardScaler()\n",
    "X_train=scaler.fit_transform(X_train)\n",
    "X_xaxis=scaler.transform(X_xaxis)\n",
    "y_train=np.zeros(X_train.shape[0])\n",
    "y_test=np.ones(X_xaxis.shape[0])\n",
    "y=np.concatenate([y_train,y_test])\n",
    "X_test=np.r_[X_train,X_xaxis]\n",
    "scaler2=StandardScaler()\n",
    "X=scaler2.fit_transform(X)"
   ]
  },
  {
   "cell_type": "code",
   "execution_count": 26,
   "metadata": {},
   "outputs": [],
   "source": [
    "EIF=ExtendedIsolationForest(n_estimators=300,plus=0)\n",
    "EIF.fit(X)\n",
    "\n",
    "EIF_plus=ExtendedIsolationForest(n_estimators=300,plus=1)\n",
    "EIF_plus.fit(X)"
   ]
  },
  {
   "cell_type": "code",
   "execution_count": 68,
   "metadata": {},
   "outputs": [],
   "source": [
    "metrics_dict={}\n",
    "metrics_dict_split={}"
   ]
  },
  {
   "cell_type": "code",
   "execution_count": 69,
   "metadata": {},
   "outputs": [],
   "source": [
    "file_to_read = open(os.getcwd()+'\\\\ball_6_dim.pkl', \"rb\")\n",
    "loaded_dictionary = pickle.load(file_to_read)"
   ]
  },
  {
   "cell_type": "markdown",
   "metadata": {},
   "source": [
    "Synthetic Datasets"
   ]
  },
  {
   "cell_type": "code",
   "execution_count": 86,
   "metadata": {},
   "outputs": [
    {
     "name": "stderr",
     "output_type": "stream",
     "text": [
      "100%|██████████| 10/10 [00:59<00:00,  5.98s/it]\n",
      "100%|██████████| 10/10 [00:57<00:00,  5.80s/it]\n"
     ]
    },
    {
     "name": "stdout",
     "output_type": "stream",
     "text": [
      "--------------------------------------------------------\n",
      "Xaxis\n",
      "\n",
      "f1 score and average precision no train test split \n",
      "IF -> f1 score: 0.10200000000000001\n",
      "average precision: [0.08905454545454546, 0.11591818181818181, 0.09778181818181819, 0.0901, 0.08886363636363637, 0.09778181818181819, 0.09082727272727273, 0.08905454545454546, 0.09977272727272726, 0.09300909090909092]\n",
      "EIF -> f1 score: 0.35300000000000004\n",
      "average precision: [0.22173636363636362, 0.1698090909090909, 0.1698090909090909, 0.19417272727272727, 0.16421818181818182, 0.20076363636363637, 0.19417272727272727, 0.16421818181818182, 0.18159090909090908, 0.18159090909090908]\n",
      "EIF_plus -> f1 score: [0.36, 0.4000000000000001, 0.32, 0.33, 0.34, 0.33, 0.33, 0.33, 0.31, 0.36]\n",
      "average precision: [0.18778181818181816, 0.21454545454545457, 0.16421818181818182, 0.1698090909090909, 0.17560000000000003, 0.1698090909090909, 0.1698090909090909, 0.1698090909090909, 0.15882727272727273, 0.18778181818181816]\n",
      " \n",
      "f1 score and average precision with train test split \n",
      "IF -> f1 score: 0.026000000000000002\n",
      "average precision: [0.09090909090909091, 0.08887272727272727, 0.09090909090909091, 0.08886363636363637, 0.09090909090909091, 0.09090909090909091, 0.09090909090909091, 0.09599090909090909, 0.0901, 0.08908181818181818]\n",
      "EIF -> f1 score: 1.0\n",
      "average precision: [1.0, 1.0, 1.0, 1.0, 1.0, 1.0, 1.0, 1.0, 1.0, 1.0]\n",
      "EIF_plus -> f1 score: 1.0\n",
      "average precision: [1.0, 1.0, 1.0, 1.0, 1.0, 1.0, 1.0, 1.0, 1.0, 1.0]\n",
      "-----------------------------------------------------------\n"
     ]
    },
    {
     "name": "stderr",
     "output_type": "stream",
     "text": [
      "100%|██████████| 10/10 [00:58<00:00,  5.89s/it]\n",
      "100%|██████████| 10/10 [00:59<00:00,  5.96s/it]\n"
     ]
    },
    {
     "name": "stdout",
     "output_type": "stream",
     "text": [
      "--------------------------------------------------------\n",
      "Yaxis\n",
      "\n",
      "f1 score and average precision no train test split \n",
      "IF -> f1 score: 0.11000000000000001\n",
      "average precision: [0.08887272727272727, 0.08886363636363637, 0.09977272727272726, 0.08944545454545455, 0.08908181818181818, 0.10435454545454546, 0.10973636363636363, 0.10196363636363637, 0.10435454545454546, 0.08944545454545455]\n",
      "EIF -> f1 score: 0.367\n",
      "average precision: [0.20755454545454546, 0.18159090909090908, 0.20076363636363637, 0.21454545454545457, 0.16421818181818182, 0.18778181818181816, 0.1698090909090909, 0.20076363636363637, 0.2367181818181818, 0.1698090909090909]\n",
      "EIF_plus -> f1 score: [0.37, 0.34, 0.45, 0.34, 0.39, 0.32, 0.34, 0.28, 0.32, 0.38]\n",
      "average precision: [0.19417272727272727, 0.17560000000000003, 0.2525, 0.17560000000000003, 0.20755454545454546, 0.16421818181818182, 0.17560000000000003, 0.14385454545454546, 0.16421818181818182, 0.20076363636363637]\n",
      " \n",
      "f1 score and average precision with train test split \n",
      "IF -> f1 score: 0.033999999999999996\n",
      "average precision: [0.09090909090909091, 0.0901, 0.0901, 0.09090909090909091, 0.08905454545454546, 0.0901, 0.08905454545454546, 0.09090909090909091, 0.09090909090909091, 0.10973636363636363]\n",
      "EIF -> f1 score: 1.0\n",
      "average precision: [1.0, 1.0, 1.0, 1.0, 1.0, 1.0, 1.0, 1.0, 1.0, 1.0]\n",
      "EIF_plus -> f1 score: 1.0\n",
      "average precision: [1.0, 1.0, 1.0, 1.0, 1.0, 1.0, 1.0, 1.0, 1.0, 1.0]\n",
      "-----------------------------------------------------------\n"
     ]
    },
    {
     "name": "stderr",
     "output_type": "stream",
     "text": [
      "100%|██████████| 10/10 [00:57<00:00,  5.74s/it]\n",
      "100%|██████████| 10/10 [00:56<00:00,  5.68s/it]\n"
     ]
    },
    {
     "name": "stdout",
     "output_type": "stream",
     "text": [
      "--------------------------------------------------------\n",
      "Bisect\n",
      "\n",
      "f1 score and average precision no train test split \n",
      "IF -> f1 score: 0.688\n",
      "average precision: [0.43053636363636366, 0.39636363636363636, 0.38537272727272726, 0.6431909090909091, 0.5172727272727272, 0.5304636363636364, 0.5574454545454545, 0.5574454545454545, 0.5438545454545455, 0.4914909090909092]\n",
      "EIF -> f1 score: 0.6419999999999999\n",
      "average precision: [0.43053636363636366, 0.4914909090909092, 0.4914909090909092, 0.4789000000000001, 0.43053636363636366, 0.3745818181818182, 0.41894545454545457, 0.504281818181818, 0.39636363636363636, 0.44232727272727274]\n",
      "EIF_plus -> f1 score: [0.7100000000000001, 0.63, 0.58, 0.65, 0.67, 0.61, 0.63, 0.61, 0.56, 0.65]\n",
      "average precision: [0.5304636363636364, 0.43053636363636366, 0.3745818181818182, 0.45431818181818184, 0.4789000000000001, 0.40755454545454545, 0.43053636363636366, 0.40755454545454545, 0.3536, 0.45431818181818184]\n",
      " \n",
      "f1 score and average precision with train test split \n",
      "IF -> f1 score: 1.0\n",
      "average precision: [1.0, 1.0, 1.0, 1.0, 1.0, 1.0, 1.0, 1.0, 1.0, 1.0]\n",
      "EIF -> f1 score: 1.0\n",
      "average precision: [1.0, 1.0, 1.0, 1.0, 1.0, 1.0, 1.0, 1.0, 1.0, 1.0]\n",
      "EIF_plus -> f1 score: 1.0\n",
      "average precision: [1.0, 1.0, 1.0, 1.0, 1.0, 1.0, 1.0, 1.0, 1.0, 1.0]\n",
      "-----------------------------------------------------------\n"
     ]
    },
    {
     "name": "stderr",
     "output_type": "stream",
     "text": [
      "100%|██████████| 10/10 [00:56<00:00,  5.64s/it]\n",
      "100%|██████████| 10/10 [00:56<00:00,  5.61s/it]\n"
     ]
    },
    {
     "name": "stdout",
     "output_type": "stream",
     "text": [
      "--------------------------------------------------------\n",
      "Bisect_3d\n",
      "\n",
      "f1 score and average precision no train test split \n",
      "IF -> f1 score: 0.921\n",
      "average precision: [0.8890545454545454, 0.9252363636363636, 0.9070454545454545, 0.7853090909090908, 0.8362818181818182, 0.8362818181818182, 0.7853090909090908, 0.9436272727272726, 0.8190909090909091, 0.8362818181818182]\n",
      "EIF -> f1 score: 0.804\n",
      "average precision: [0.6733727272727273, 0.6581818181818183, 0.6581818181818183, 0.7361363636363636, 0.6431909090909091, 0.6431909090909091, 0.6138090909090909, 0.6431909090909091, 0.6887636363636362, 0.6887636363636362]\n",
      "EIF_plus -> f1 score: [0.83, 0.78, 0.78, 0.8000000000000002, 0.7699999999999999, 0.76, 0.8000000000000002, 0.74, 0.78, 0.8000000000000002]\n",
      "average precision: [0.7043545454545455, 0.6284000000000001, 0.6284000000000001, 0.6581818181818183, 0.6138090909090909, 0.5994181818181818, 0.6581818181818183, 0.5712363636363637, 0.6284000000000001, 0.6581818181818183]\n",
      " \n",
      "f1 score and average precision with train test split \n",
      "IF -> f1 score: 1.0\n",
      "average precision: [1.0, 1.0, 1.0, 1.0, 1.0, 1.0, 1.0, 1.0, 1.0, 1.0]\n",
      "EIF -> f1 score: 1.0\n",
      "average precision: [1.0, 1.0, 1.0, 1.0, 1.0, 1.0, 1.0, 1.0, 1.0, 1.0]\n",
      "EIF_plus -> f1 score: 1.0\n",
      "average precision: [1.0, 1.0, 1.0, 1.0, 1.0, 1.0, 1.0, 1.0, 1.0, 1.0]\n",
      "-----------------------------------------------------------\n"
     ]
    },
    {
     "name": "stderr",
     "output_type": "stream",
     "text": [
      "100%|██████████| 10/10 [00:56<00:00,  5.61s/it]\n",
      "100%|██████████| 10/10 [00:57<00:00,  5.71s/it]"
     ]
    },
    {
     "name": "stdout",
     "output_type": "stream",
     "text": [
      "--------------------------------------------------------\n",
      "Bisect_6d\n",
      "\n",
      "f1 score and average precision no train test split \n",
      "IF -> f1 score: 0.992\n",
      "average precision: [0.9622181818181818, 0.9810090909090908, 0.9622181818181818, 1.0, 0.9810090909090908, 0.9810090909090908, 1.0, 0.9810090909090908, 1.0, 1.0]\n",
      "EIF -> f1 score: 0.945\n",
      "average precision: [0.9436272727272726, 0.8190909090909091, 0.8890545454545454, 0.9436272727272726, 0.9252363636363636, 0.8890545454545454, 0.9070454545454545, 0.8890545454545454, 0.9070454545454545, 0.8712636363636365]\n",
      "EIF_plus -> f1 score: [0.94, 0.81, 0.96, 0.88, 0.93, 0.9500000000000001, 0.94, 0.9500000000000001, 0.93, 0.92]\n",
      "average precision: [0.8890545454545454, 0.6733727272727273, 0.9252363636363636, 0.7853090909090908, 0.8712636363636365, 0.9070454545454545, 0.8890545454545454, 0.9070454545454545, 0.8712636363636365, 0.8536727272727274]\n",
      " \n",
      "f1 score and average precision with train test split \n",
      "IF -> f1 score: 1.0\n",
      "average precision: [1.0, 1.0, 1.0, 1.0, 1.0, 1.0, 1.0, 1.0, 1.0, 1.0]\n",
      "EIF -> f1 score: 1.0\n",
      "average precision: [1.0, 1.0, 1.0, 1.0, 1.0, 1.0, 1.0, 1.0, 1.0, 1.0]\n",
      "EIF_plus -> f1 score: 1.0\n",
      "average precision: [1.0, 1.0, 1.0, 1.0, 1.0, 1.0, 1.0, 1.0, 1.0, 1.0]\n",
      "-----------------------------------------------------------\n"
     ]
    },
    {
     "name": "stderr",
     "output_type": "stream",
     "text": [
      "\n"
     ]
    }
   ],
   "source": [
    "metrics_dict,metrics_dict_split=performance_report_synt('Xaxis',X_train,X_xaxis,metrics_dict,metrics_dict_split)\n",
    "X_train=loaded_dictionary['X_train']\n",
    "metrics_dict,metrics_dict_split=performance_report_synt('Yaxis',X_train,X_yaxis,metrics_dict,metrics_dict_split)\n",
    "X_train=loaded_dictionary['X_train']\n",
    "metrics_dict,metrics_dict_split=performance_report_synt('Bisect',X_train,X_bisect,metrics_dict,metrics_dict_split)\n",
    "X_train=loaded_dictionary['X_train']\n",
    "metrics_dict,metrics_dict_split=performance_report_synt('Bisect_3d',X_train,X_bisect_3d,metrics_dict,metrics_dict_split)\n",
    "X_train=loaded_dictionary['X_train']\n",
    "metrics_dict,metrics_dict_split=performance_report_synt('Bisect_6d',X_train,X_bisect_6d,metrics_dict,metrics_dict_split)"
   ]
  },
  {
   "cell_type": "markdown",
   "metadata": {},
   "source": [
    "Real World Datasets "
   ]
  },
  {
   "cell_type": "code",
   "execution_count": 92,
   "metadata": {},
   "outputs": [
    {
     "name": "stdout",
     "output_type": "stream",
     "text": [
      "wine \n",
      "\n",
      "[numero elementi = 129]\n",
      "[percentage outliers = 0.07751937984496124]\n",
      "[number features = 13]\n",
      "[number outliers = 10]\n"
     ]
    },
    {
     "name": "stderr",
     "output_type": "stream",
     "text": [
      "  0%|          | 0/10 [00:00<?, ?it/s]"
     ]
    },
    {
     "name": "stderr",
     "output_type": "stream",
     "text": [
      "100%|██████████| 10/10 [00:31<00:00,  3.14s/it]\n",
      "100%|██████████| 10/10 [00:25<00:00,  2.52s/it]\n"
     ]
    },
    {
     "name": "stdout",
     "output_type": "stream",
     "text": [
      "--------------------------------------------------------\n",
      "wine\n",
      "\n",
      "f1 score and average precision no train test split \n",
      "IF -> f1 score: [0.0, 0.0, 0.0, 0.0, 0.0, 0.0, 0.0, 0.0, 0.0, 0.0]\n",
      "average precision: [0.07751937984496124, 0.07751937984496124, 0.07751937984496124, 0.07751937984496124, 0.07751937984496124, 0.07751937984496124, 0.07751937984496124, 0.07751937984496124, 0.07751937984496124, 0.07751937984496124]\n",
      "EIF -> f1 score: [0.0, 0.0, 0.0, 0.0, 0.0, 0.0, 0.0, 0.0, 0.0, 0.0]\n",
      "average precision: [0.07751937984496124, 0.07751937984496124, 0.07751937984496124, 0.07751937984496124, 0.07751937984496124, 0.07751937984496124, 0.07751937984496124, 0.07751937984496124, 0.07751937984496124, 0.07751937984496124]\n",
      "EIF_plus -> f1 score: [0.0, 0.0, 0.0, 0.0, 0.0, 0.0, 0.0, 0.0, 0.0, 0.0]\n",
      "average precision: [0.07751937984496124, 0.07751937984496124, 0.07751937984496124, 0.07751937984496124, 0.07751937984496124, 0.07751937984496124, 0.07751937984496124, 0.07751937984496124, 0.07751937984496124, 0.07751937984496124]\n",
      " \n",
      "f1 score and average precision with train test split \n",
      "IF -> f1 score: [0.6, 0.5, 0.6, 0.5, 0.4000000000000001, 0.5, 0.5, 0.6, 0.5, 0.4000000000000001]\n",
      "average precision: [0.3910077519379845, 0.28875968992248063, 0.3910077519379845, 0.28875968992248063, 0.20651162790697677, 0.28875968992248063, 0.28875968992248063, 0.3910077519379845, 0.28875968992248063, 0.20651162790697677]\n",
      "EIF -> f1 score: [0.6, 0.5, 0.5, 0.6, 0.5, 0.7, 0.6, 0.5, 0.5, 0.5]\n",
      "average precision: [0.3910077519379845, 0.28875968992248063, 0.28875968992248063, 0.3910077519379845, 0.28875968992248063, 0.5132558139534883, 0.3910077519379845, 0.28875968992248063, 0.28875968992248063, 0.28875968992248063]\n",
      "EIF_plus -> f1 score: [0.7, 0.7, 0.7, 0.6, 0.6, 0.7, 0.6, 0.7, 0.6, 0.7]\n",
      "average precision: [0.5132558139534883, 0.5132558139534883, 0.5132558139534883, 0.3910077519379845, 0.3910077519379845, 0.5132558139534883, 0.3910077519379845, 0.5132558139534883, 0.3910077519379845, 0.5132558139534883]\n",
      "-----------------------------------------------------------\n",
      "annthyroid \n",
      "\n",
      "[numero elementi = 7062]\n",
      "[percentage outliers = 0.07561597281223449]\n",
      "[number features = 6]\n",
      "[number outliers = 534]\n",
      "downsampled to 2500\n",
      "(2500, 6)\n"
     ]
    },
    {
     "name": "stderr",
     "output_type": "stream",
     "text": [
      "100%|██████████| 10/10 [01:24<00:00,  8.49s/it]\n",
      "100%|██████████| 10/10 [01:24<00:00,  8.44s/it]\n"
     ]
    },
    {
     "name": "stdout",
     "output_type": "stream",
     "text": [
      "--------------------------------------------------------\n",
      "annthyroid\n",
      "\n",
      "f1 score and average precision no train test split \n",
      "IF -> f1 score: [0.07936507936507936, 0.08465608465608465, 0.07936507936507936, 0.07407407407407407, 0.07936507936507936, 0.07936507936507936, 0.07407407407407407, 0.07407407407407407, 0.07936507936507936, 0.07936507936507936]\n",
      "average precision: [0.07589881582262535, 0.07636665266929817, 0.07589881582262535, 0.07548696844993141, 0.07589881582262535, 0.07589881582262535, 0.07548696844993141, 0.07548696844993141, 0.07589881582262535, 0.07589881582262535]\n",
      "EIF -> f1 score: [0.07407407407407407, 0.07407407407407407, 0.07936507936507936, 0.07407407407407407, 0.08465608465608465, 0.07936507936507936, 0.07936507936507936, 0.07936507936507936, 0.07936507936507936, 0.07936507936507936]\n",
      "average precision: [0.07548696844993141, 0.07548696844993141, 0.07589881582262535, 0.07548696844993141, 0.07636665266929817, 0.07589881582262535, 0.07589881582262535, 0.07589881582262535, 0.07589881582262535, 0.07589881582262535]\n",
      "EIF_plus -> f1 score: [0.07407407407407407, 0.07407407407407407, 0.07936507936507936, 0.08465608465608465, 0.07407407407407407, 0.07936507936507936, 0.07407407407407407, 0.06878306878306878, 0.07936507936507936, 0.07936507936507936]\n",
      "average precision: [0.07548696844993141, 0.07548696844993141, 0.07589881582262535, 0.07636665266929817, 0.07548696844993141, 0.07589881582262535, 0.07548696844993141, 0.07513111055121637, 0.07589881582262535, 0.07589881582262535]\n",
      " \n",
      "f1 score and average precision with train test split \n",
      "IF -> f1 score: [0.39153439153439157, 0.42328042328042326, 0.42328042328042326, 0.4126984126984127, 0.42857142857142855, 0.42857142857142855, 0.3968253968253968, 0.42857142857142855, 0.41798941798941797, 0.42328042328042326]\n",
      "average precision: [0.1992991797542062, 0.22276631673245428, 0.22276631673245428, 0.21471997984378935, 0.22687346938775507, 0.22687346938775507, 0.20307039556563364, 0.22687346938775507, 0.21871515355113239, 0.22276631673245428]\n",
      "EIF -> f1 score: [0.37566137566137564, 0.37037037037037035, 0.37566137566137564, 0.37566137566137564, 0.39153439153439157, 0.38095238095238093, 0.37566137566137564, 0.37037037037037035, 0.38095238095238093, 0.37566137566137564]\n",
      "average precision: [0.18832146916379722, 0.1847742112482853, 0.18832146916379722, 0.18832146916379722, 0.1992991797542062, 0.19192471655328797, 0.18832146916379722, 0.1847742112482853, 0.19192471655328797, 0.18832146916379722]\n",
      "EIF_plus -> f1 score: [0.4021164021164021, 0.4021164021164021, 0.39153439153439157, 0.3968253968253968, 0.38095238095238093, 0.4126984126984127, 0.41798941798941797, 0.43915343915343913, 0.4021164021164021, 0.37566137566137564]\n",
      "average precision: [0.20689760085103998, 0.20689760085103998, 0.1992991797542062, 0.20307039556563364, 0.19192471655328797, 0.21471997984378935, 0.21871515355113239, 0.23525574312029335, 0.20689760085103998, 0.18832146916379722]\n",
      "-----------------------------------------------------------\n",
      "breastw \n",
      "\n",
      "[numero elementi = 449]\n",
      "[percentage outliers = 0.5256124721603563]\n",
      "[number features = 9]\n",
      "[number outliers = 236]\n"
     ]
    },
    {
     "name": "stderr",
     "output_type": "stream",
     "text": [
      "100%|██████████| 10/10 [00:42<00:00,  4.26s/it]\n",
      "100%|██████████| 10/10 [00:38<00:00,  3.89s/it]\n"
     ]
    },
    {
     "name": "stdout",
     "output_type": "stream",
     "text": [
      "--------------------------------------------------------\n",
      "breastw\n",
      "\n",
      "f1 score and average precision no train test split \n",
      "IF -> f1 score: [0.4703389830508475, 0.4745762711864407, 0.4745762711864407, 0.4703389830508475, 0.4661016949152542, 0.4661016949152542, 0.4745762711864407, 0.4703389830508475, 0.4788135593220339, 0.4745762711864407]\n",
      "average precision: [0.4996151955029178, 0.5013919022066337, 0.5013919022066337, 0.4996151955029178, 0.4978743980206901, 0.4978743980206901, 0.5013919022066337, 0.4996151955029178, 0.5032045181318375, 0.5013919022066337]\n",
      "EIF -> f1 score: [0.4745762711864407, 0.4788135593220339, 0.4830508474576271, 0.4872881355932203, 0.4788135593220339, 0.4661016949152542, 0.4872881355932203, 0.4830508474576271, 0.4788135593220339, 0.4872881355932203]\n",
      "average precision: [0.5013919022066337, 0.5032045181318375, 0.5050530432785294, 0.5069374776467095, 0.5032045181318375, 0.4978743980206901, 0.5069374776467095, 0.5050530432785294, 0.5032045181318375, 0.5069374776467095]\n",
      "EIF_plus -> f1 score: [0.4788135593220339, 0.4830508474576271, 0.4788135593220339, 0.5, 0.4830508474576271, 0.4872881355932203, 0.4830508474576271, 0.4745762711864407, 0.4872881355932203, 0.4745762711864407]\n",
      "average precision: [0.5032045181318375, 0.5050530432785294, 0.5032045181318375, 0.5128062360801782, 0.5050530432785294, 0.5069374776467095, 0.5050530432785294, 0.5013919022066337, 0.5069374776467095, 0.5013919022066337]\n",
      " \n",
      "f1 score and average precision with train test split \n",
      "IF -> f1 score: [0.9576271186440678, 0.9533898305084746, 0.9491525423728814, 0.9533898305084746, 0.9576271186440678, 0.9533898305084746, 0.9533898305084746, 0.9533898305084746, 0.9491525423728814, 0.9491525423728814]\n",
      "average precision: [0.9393214132845885, 0.9334510553312318, 0.9276166065993632, 0.9334510553312318, 0.9393214132845885, 0.9334510553312318, 0.9334510553312318, 0.9334510553312318, 0.9276166065993632, 0.9276166065993632]\n",
      "EIF -> f1 score: [0.9449152542372882, 0.9449152542372882, 0.9491525423728814, 0.9491525423728814, 0.9449152542372882, 0.9449152542372882, 0.9449152542372882, 0.9364406779661016, 0.9364406779661016, 0.9449152542372882]\n",
      "average precision: [0.9218180670889826, 0.9218180670889826, 0.9276166065993632, 0.9276166065993632, 0.9218180670889826, 0.9218180670889826, 0.9218180670889826, 0.9103287157326857, 0.9103287157326857, 0.9218180670889826]\n",
      "EIF_plus -> f1 score: [0.9491525423728814, 0.9533898305084746, 0.9533898305084746, 0.9491525423728814, 0.9491525423728814, 0.9449152542372882, 0.9491525423728814, 0.940677966101695, 0.9491525423728814, 0.9449152542372882]\n",
      "average precision: [0.9276166065993632, 0.9334510553312318, 0.9334510553312318, 0.9276166065993632, 0.9276166065993632, 0.9218180670889826, 0.9276166065993632, 0.9160554368000902, 0.9276166065993632, 0.9218180670889826]\n",
      "-----------------------------------------------------------\n",
      "shuttle \n",
      "\n",
      "[numero elementi = 49097]\n",
      "[percentage outliers = 0.0715114976475141]\n",
      "[number features = 9]\n",
      "[number outliers = 3511]\n",
      "downsampled to 2500\n",
      "(2500, 9)\n"
     ]
    },
    {
     "name": "stderr",
     "output_type": "stream",
     "text": [
      "100%|██████████| 10/10 [01:26<00:00,  8.69s/it]\n",
      "100%|██████████| 10/10 [01:26<00:00,  8.68s/it]\n"
     ]
    },
    {
     "name": "stdout",
     "output_type": "stream",
     "text": [
      "--------------------------------------------------------\n",
      "shuttle\n",
      "\n",
      "f1 score and average precision no train test split \n",
      "IF -> f1 score: [0.0782122905027933, 0.0782122905027933, 0.0782122905027933, 0.08379888268156424, 0.0782122905027933, 0.0782122905027933, 0.0782122905027933, 0.0782122905027933, 0.08379888268156424, 0.08379888268156424]\n",
      "average precision: [0.07211716238569332, 0.07211716238569332, 0.07211716238569332, 0.07262225273867857, 0.07211716238569332, 0.07211716238569332, 0.07211716238569332, 0.07211716238569332, 0.07262225273867857, 0.07262225273867857]\n",
      "EIF -> f1 score: [0.07262569832402235, 0.07262569832402235, 0.0670391061452514, 0.055865921787709494, 0.0670391061452514, 0.07262569832402235, 0.0670391061452514, 0.0782122905027933, 0.07262569832402235, 0.0670391061452514]\n",
      "average precision: [0.0716744920570519, 0.0716744920570519, 0.07129424175275428, 0.07072100121719047, 0.07129424175275428, 0.0716744920570519, 0.07129424175275428, 0.07211716238569332, 0.0716744920570519, 0.07129424175275428]\n",
      "EIF_plus -> f1 score: [0.0670391061452514, 0.07262569832402235, 0.07262569832402235, 0.061452513966480445, 0.061452513966480445, 0.055865921787709494, 0.055865921787709494, 0.061452513966480445, 0.055865921787709494, 0.055865921787709494]\n",
      "average precision: [0.07129424175275428, 0.0716744920570519, 0.0716744920570519, 0.07097641147280047, 0.07097641147280047, 0.07072100121719047, 0.07072100121719047, 0.07097641147280047, 0.07072100121719047, 0.07072100121719047]\n",
      " \n",
      "f1 score and average precision with train test split \n",
      "IF -> f1 score: [0.9497206703910615, 0.9553072625698324, 0.9385474860335196, 0.9441340782122905, 0.9497206703910615, 0.9329608938547486, 0.9273743016759777, 0.9608938547486033, 0.9497206703910615, 0.9329608938547486]\n",
      "average precision: [0.9055693517680472, 0.9158119659186668, 0.8852713835398396, 0.8953891576417714, 0.9055693517680472, 0.8752160294622514, 0.8652230954090072, 0.9261170000936301, 0.9055693517680472, 0.8752160294622514]\n",
      "EIF -> f1 score: [0.9385474860335196, 0.9497206703910615, 0.9441340782122905, 0.9273743016759777, 0.9273743016759777, 0.9553072625698324, 0.9329608938547486, 0.9385474860335196, 0.9385474860335196, 0.9553072625698324]\n",
      "average precision: [0.8852713835398396, 0.9055693517680472, 0.8953891576417714, 0.8652230954090072, 0.8652230954090072, 0.9158119659186668, 0.8752160294622514, 0.8852713835398396, 0.8852713835398396, 0.9158119659186668]\n",
      "EIF_plus -> f1 score: [0.9664804469273743, 0.9664804469273743, 0.9664804469273743, 0.9608938547486033, 0.9608938547486033, 0.9608938547486033, 0.9608938547486033, 0.9664804469273743, 0.9608938547486033, 0.9664804469273743]\n",
      "average precision: [0.9364844542929373, 0.9364844542929373, 0.9364844542929373, 0.9261170000936301, 0.9261170000936301, 0.9261170000936301, 0.9261170000936301, 0.9364844542929373, 0.9261170000936301, 0.9364844542929373]\n",
      "-----------------------------------------------------------\n",
      "pima \n",
      "\n",
      "[numero elementi = 768]\n",
      "[percentage outliers = 0.3489583333333333]\n",
      "[number features = 8]\n",
      "[number outliers = 268]\n"
     ]
    },
    {
     "name": "stderr",
     "output_type": "stream",
     "text": [
      "100%|██████████| 10/10 [00:48<00:00,  4.86s/it]\n",
      "100%|██████████| 10/10 [00:50<00:00,  5.09s/it]\n"
     ]
    },
    {
     "name": "stdout",
     "output_type": "stream",
     "text": [
      "--------------------------------------------------------\n",
      "pima\n",
      "\n",
      "f1 score and average precision no train test split \n",
      "IF -> f1 score: [0.35447761194029853, 0.34701492537313433, 0.34328358208955223, 0.35074626865671643, 0.35820895522388063, 0.34701492537313433, 0.34701492537313433, 0.3694029850746269, 0.35447761194029853, 0.35820895522388063]\n",
      "average precision: [0.3509147940335635, 0.34828394176505534, 0.347010284398901, 0.3495854449766095, 0.35227198893591744, 0.34828394176505534, 0.34828394176505534, 0.3565106487153783, 0.3509147940335635, 0.35227198893591744]\n",
      "EIF -> f1 score: [0.34701492537313433, 0.35820895522388063, 0.35820895522388063, 0.34328358208955223, 0.34328358208955223, 0.34701492537313433, 0.35447761194029853, 0.35074626865671643, 0.35074626865671643, 0.35820895522388063]\n",
      "average precision: [0.34828394176505534, 0.35227198893591744, 0.35227198893591744, 0.347010284398901, 0.347010284398901, 0.34828394176505534, 0.3509147940335635, 0.3495854449766095, 0.3495854449766095, 0.35227198893591744]\n",
      "EIF_plus -> f1 score: [0.35820895522388063, 0.34701492537313433, 0.3656716417910448, 0.332089552238806, 0.35447761194029853, 0.35074626865671643, 0.34701492537313433, 0.33955223880597013, 0.35447761194029853, 0.34328358208955223]\n",
      "average precision: [0.35227198893591744, 0.34828394176505534, 0.3550699162768248, 0.3433563873728373, 0.3509147940335635, 0.3495854449766095, 0.34828394176505534, 0.34576447287814654, 0.3509147940335635, 0.347010284398901]\n",
      " \n",
      "f1 score and average precision with train test split \n",
      "IF -> f1 score: [0.5932835820895522, 0.5783582089552238, 0.6007462686567164, 0.5895522388059702, 0.582089552238806, 0.5746268656716418, 0.6007462686567164, 0.6007462686567164, 0.6044776119402985, 0.6007462686567164]\n",
      "average precision: [0.49391249211034377, 0.48163363453256103, 0.5002189959716343, 0.4908010089477983, 0.484661580158907, 0.4786335347516151, 0.5002189959716343, 0.5002189959716343, 0.5034140166703794, 0.5002189959716343]\n",
      "EIF -> f1 score: [0.5634328358208955, 0.5746268656716418, 0.585820895522388, 0.5783582089552238, 0.5746268656716418, 0.5671641791044776, 0.5746268656716418, 0.582089552238806, 0.5671641791044776, 0.5671641791044776]\n",
      "average precision: [0.4698003104811762, 0.4786335347516151, 0.48771737163065265, 0.48163363453256103, 0.4786335347516151, 0.47271687272592255, 0.4786335347516151, 0.484661580158907, 0.47271687272592255, 0.47271687272592255]\n",
      "EIF_plus -> f1 score: [0.585820895522388, 0.5932835820895522, 0.582089552238806, 0.5746268656716418, 0.5932835820895522, 0.585820895522388, 0.5783582089552238, 0.5895522388059702, 0.5895522388059702, 0.5522388059701493]\n",
      "average precision: [0.48771737163065265, 0.49391249211034377, 0.484661580158907, 0.4786335347516151, 0.49391249211034377, 0.48771737163065265, 0.48163363453256103, 0.4908010089477983, 0.4908010089477983, 0.46121769881933616]\n",
      "-----------------------------------------------------------\n",
      "cardio \n",
      "\n",
      "[numero elementi = 1822]\n",
      "[percentage outliers = 0.09604829857299671]\n",
      "[number features = 21]\n",
      "[number outliers = 175]\n"
     ]
    },
    {
     "name": "stderr",
     "output_type": "stream",
     "text": [
      "100%|██████████| 10/10 [01:16<00:00,  7.61s/it]\n",
      "100%|██████████| 10/10 [01:15<00:00,  7.52s/it]\n"
     ]
    },
    {
     "name": "stdout",
     "output_type": "stream",
     "text": [
      "--------------------------------------------------------\n",
      "cardio\n",
      "\n",
      "f1 score and average precision no train test split \n",
      "IF -> f1 score: [0.5314285714285715, 0.49714285714285716, 0.5085714285714286, 0.5085714285714286, 0.5428571428571428, 0.52, 0.48, 0.5257142857142857, 0.4342857142857143, 0.4857142857142857]\n",
      "average precision: [0.32742181500481643, 0.2954495934048702, 0.3058457761150563, 0.3058457761150563, 0.33860167118439033, 0.31650318331503846, 0.2803451152579583, 0.32192984609870295, 0.24293997625394834, 0.2853146351844799]\n",
      "EIF -> f1 score: [0.5485714285714286, 0.5885714285714285, 0.56, 0.5085714285714286, 0.5314285714285715, 0.5257142857142857, 0.5771428571428572, 0.5257142857142857, 0.5371428571428571, 0.5714285714285714]\n",
      "average precision: [0.34428955845785075, 0.3859333408006451, 0.3558612513721186, 0.3058457761150563, 0.32742181500481643, 0.32192984609870295, 0.3737085866618876, 0.32192984609870295, 0.3329790900333789, 0.3676941687761822]\n",
      "EIF_plus -> f1 score: [0.5085714285714286, 0.5028571428571429, 0.5542857142857143, 0.4857142857142857, 0.5314285714285715, 0.49142857142857144, 0.5085714285714286, 0.5142857142857142, 0.5485714285714286, 0.48]\n",
      "average precision: [0.3058457761150563, 0.3006150316987388, 0.35004275185376016, 0.2853146351844799, 0.32742181500481643, 0.29034946123345057, 0.3058457761150563, 0.31114182665382284, 0.34428955845785075, 0.2803451152579583]\n",
      " \n",
      "f1 score and average precision with train test split \n",
      "IF -> f1 score: [0.5885714285714285, 0.5942857142857143, 0.6189111747851003, 0.5828571428571429, 0.6342857142857142, 0.6171428571428571, 0.5828571428571429, 0.6457142857142857, 0.5942857142857143, 0.6057142857142858]\n",
      "average precision: [0.3859333408006451, 0.39214367705369746, 0.4198269643600655, 0.3797883106700419, 0.4374446022536347, 0.41763808329039626, 0.3797883106700419, 0.45097547884137185, 0.39214367705369746, 0.404760267927149]\n",
      "EIF -> f1 score: [0.7142857142857143, 0.72, 0.6742857142857143, 0.6742857142857143, 0.7028571428571428, 0.72, 0.6857142857142857, 0.7085714285714285, 0.7371428571428572, 0.72]\n",
      "average precision: [0.5376464526535093, 0.545293523600439, 0.485945527453572, 0.485945527453572, 0.5225482291269966, 0.545293523600439, 0.5003906897555949, 0.5300646878290283, 0.5686265731759224, 0.545293523600439]\n",
      "EIF_plus -> f1 score: [0.7257142857142859, 0.7085714285714285, 0.7314285714285713, 0.7371428571428572, 0.7428571428571429, 0.7257142857142859, 0.72, 0.72, 0.7257142857142859, 0.7542857142857143]\n",
      "average precision: [0.5530059006698179, 0.5300646878290283, 0.5607835838616456, 0.5686265731759224, 0.5765348686126482, 0.5530059006698179, 0.545293523600439, 0.545293523600439, 0.5530059006698179, 0.5925473778534466]\n",
      "-----------------------------------------------------------\n",
      "glass \n",
      "\n",
      "[numero elementi = 213]\n",
      "[percentage outliers = 0.04225352112676056]\n",
      "[number features = 9]\n",
      "[number outliers = 9]\n"
     ]
    },
    {
     "name": "stderr",
     "output_type": "stream",
     "text": [
      "100%|██████████| 10/10 [00:33<00:00,  3.39s/it]\n",
      "100%|██████████| 10/10 [00:33<00:00,  3.33s/it]\n"
     ]
    },
    {
     "name": "stdout",
     "output_type": "stream",
     "text": [
      "--------------------------------------------------------\n",
      "glass\n",
      "\n",
      "f1 score and average precision no train test split \n",
      "IF -> f1 score: [0.0, 0.0, 0.1111111111111111, 0.1111111111111111, 0.0, 0.0, 0.0, 0.1111111111111111, 0.1111111111111111, 0.0]\n",
      "average precision: [0.04225352112676056, 0.04225352112676056, 0.04990436445835506, 0.04990436445835506, 0.04225352112676056, 0.04225352112676056, 0.04225352112676056, 0.04990436445835506, 0.04990436445835506, 0.04225352112676056]\n",
      "EIF -> f1 score: [0.1111111111111111, 0.1111111111111111, 0.1111111111111111, 0.1111111111111111, 0.1111111111111111, 0.1111111111111111, 0.1111111111111111, 0.0, 0.1111111111111111, 0.1111111111111111]\n",
      "average precision: [0.04990436445835506, 0.04990436445835506, 0.04990436445835506, 0.04990436445835506, 0.04990436445835506, 0.04990436445835506, 0.04990436445835506, 0.04225352112676056, 0.04990436445835506, 0.04990436445835506]\n",
      "EIF_plus -> f1 score: [0.1111111111111111, 0.1111111111111111, 0.1111111111111111, 0.1111111111111111, 0.1111111111111111, 0.1111111111111111, 0.1111111111111111, 0.1111111111111111, 0.1111111111111111, 0.1111111111111111]\n",
      "average precision: [0.04990436445835506, 0.04990436445835506, 0.04990436445835506, 0.04990436445835506, 0.04990436445835506, 0.04990436445835506, 0.04990436445835506, 0.04990436445835506, 0.04990436445835506, 0.04990436445835506]\n",
      " \n",
      "f1 score and average precision with train test split \n",
      "IF -> f1 score: [0.1111111111111111, 0.1111111111111111, 0.1111111111111111, 0.1111111111111111, 0.1111111111111111, 0.1111111111111111, 0.1111111111111111, 0.1111111111111111, 0.1111111111111111, 0.1111111111111111]\n",
      "average precision: [0.04990436445835506, 0.04990436445835506, 0.04990436445835506, 0.04990436445835506, 0.04990436445835506, 0.04990436445835506, 0.04990436445835506, 0.04990436445835506, 0.04990436445835506, 0.04990436445835506]\n",
      "EIF -> f1 score: [0.1111111111111111, 0.1111111111111111, 0.1111111111111111, 0.1111111111111111, 0.1111111111111111, 0.0, 0.0, 0.1111111111111111, 0.1111111111111111, 0.1111111111111111]\n",
      "average precision: [0.04990436445835506, 0.04990436445835506, 0.04990436445835506, 0.04990436445835506, 0.04990436445835506, 0.04225352112676056, 0.04225352112676056, 0.04990436445835506, 0.04990436445835506, 0.04990436445835506]\n",
      "EIF_plus -> f1 score: [0.1111111111111111, 0.1111111111111111, 0.1111111111111111, 0.1111111111111111, 0.1111111111111111, 0.1111111111111111, 0.1111111111111111, 0.1111111111111111, 0.1111111111111111, 0.1111111111111111]\n",
      "average precision: [0.04990436445835506, 0.04990436445835506, 0.04990436445835506, 0.04990436445835506, 0.04990436445835506, 0.04990436445835506, 0.04990436445835506, 0.04990436445835506, 0.04990436445835506, 0.04990436445835506]\n",
      "-----------------------------------------------------------\n",
      "ionosphere \n",
      "\n",
      "[numero elementi = 350]\n",
      "[percentage outliers = 0.35714285714285715]\n",
      "[number features = 33]\n",
      "[number outliers = 125]\n"
     ]
    },
    {
     "name": "stderr",
     "output_type": "stream",
     "text": [
      "100%|██████████| 10/10 [00:41<00:00,  4.16s/it]\n",
      "100%|██████████| 10/10 [00:41<00:00,  4.11s/it]\n"
     ]
    },
    {
     "name": "stdout",
     "output_type": "stream",
     "text": [
      "--------------------------------------------------------\n",
      "ionosphere\n",
      "\n",
      "f1 score and average precision no train test split \n",
      "IF -> f1 score: [0.22400000000000003, 0.208, 0.208, 0.22400000000000003, 0.216, 0.208, 0.22400000000000003, 0.216, 0.216, 0.208]\n",
      "average precision: [0.32731885714285713, 0.3261211428571429, 0.3261211428571429, 0.32731885714285713, 0.326656, 0.3261211428571429, 0.32731885714285713, 0.326656, 0.326656, 0.3261211428571429]\n",
      "EIF -> f1 score: [0.192, 0.208, 0.216, 0.184, 0.184, 0.20000000000000004, 0.184, 0.192, 0.208, 0.20000000000000004]\n",
      "average precision: [0.3254354285714286, 0.3261211428571429, 0.326656, 0.3252845714285715, 0.3252845714285715, 0.32571428571428573, 0.3252845714285715, 0.3254354285714286, 0.3261211428571429, 0.32571428571428573]\n",
      "EIF_plus -> f1 score: [0.192, 0.184, 0.184, 0.176, 0.176, 0.176, 0.184, 0.20000000000000004, 0.176, 0.176]\n",
      "average precision: [0.3254354285714286, 0.3252845714285715, 0.3252845714285715, 0.3252617142857143, 0.3252617142857143, 0.3252617142857143, 0.3252845714285715, 0.32571428571428573, 0.3252617142857143, 0.3252617142857143]\n",
      " \n",
      "f1 score and average precision with train test split \n",
      "IF -> f1 score: [0.792, 0.816, 0.792, 0.824, 0.776, 0.8399999999999999, 0.816, 0.8000000000000002, 0.8399999999999999, 0.792]\n",
      "average precision: [0.7015497142857143, 0.7315702857142856, 0.7015497142857143, 0.7418331428571427, 0.682176, 0.7627428571428571, 0.7315702857142856, 0.7114285714285715, 0.7627428571428571, 0.7015497142857143]\n",
      "EIF -> f1 score: [0.8399999999999999, 0.872, 0.8399999999999999, 0.856, 0.856, 0.848, 0.864, 0.864, 0.872, 0.856]\n",
      "average precision: [0.7627428571428571, 0.8060982857142857, 0.7627428571428571, 0.7841645714285714, 0.7841645714285714, 0.7733897142857142, 0.7950674285714285, 0.7950674285714285, 0.8060982857142857, 0.7841645714285714]\n",
      "EIF_plus -> f1 score: [0.88, 0.888, 0.888, 0.8960000000000001, 0.888, 0.872, 0.872, 0.88, 0.888, 0.88]\n",
      "average precision: [0.8172571428571428, 0.8285440000000001, 0.8285440000000001, 0.8399588571428572, 0.8285440000000001, 0.8060982857142857, 0.8060982857142857, 0.8172571428571428, 0.8285440000000001, 0.8172571428571428]\n",
      "-----------------------------------------------------------\n",
      "pendigits \n",
      "\n",
      "[numero elementi = 6870]\n",
      "[percentage outliers = 0.022707423580786028]\n",
      "[number features = 16]\n",
      "[number outliers = 156]\n",
      "downsampled to 2500\n",
      "(2500, 16)\n"
     ]
    },
    {
     "name": "stderr",
     "output_type": "stream",
     "text": [
      "100%|██████████| 10/10 [01:33<00:00,  9.31s/it]\n",
      "100%|██████████| 10/10 [01:32<00:00,  9.21s/it]\n"
     ]
    },
    {
     "name": "stdout",
     "output_type": "stream",
     "text": [
      "--------------------------------------------------------\n",
      "pendigits\n",
      "\n",
      "f1 score and average precision no train test split \n",
      "IF -> f1 score: [0.017543859649122806, 0.0, 0.0, 0.0, 0.0, 0.0, 0.0, 0.0, 0.0, 0.0]\n",
      "average precision: [0.02270778701138812, 0.0228, 0.0228, 0.0228, 0.0228, 0.0228, 0.0228, 0.0228, 0.0228, 0.0228]\n",
      "EIF -> f1 score: [0.0, 0.0, 0.0, 0.0, 0.0, 0.0, 0.0, 0.0, 0.0, 0.0]\n",
      "average precision: [0.0228, 0.0228, 0.0228, 0.0228, 0.0228, 0.0228, 0.0228, 0.0228, 0.0228, 0.0228]\n",
      "EIF_plus -> f1 score: [0.0, 0.0, 0.0, 0.017543859649122806, 0.0, 0.0, 0.0, 0.0, 0.0, 0.0]\n",
      "average precision: [0.0228, 0.0228, 0.0228, 0.02270778701138812, 0.0228, 0.0228, 0.0228, 0.0228, 0.0228, 0.0228]\n",
      " \n",
      "f1 score and average precision with train test split \n",
      "IF -> f1 score: [0.42105263157894735, 0.43859649122807015, 0.45614035087719296, 0.43859649122807015, 0.47368421052631576, 0.47368421052631576, 0.45614035087719296, 0.43859649122807015, 0.43859649122807015, 0.3684210526315789]\n",
      "average precision: [0.19048531855955675, 0.2051668821175746, 0.2204640196983687, 0.2051668821175746, 0.23637673130193904, 0.23637673130193904, 0.2204640196983687, 0.2051668821175746, 0.2051668821175746, 0.15013407202216064]\n",
      "EIF -> f1 score: [0.3684210526315789, 0.38596491228070173, 0.3508771929824561, 0.3684210526315789, 0.40350877192982454, 0.3684210526315789, 0.40350877192982454, 0.3684210526315789, 0.42105263157894735, 0.43859649122807015]\n",
      "average precision: [0.15013407202216064, 0.1629689135118498, 0.13791480455524777, 0.15013407202216064, 0.17641932902431515, 0.15013407202216064, 0.17641932902431515, 0.15013407202216064, 0.19048531855955675, 0.2051668821175746]\n",
      "EIF_plus -> f1 score: [0.43859649122807015, 0.49122807017543857, 0.45614035087719296, 0.40350877192982454, 0.42105263157894735, 0.40350877192982454, 0.49122807017543857, 0.5263157894736842, 0.42105263157894735, 0.38596491228070173]\n",
      "average precision: [0.2051668821175746, 0.2529050169282856, 0.2204640196983687, 0.17641932902431515, 0.19048531855955675, 0.17641932902431515, 0.2529050169282856, 0.2878083102493074, 0.19048531855955675, 0.1629689135118498]\n",
      "-----------------------------------------------------------\n",
      "diabetes \n",
      "\n",
      "[numero elementi = 85916]\n",
      "[percentage outliers = 0.096582708692211]\n",
      "[number features = 4]\n",
      "[number outliers = 8298]\n",
      "downsampled to 2500\n",
      "(2500, 4)\n"
     ]
    },
    {
     "name": "stderr",
     "output_type": "stream",
     "text": [
      "100%|██████████| 10/10 [01:28<00:00,  8.84s/it]\n",
      "100%|██████████| 10/10 [01:25<00:00,  8.60s/it]\n"
     ]
    },
    {
     "name": "stdout",
     "output_type": "stream",
     "text": [
      "--------------------------------------------------------\n",
      "diabetes\n",
      "\n",
      "f1 score and average precision no train test split \n",
      "IF -> f1 score: [0.1037344398340249, 0.0995850622406639, 0.1078838174273859, 0.0995850622406639, 0.1037344398340249, 0.0995850622406639, 0.11203319502074689, 0.0995850622406639, 0.1037344398340249, 0.0995850622406639]\n",
      "average precision: [0.09716083400767894, 0.09671718462147691, 0.09763891806270553, 0.09671718462147691, 0.09716083400767894, 0.09671718462147691, 0.0981514367865567, 0.09671718462147691, 0.09716083400767894, 0.09671718462147691]\n",
      "EIF -> f1 score: [0.0912863070539419, 0.0954356846473029, 0.0954356846473029, 0.0912863070539419, 0.0954356846473029, 0.0954356846473029, 0.0954356846473029, 0.1037344398340249, 0.0954356846473029, 0.0995850622406639]\n",
      "average precision: [0.09593318985554657, 0.09630796990409944, 0.09630796990409944, 0.09593318985554657, 0.09630796990409944, 0.09630796990409944, 0.09630796990409944, 0.09716083400767894, 0.09630796990409944, 0.09671718462147691]\n",
      "EIF_plus -> f1 score: [0.0912863070539419, 0.0995850622406639, 0.0995850622406639, 0.0912863070539419, 0.0954356846473029, 0.0954356846473029, 0.0995850622406639, 0.0954356846473029, 0.0954356846473029, 0.0995850622406639]\n",
      "average precision: [0.09593318985554657, 0.09671718462147691, 0.09671718462147691, 0.09593318985554657, 0.09630796990409944, 0.09630796990409944, 0.09671718462147691, 0.09630796990409944, 0.09630796990409944, 0.09671718462147691]\n",
      " \n",
      "f1 score and average precision with train test split \n",
      "IF -> f1 score: [0.34024896265560167, 0.3029045643153527, 0.2946058091286307, 0.2946058091286307, 0.2987551867219917, 0.34024896265560167, 0.3360995850622407, 0.34024896265560167, 0.34854771784232363, 0.3153526970954357]\n",
      "average precision: [0.179369356588213, 0.1589511750830736, 0.15479258277233518, 0.15479258277233518, 0.15685466159329212, 0.179369356588213, 0.17696293107901037, 0.179369356588213, 0.18428551161309203, 0.16544732356536562]\n",
      "EIF -> f1 score: [0.5892116182572614, 0.6016597510373444, 0.5892116182572614, 0.5933609958506224, 0.5850622406639004, 0.5933609958506224, 0.5975103734439834, 0.5975103734439834, 0.6058091286307054, 0.6058091286307054]\n",
      "average precision: [0.3867703310893408, 0.4003944560183192, 0.3867703310893408, 0.3912772713968424, 0.38229782545066376, 0.3912772713968424, 0.3958186463731685, 0.3958186463731685, 0.4050047003322945, 0.4050047003322945]\n",
      "EIF_plus -> f1 score: [0.6141078838174274, 0.6182572614107884, 0.6182572614107884, 0.6182572614107884, 0.6058091286307054, 0.6182572614107884, 0.6099585062240664, 0.6141078838174274, 0.6099585062240664, 0.5975103734439834]\n",
      "average precision: [0.414328492966719, 0.41904204128716793, 0.41904204128716793, 0.41904204128716793, 0.4050047003322945, 0.41904204128716793, 0.4096493793150945, 0.414328492966719, 0.4096493793150945, 0.3958186463731685]\n",
      "-----------------------------------------------------------\n",
      "moodify \n",
      "\n",
      "[numero elementi = 276260]\n",
      "[percentage outliers = 0.1527112140736987]\n",
      "[number features = 11]\n",
      "[number outliers = 42188]\n",
      "downsampled to 2500\n",
      "(2500, 11)\n"
     ]
    },
    {
     "name": "stderr",
     "output_type": "stream",
     "text": [
      "100%|██████████| 10/10 [01:29<00:00,  8.98s/it]\n",
      "100%|██████████| 10/10 [01:28<00:00,  8.87s/it]"
     ]
    },
    {
     "name": "stdout",
     "output_type": "stream",
     "text": [
      "--------------------------------------------------------\n",
      "moodify\n",
      "\n",
      "f1 score and average precision no train test split \n",
      "IF -> f1 score: [0.15968586387434555, 0.17015706806282724, 0.16753926701570682, 0.15968586387434555, 0.17015706806282724, 0.15968586387434555, 0.16753926701570682, 0.1649214659685864, 0.17277486910994763, 0.16230366492146597]\n",
      "average precision: [0.153899575121296, 0.15575342781173762, 0.15526940599216033, 0.153899575121296, 0.15575342781173762, 0.153899575121296, 0.15526940599216033, 0.1547990899372276, 0.15625115539595952, 0.1543424796469395]\n",
      "EIF -> f1 score: [0.14397905759162305, 0.14921465968586387, 0.1387434554973822, 0.13612565445026178, 0.1518324607329843, 0.13089005235602094, 0.14136125654450263, 0.14921465968586387, 0.14921465968586387, 0.14921465968586387]\n",
      "average precision: [0.15152996902497187, 0.15226501466516815, 0.15084974644335408, 0.15053019379951205, 0.1526530961322332, 0.14993220580576191, 0.15118300485184066, 0.15226501466516815, 0.15226501466516815, 0.15226501466516815]\n",
      "EIF_plus -> f1 score: [0.1544502617801047, 0.1518324607329843, 0.1518324607329843, 0.1518324607329843, 0.14659685863874344, 0.1518324607329843, 0.1518324607329843, 0.14397905759162305, 0.1518324607329843, 0.14397905759162305]\n",
      "average precision: [0.15305488336394288, 0.1526530961322332, 0.1526530961322332, 0.1526530961322332, 0.15189063896274774, 0.1526530961322332, 0.1526530961322332, 0.15152996902497187, 0.1526530961322332, 0.15152996902497187]\n",
      " \n",
      "f1 score and average precision with train test split \n",
      "IF -> f1 score: [0.7905759162303664, 0.7696335078534031, 0.7591623036649215, 0.774869109947644, 0.756544502617801, 0.7513089005235604, 0.756544502617801, 0.7643979057591623, 0.7670157068062827, 0.7643979057591623]\n",
      "average precision: [0.6570102793234834, 0.6275357364107343, 0.6131274033058305, 0.634822137551054, 0.6095595844412159, 0.602465064005921, 0.6095595844412159, 0.6203041583289932, 0.6239130944875414, 0.6203041583289932]\n",
      "EIF -> f1 score: [0.7041884816753927, 0.7277486910994765, 0.7329842931937173, 0.7015706806282722, 0.7303664921465969, 0.743455497382199, 0.7329842931937173, 0.7303664921465969, 0.7015706806282722, 0.7068062827225131]\n",
      "average precision: [0.5410814177242949, 0.5712181573970012, 0.5780659740686932, 0.5378014199172171, 0.574635212850525, 0.5919260765878128, 0.5780659740686932, 0.574635212850525, 0.5378014199172171, 0.5443751212960172]\n",
      "EIF_plus -> f1 score: [0.7356020942408377, 0.7277486910994765, 0.7068062827225131, 0.6858638743455497, 0.7408376963350787, 0.7172774869109948, 0.7329842931937173, 0.7303664921465969, 0.7094240837696334, 0.7329842931937173]\n",
      "average precision: [0.5815104410515062, 0.5712181573970012, 0.5443751212960172, 0.5184092541322881, 0.5884404923110661, 0.5576869932293523, 0.5780659740686932, 0.574635212850525, 0.5476825306323839, 0.5780659740686932]\n",
      "-----------------------------------------------------------\n"
     ]
    },
    {
     "name": "stderr",
     "output_type": "stream",
     "text": [
      "\n"
     ]
    }
   ],
   "source": [
    "dataset_names=['wine','annthyroid','breastw','shuttle','pima','cardio','glass',\n",
    "             'ionosphere','pendigits','diabetes','moodify']\n",
    "for name in dataset_names:\n",
    "    metrics_dict,metrics_dict_split=performance_report(name,metrics_dict,metrics_dict_split)"
   ]
  },
  {
   "cell_type": "markdown",
   "metadata": {},
   "source": [
    "## Save in pkl file"
   ]
  },
  {
   "cell_type": "code",
   "execution_count": 9,
   "metadata": {},
   "outputs": [
    {
     "data": {
      "text/plain": [
       "'c:\\\\Users\\\\lemeda98\\\\Desktop\\\\PHD Information Engineering\\\\ExIFFI\\\\ExIFFI\\\\results\\\\davide\\\\Performance Report'"
      ]
     },
     "execution_count": 9,
     "metadata": {},
     "output_type": "execute_result"
    }
   ],
   "source": [
    "os.chdir('c:\\\\Users\\\\lemeda98\\\\Desktop\\\\PHD Information Engineering\\\\ExIFFI\\\\ExIFFI\\\\results\\\\davide\\\\Performance Report')\n",
    "path=os.getcwd()\n",
    "path"
   ]
  },
  {
   "cell_type": "code",
   "execution_count": 97,
   "metadata": {},
   "outputs": [],
   "source": [
    "path = path + '\\\\Performance_Report_final_synt.pkl'\n",
    "with open(path, 'wb') as f:\n",
    "    pickle.dump(metrics_dict_split,f)"
   ]
  },
  {
   "cell_type": "markdown",
   "metadata": {},
   "source": [
    "### Read from pkl file"
   ]
  },
  {
   "cell_type": "code",
   "execution_count": 10,
   "metadata": {},
   "outputs": [],
   "source": [
    "os.chdir('c:\\\\Users\\\\lemeda98\\\\Desktop\\\\PHD Information Engineering\\\\ExIFFI\\\\ExIFFI')\n",
    "path = os.getcwd() + '\\\\results\\\\davide\\\\Performance Report\\\\Performance_Report_final_synt.pkl'\n",
    "with open(path, 'rb') as f:\n",
    "    Performance_report_synt = pickle.load(f)"
   ]
  },
  {
   "cell_type": "code",
   "execution_count": 11,
   "metadata": {},
   "outputs": [
    {
     "name": "stdout",
     "output_type": "stream",
     "text": [
      "Precision_avg -> 0.35300000000000004\n",
      "Recall_avg -> 0.35300000000000004\n",
      "f1 score_avg -> 0.35300000000000004\n",
      "Accuracy_avg -> 0.8823636363636365\n",
      "Balanced Accuracy_avg -> 0.64415\n",
      "Average Precision_avg -> 0.18420818181818183\n",
      "ROC AUC Score_avg -> 0.64415\n"
     ]
    }
   ],
   "source": [
    "metric_names=['Precision', 'Recall', 'f1 score', 'Accuracy', 'Balanced Accuracy', 'Average Precision', 'ROC AUC Score']\n",
    "metric_names_avg=['Precision_avg', 'Recall_avg', 'f1 score_avg', 'Accuracy_avg', 'Balanced Accuracy_avg', 'Average Precision_avg', 'ROC AUC Score_avg']\n",
    "\n",
    "\n",
    "for metric_name in metric_names_avg: \n",
    "    print(f'{metric_name} -> {Performance_report_synt[\"Xaxis\"][\"EIF\"][metric_name]}')"
   ]
  },
  {
   "cell_type": "code",
   "execution_count": 105,
   "metadata": {},
   "outputs": [
    {
     "data": {
      "text/plain": [
       "{'Precision': 1.0,\n",
       " 'Recall': 1.0,\n",
       " 'f1 score': 1.0,\n",
       " 'Accuracy': 1.0,\n",
       " 'Balanced Accuracy': 1.0,\n",
       " 'Average Precision': 1.0,\n",
       " 'ROC AUC': 1.0}"
      ]
     },
     "execution_count": 105,
     "metadata": {},
     "output_type": "execute_result"
    }
   ],
   "source": [
    "Performance_report_synt_split['Bisect_6d']['EIF_plus']"
   ]
  },
  {
   "cell_type": "markdown",
   "metadata": {},
   "source": [
    "### X xaxis"
   ]
  },
  {
   "cell_type": "code",
   "execution_count": null,
   "metadata": {},
   "outputs": [],
   "source": [
    "name='X_xaxis'\n",
    "scaler=StandardScaler()\n",
    "X=np.r_[X_train,X_test]\n",
    "X=scaler.fit_transform(X)\n",
    "y_train=np.zeros(X_train.shape[0])\n",
    "y_test=np.ones(X_xaxis.shape[0])\n",
    "y=np.concatenate([y_train,y_test])\n",
    "p=sum(y)/len(y)\n",
    "EIF = ExtendedIF(300,subsample_size=min(len(X_train),300),plus=1)\n",
    "EIF.fit(X_train)"
   ]
  },
  {
   "cell_type": "code",
   "execution_count": 32,
   "metadata": {},
   "outputs": [],
   "source": [
    "name='X_xaxis_no_split'\n",
    "scaler=StandardScaler()\n",
    "X=np.r_[X_train,X_xaxis]\n",
    "X=scaler.fit_transform(X)\n",
    "y_train=np.zeros(X_train.shape[0])\n",
    "y_test=np.ones(X_xaxis.shape[0])\n",
    "y=np.concatenate([y_train,y_test])\n",
    "p=sum(y)/len(y)\n",
    "EIF = ExtendedIF(300,subsample_size=min(len(X_train),300),plus=1)\n",
    "EIF.fit(X_test)"
   ]
  },
  {
   "cell_type": "markdown",
   "metadata": {},
   "source": [
    "#### IF "
   ]
  },
  {
   "cell_type": "code",
   "execution_count": 88,
   "metadata": {},
   "outputs": [
    {
     "data": {
      "text/html": [
       "<style>#sk-container-id-9 {color: black;background-color: white;}#sk-container-id-9 pre{padding: 0;}#sk-container-id-9 div.sk-toggleable {background-color: white;}#sk-container-id-9 label.sk-toggleable__label {cursor: pointer;display: block;width: 100%;margin-bottom: 0;padding: 0.3em;box-sizing: border-box;text-align: center;}#sk-container-id-9 label.sk-toggleable__label-arrow:before {content: \"▸\";float: left;margin-right: 0.25em;color: #696969;}#sk-container-id-9 label.sk-toggleable__label-arrow:hover:before {color: black;}#sk-container-id-9 div.sk-estimator:hover label.sk-toggleable__label-arrow:before {color: black;}#sk-container-id-9 div.sk-toggleable__content {max-height: 0;max-width: 0;overflow: hidden;text-align: left;background-color: #f0f8ff;}#sk-container-id-9 div.sk-toggleable__content pre {margin: 0.2em;color: black;border-radius: 0.25em;background-color: #f0f8ff;}#sk-container-id-9 input.sk-toggleable__control:checked~div.sk-toggleable__content {max-height: 200px;max-width: 100%;overflow: auto;}#sk-container-id-9 input.sk-toggleable__control:checked~label.sk-toggleable__label-arrow:before {content: \"▾\";}#sk-container-id-9 div.sk-estimator input.sk-toggleable__control:checked~label.sk-toggleable__label {background-color: #d4ebff;}#sk-container-id-9 div.sk-label input.sk-toggleable__control:checked~label.sk-toggleable__label {background-color: #d4ebff;}#sk-container-id-9 input.sk-hidden--visually {border: 0;clip: rect(1px 1px 1px 1px);clip: rect(1px, 1px, 1px, 1px);height: 1px;margin: -1px;overflow: hidden;padding: 0;position: absolute;width: 1px;}#sk-container-id-9 div.sk-estimator {font-family: monospace;background-color: #f0f8ff;border: 1px dotted black;border-radius: 0.25em;box-sizing: border-box;margin-bottom: 0.5em;}#sk-container-id-9 div.sk-estimator:hover {background-color: #d4ebff;}#sk-container-id-9 div.sk-parallel-item::after {content: \"\";width: 100%;border-bottom: 1px solid gray;flex-grow: 1;}#sk-container-id-9 div.sk-label:hover label.sk-toggleable__label {background-color: #d4ebff;}#sk-container-id-9 div.sk-serial::before {content: \"\";position: absolute;border-left: 1px solid gray;box-sizing: border-box;top: 0;bottom: 0;left: 50%;z-index: 0;}#sk-container-id-9 div.sk-serial {display: flex;flex-direction: column;align-items: center;background-color: white;padding-right: 0.2em;padding-left: 0.2em;position: relative;}#sk-container-id-9 div.sk-item {position: relative;z-index: 1;}#sk-container-id-9 div.sk-parallel {display: flex;align-items: stretch;justify-content: center;background-color: white;position: relative;}#sk-container-id-9 div.sk-item::before, #sk-container-id-9 div.sk-parallel-item::before {content: \"\";position: absolute;border-left: 1px solid gray;box-sizing: border-box;top: 0;bottom: 0;left: 50%;z-index: -1;}#sk-container-id-9 div.sk-parallel-item {display: flex;flex-direction: column;z-index: 1;position: relative;background-color: white;}#sk-container-id-9 div.sk-parallel-item:first-child::after {align-self: flex-end;width: 50%;}#sk-container-id-9 div.sk-parallel-item:last-child::after {align-self: flex-start;width: 50%;}#sk-container-id-9 div.sk-parallel-item:only-child::after {width: 0;}#sk-container-id-9 div.sk-dashed-wrapped {border: 1px dashed gray;margin: 0 0.4em 0.5em 0.4em;box-sizing: border-box;padding-bottom: 0.4em;background-color: white;}#sk-container-id-9 div.sk-label label {font-family: monospace;font-weight: bold;display: inline-block;line-height: 1.2em;}#sk-container-id-9 div.sk-label-container {text-align: center;}#sk-container-id-9 div.sk-container {/* jupyter's `normalize.less` sets `[hidden] { display: none; }` but bootstrap.min.css set `[hidden] { display: none !important; }` so we also need the `!important` here to be able to override the default hidden behavior on the sphinx rendered scikit-learn.org. See: https://github.com/scikit-learn/scikit-learn/issues/21755 */display: inline-block !important;position: relative;}#sk-container-id-9 div.sk-text-repr-fallback {display: none;}</style><div id=\"sk-container-id-9\" class=\"sk-top-container\"><div class=\"sk-text-repr-fallback\"><pre>IsolationForest(max_samples=300, n_estimators=300)</pre><b>In a Jupyter environment, please rerun this cell to show the HTML representation or trust the notebook. <br />On GitHub, the HTML representation is unable to render, please try loading this page with nbviewer.org.</b></div><div class=\"sk-container\" hidden><div class=\"sk-item\"><div class=\"sk-estimator sk-toggleable\"><input class=\"sk-toggleable__control sk-hidden--visually\" id=\"sk-estimator-id-9\" type=\"checkbox\" checked><label for=\"sk-estimator-id-9\" class=\"sk-toggleable__label sk-toggleable__label-arrow\">IsolationForest</label><div class=\"sk-toggleable__content\"><pre>IsolationForest(max_samples=300, n_estimators=300)</pre></div></div></div></div></div>"
      ],
      "text/plain": [
       "IsolationForest(max_samples=300, n_estimators=300)"
      ]
     },
     "execution_count": 88,
     "metadata": {},
     "output_type": "execute_result"
    }
   ],
   "source": [
    "name='X_xaxis'\n",
    "scaler=StandardScaler()\n",
    "X=np.r_[X_train,X_xaxis]\n",
    "X=scaler.fit_transform(X)\n",
    "#X_train=scaler.fit_transform(X_train)\n",
    "#X_xaxis=scaler.transform(X_yaxis)\n",
    "y_train=np.zeros(X_train.shape[0])\n",
    "y_test=np.ones(X_xaxis.shape[0])\n",
    "y=np.concatenate([y_train,y_test])\n",
    "p=sum(y)/len(y)\n",
    "IF=IsolationForest(n_estimators=300,max_samples=min(len(X_train),300))\n",
    "IF.fit(X)"
   ]
  },
  {
   "cell_type": "code",
   "execution_count": 9,
   "metadata": {},
   "outputs": [],
   "source": [
    "metrics_dict={}"
   ]
  },
  {
   "cell_type": "markdown",
   "metadata": {},
   "source": [
    "Performance IF"
   ]
  },
  {
   "cell_type": "code",
   "execution_count": 90,
   "metadata": {},
   "outputs": [],
   "source": [
    "#X_test=np.r_[X_train,X_yaxis]\n",
    "score=-1*IF.score_samples(X)+0.5\n",
    "y_pred=if_predict(score,p)\n",
    "#score=IF.score_samples(X)\n",
    "#y_pred=IF.predict(X)\n",
    "d={}\n",
    "d['Precision']=sklearn.metrics.precision_score(y,y_pred)\n",
    "d['Recall']=sklearn.metrics.recall_score(y,y_pred)\n",
    "d['f1 score']=sklearn.metrics.f1_score(y,y_pred)\n",
    "d['Accuracy']=sklearn.metrics.accuracy_score(y,y_pred)\n",
    "d['Balanced Accuracy']=sklearn.metrics.balanced_accuracy_score(y,y_pred)\n",
    "d['Average Precision']=sklearn.metrics.average_precision_score(y,score)\n",
    "d['ROC AUC']=sklearn.metrics.roc_auc_score(y,score)\n",
    "metrics_dict[name]=d"
   ]
  },
  {
   "cell_type": "code",
   "execution_count": 91,
   "metadata": {},
   "outputs": [
    {
     "data": {
      "text/plain": [
       "{'Precision': 0.55,\n",
       " 'Recall': 0.55,\n",
       " 'f1 score': 0.55,\n",
       " 'Accuracy': 0.9181818181818182,\n",
       " 'Balanced Accuracy': 0.7525,\n",
       " 'Average Precision': 0.6553982306409518,\n",
       " 'ROC AUC': 0.90201}"
      ]
     },
     "execution_count": 91,
     "metadata": {},
     "output_type": "execute_result"
    }
   ],
   "source": [
    "metrics_dict[name]"
   ]
  },
  {
   "cell_type": "markdown",
   "metadata": {},
   "source": [
    "Performance EIF/EIF+"
   ]
  },
  {
   "cell_type": "code",
   "execution_count": 33,
   "metadata": {},
   "outputs": [],
   "source": [
    "#X_test=np.r_[X_train,X_xaxis]\n",
    "y_pred=EIF._predict(X_test,p).astype(int)\n",
    "score=EIF.Anomaly_Score(X_test)\n",
    "d={}\n",
    "d['Precision']=sklearn.metrics.precision_score(y,y_pred)\n",
    "d['Recall']=sklearn.metrics.recall_score(y,y_pred)\n",
    "d['f1 score']=sklearn.metrics.f1_score(y,y_pred)\n",
    "d['Accuracy']=sklearn.metrics.accuracy_score(y,y_pred)\n",
    "d['Balanced Accuracy']=sklearn.metrics.balanced_accuracy_score(y,y_pred)\n",
    "d['Average Precision']=sklearn.metrics.average_precision_score(y,score)\n",
    "d['ROC AUC']=sklearn.metrics.roc_auc_score(y,score)\n",
    "metrics_dict[name]=d"
   ]
  },
  {
   "cell_type": "code",
   "execution_count": 34,
   "metadata": {},
   "outputs": [
    {
     "data": {
      "text/plain": [
       "{'Precision': 0.7373737373737373,\n",
       " 'Recall': 0.73,\n",
       " 'f1 score': 0.7336683417085427,\n",
       " 'Accuracy': 0.9518181818181818,\n",
       " 'Balanced Accuracy': 0.852,\n",
       " 'Average Precision': 0.802446308277685,\n",
       " 'ROC AUC': 0.917165}"
      ]
     },
     "execution_count": 34,
     "metadata": {},
     "output_type": "execute_result"
    }
   ],
   "source": [
    "metrics_dict[name]"
   ]
  },
  {
   "cell_type": "markdown",
   "metadata": {},
   "source": [
    "### X yaxis"
   ]
  },
  {
   "cell_type": "code",
   "execution_count": 104,
   "metadata": {},
   "outputs": [],
   "source": [
    "file_to_read = open(os.getcwd()+'\\\\ball_6_dim.pkl', \"rb\")\n",
    "loaded_dictionary = pickle.load(file_to_read)\n",
    "X_train=loaded_dictionary['X_train']"
   ]
  },
  {
   "cell_type": "code",
   "execution_count": null,
   "metadata": {},
   "outputs": [],
   "source": [
    "name='X_yaxis'\n",
    "y_train=np.zeros(X_train.shape[0])\n",
    "y_test=np.ones(X_xaxis.shape[0])\n",
    "y=np.concatenate([y_train,y_test])\n",
    "p=sum(y)/len(y)\n",
    "EIF = ExtendedIF(300,subsample_size=min(len(X_train),300),plus=1)\n",
    "EIF.fit(X_train)"
   ]
  },
  {
   "cell_type": "markdown",
   "metadata": {},
   "source": [
    "#### IF"
   ]
  },
  {
   "cell_type": "code",
   "execution_count": 110,
   "metadata": {},
   "outputs": [
    {
     "data": {
      "text/html": [
       "<style>#sk-container-id-12 {color: black;background-color: white;}#sk-container-id-12 pre{padding: 0;}#sk-container-id-12 div.sk-toggleable {background-color: white;}#sk-container-id-12 label.sk-toggleable__label {cursor: pointer;display: block;width: 100%;margin-bottom: 0;padding: 0.3em;box-sizing: border-box;text-align: center;}#sk-container-id-12 label.sk-toggleable__label-arrow:before {content: \"▸\";float: left;margin-right: 0.25em;color: #696969;}#sk-container-id-12 label.sk-toggleable__label-arrow:hover:before {color: black;}#sk-container-id-12 div.sk-estimator:hover label.sk-toggleable__label-arrow:before {color: black;}#sk-container-id-12 div.sk-toggleable__content {max-height: 0;max-width: 0;overflow: hidden;text-align: left;background-color: #f0f8ff;}#sk-container-id-12 div.sk-toggleable__content pre {margin: 0.2em;color: black;border-radius: 0.25em;background-color: #f0f8ff;}#sk-container-id-12 input.sk-toggleable__control:checked~div.sk-toggleable__content {max-height: 200px;max-width: 100%;overflow: auto;}#sk-container-id-12 input.sk-toggleable__control:checked~label.sk-toggleable__label-arrow:before {content: \"▾\";}#sk-container-id-12 div.sk-estimator input.sk-toggleable__control:checked~label.sk-toggleable__label {background-color: #d4ebff;}#sk-container-id-12 div.sk-label input.sk-toggleable__control:checked~label.sk-toggleable__label {background-color: #d4ebff;}#sk-container-id-12 input.sk-hidden--visually {border: 0;clip: rect(1px 1px 1px 1px);clip: rect(1px, 1px, 1px, 1px);height: 1px;margin: -1px;overflow: hidden;padding: 0;position: absolute;width: 1px;}#sk-container-id-12 div.sk-estimator {font-family: monospace;background-color: #f0f8ff;border: 1px dotted black;border-radius: 0.25em;box-sizing: border-box;margin-bottom: 0.5em;}#sk-container-id-12 div.sk-estimator:hover {background-color: #d4ebff;}#sk-container-id-12 div.sk-parallel-item::after {content: \"\";width: 100%;border-bottom: 1px solid gray;flex-grow: 1;}#sk-container-id-12 div.sk-label:hover label.sk-toggleable__label {background-color: #d4ebff;}#sk-container-id-12 div.sk-serial::before {content: \"\";position: absolute;border-left: 1px solid gray;box-sizing: border-box;top: 0;bottom: 0;left: 50%;z-index: 0;}#sk-container-id-12 div.sk-serial {display: flex;flex-direction: column;align-items: center;background-color: white;padding-right: 0.2em;padding-left: 0.2em;position: relative;}#sk-container-id-12 div.sk-item {position: relative;z-index: 1;}#sk-container-id-12 div.sk-parallel {display: flex;align-items: stretch;justify-content: center;background-color: white;position: relative;}#sk-container-id-12 div.sk-item::before, #sk-container-id-12 div.sk-parallel-item::before {content: \"\";position: absolute;border-left: 1px solid gray;box-sizing: border-box;top: 0;bottom: 0;left: 50%;z-index: -1;}#sk-container-id-12 div.sk-parallel-item {display: flex;flex-direction: column;z-index: 1;position: relative;background-color: white;}#sk-container-id-12 div.sk-parallel-item:first-child::after {align-self: flex-end;width: 50%;}#sk-container-id-12 div.sk-parallel-item:last-child::after {align-self: flex-start;width: 50%;}#sk-container-id-12 div.sk-parallel-item:only-child::after {width: 0;}#sk-container-id-12 div.sk-dashed-wrapped {border: 1px dashed gray;margin: 0 0.4em 0.5em 0.4em;box-sizing: border-box;padding-bottom: 0.4em;background-color: white;}#sk-container-id-12 div.sk-label label {font-family: monospace;font-weight: bold;display: inline-block;line-height: 1.2em;}#sk-container-id-12 div.sk-label-container {text-align: center;}#sk-container-id-12 div.sk-container {/* jupyter's `normalize.less` sets `[hidden] { display: none; }` but bootstrap.min.css set `[hidden] { display: none !important; }` so we also need the `!important` here to be able to override the default hidden behavior on the sphinx rendered scikit-learn.org. See: https://github.com/scikit-learn/scikit-learn/issues/21755 */display: inline-block !important;position: relative;}#sk-container-id-12 div.sk-text-repr-fallback {display: none;}</style><div id=\"sk-container-id-12\" class=\"sk-top-container\"><div class=\"sk-text-repr-fallback\"><pre>IsolationForest(max_samples=300, n_estimators=300)</pre><b>In a Jupyter environment, please rerun this cell to show the HTML representation or trust the notebook. <br />On GitHub, the HTML representation is unable to render, please try loading this page with nbviewer.org.</b></div><div class=\"sk-container\" hidden><div class=\"sk-item\"><div class=\"sk-estimator sk-toggleable\"><input class=\"sk-toggleable__control sk-hidden--visually\" id=\"sk-estimator-id-12\" type=\"checkbox\" checked><label for=\"sk-estimator-id-12\" class=\"sk-toggleable__label sk-toggleable__label-arrow\">IsolationForest</label><div class=\"sk-toggleable__content\"><pre>IsolationForest(max_samples=300, n_estimators=300)</pre></div></div></div></div></div>"
      ],
      "text/plain": [
       "IsolationForest(max_samples=300, n_estimators=300)"
      ]
     },
     "execution_count": 110,
     "metadata": {},
     "output_type": "execute_result"
    }
   ],
   "source": [
    "name='X_yaxis'\n",
    "scaler=StandardScaler()\n",
    "X=np.r_[X_train,X_yaxis]\n",
    "X=scaler.fit_transform(X)\n",
    "#X_train=scaler.fit_transform(X_train)\n",
    "#X_xaxis=scaler.transform(X_yaxis)\n",
    "y_train=np.zeros(X_train.shape[0])\n",
    "y_test=np.ones(X_yaxis.shape[0])\n",
    "y=np.concatenate([y_train,y_test])\n",
    "p=sum(y)/len(y)\n",
    "IF=IsolationForest(n_estimators=300,max_samples=min(len(X_train),300))\n",
    "IF.fit(X)"
   ]
  },
  {
   "cell_type": "markdown",
   "metadata": {},
   "source": [
    "Performance IF"
   ]
  },
  {
   "cell_type": "code",
   "execution_count": 111,
   "metadata": {},
   "outputs": [],
   "source": [
    "#X_test=np.r_[X_train,X_yaxis]\n",
    "score=-1*IF.score_samples(X)+0.5\n",
    "y_pred=if_predict(score,p)\n",
    "#score=IF.score_samples(X)\n",
    "#y_pred=IF.predict(X)\n",
    "d={}\n",
    "d['Precision']=sklearn.metrics.precision_score(y,y_pred)\n",
    "d['Recall']=sklearn.metrics.recall_score(y,y_pred)\n",
    "d['f1 score']=sklearn.metrics.f1_score(y,y_pred)\n",
    "d['Accuracy']=sklearn.metrics.accuracy_score(y,y_pred)\n",
    "d['Balanced Accuracy']=sklearn.metrics.balanced_accuracy_score(y,y_pred)\n",
    "d['Average Precision']=sklearn.metrics.average_precision_score(y,score)\n",
    "d['ROC AUC']=sklearn.metrics.roc_auc_score(y,score)\n",
    "metrics_dict[name]=d"
   ]
  },
  {
   "cell_type": "code",
   "execution_count": 112,
   "metadata": {},
   "outputs": [
    {
     "data": {
      "text/plain": [
       "{'Precision': 0.3,\n",
       " 'Recall': 0.3,\n",
       " 'f1 score': 0.3,\n",
       " 'Accuracy': 0.8727272727272727,\n",
       " 'Balanced Accuracy': 0.615,\n",
       " 'Average Precision': 0.3300759431213731,\n",
       " 'ROC AUC': 0.7157199999999999}"
      ]
     },
     "execution_count": 112,
     "metadata": {},
     "output_type": "execute_result"
    }
   ],
   "source": [
    "metrics_dict[name]"
   ]
  },
  {
   "cell_type": "markdown",
   "metadata": {},
   "source": [
    "Performance EIF/EIF+"
   ]
  },
  {
   "cell_type": "code",
   "execution_count": 14,
   "metadata": {},
   "outputs": [],
   "source": [
    "X_test=np.r_[X_train,X_yaxis]\n",
    "y_pred=EIF._predict(X_test,p).astype(int)\n",
    "score=EIF.Anomaly_Score(X_test)\n",
    "d={}\n",
    "d['Precision']=sklearn.metrics.precision_score(y,y_pred)\n",
    "d['Recall']=sklearn.metrics.recall_score(y,y_pred)\n",
    "d['f1 score']=sklearn.metrics.f1_score(y,y_pred)\n",
    "d['Accuracy']=sklearn.metrics.accuracy_score(y,y_pred)\n",
    "d['Balanced Accuracy']=sklearn.metrics.balanced_accuracy_score(y,y_pred)\n",
    "d['Average Precision']=sklearn.metrics.average_precision_score(y,score)\n",
    "d['ROC AUC']=sklearn.metrics.roc_auc_score(y,score)\n",
    "metrics_dict[name]=d"
   ]
  },
  {
   "cell_type": "code",
   "execution_count": 15,
   "metadata": {},
   "outputs": [
    {
     "data": {
      "text/plain": [
       "{'Precision': 1.0,\n",
       " 'Recall': 1.0,\n",
       " 'f1 score': 1.0,\n",
       " 'Accuracy': 1.0,\n",
       " 'Balanced Accuracy': 1.0,\n",
       " 'Average Precision': 1.0,\n",
       " 'ROC AUC': 1.0}"
      ]
     },
     "execution_count": 15,
     "metadata": {},
     "output_type": "execute_result"
    }
   ],
   "source": [
    "metrics_dict[name]"
   ]
  },
  {
   "cell_type": "markdown",
   "metadata": {},
   "source": [
    "### X bisect"
   ]
  },
  {
   "cell_type": "code",
   "execution_count": 40,
   "metadata": {},
   "outputs": [],
   "source": [
    "file_to_read = open(os.getcwd()+'\\\\ball_6_dim.pkl', \"rb\")\n",
    "loaded_dictionary = pickle.load(file_to_read)\n",
    "X_train=loaded_dictionary['X_train']"
   ]
  },
  {
   "cell_type": "code",
   "execution_count": null,
   "metadata": {},
   "outputs": [],
   "source": [
    "name='X_bisect'\n",
    "y_train=np.zeros(X_train.shape[0])\n",
    "y_test=np.ones(X_xaxis.shape[0])\n",
    "y=np.concatenate([y_train,y_test])\n",
    "p=sum(y)/len(y)\n",
    "EIF = ExtendedIF(300,subsample_size=min(len(X_train),300),plus=1)\n",
    "EIF.fit(X_train)"
   ]
  },
  {
   "cell_type": "markdown",
   "metadata": {},
   "source": [
    "#### IF"
   ]
  },
  {
   "cell_type": "code",
   "execution_count": 69,
   "metadata": {},
   "outputs": [
    {
     "data": {
      "text/html": [
       "<style>#sk-container-id-6 {color: black;background-color: white;}#sk-container-id-6 pre{padding: 0;}#sk-container-id-6 div.sk-toggleable {background-color: white;}#sk-container-id-6 label.sk-toggleable__label {cursor: pointer;display: block;width: 100%;margin-bottom: 0;padding: 0.3em;box-sizing: border-box;text-align: center;}#sk-container-id-6 label.sk-toggleable__label-arrow:before {content: \"▸\";float: left;margin-right: 0.25em;color: #696969;}#sk-container-id-6 label.sk-toggleable__label-arrow:hover:before {color: black;}#sk-container-id-6 div.sk-estimator:hover label.sk-toggleable__label-arrow:before {color: black;}#sk-container-id-6 div.sk-toggleable__content {max-height: 0;max-width: 0;overflow: hidden;text-align: left;background-color: #f0f8ff;}#sk-container-id-6 div.sk-toggleable__content pre {margin: 0.2em;color: black;border-radius: 0.25em;background-color: #f0f8ff;}#sk-container-id-6 input.sk-toggleable__control:checked~div.sk-toggleable__content {max-height: 200px;max-width: 100%;overflow: auto;}#sk-container-id-6 input.sk-toggleable__control:checked~label.sk-toggleable__label-arrow:before {content: \"▾\";}#sk-container-id-6 div.sk-estimator input.sk-toggleable__control:checked~label.sk-toggleable__label {background-color: #d4ebff;}#sk-container-id-6 div.sk-label input.sk-toggleable__control:checked~label.sk-toggleable__label {background-color: #d4ebff;}#sk-container-id-6 input.sk-hidden--visually {border: 0;clip: rect(1px 1px 1px 1px);clip: rect(1px, 1px, 1px, 1px);height: 1px;margin: -1px;overflow: hidden;padding: 0;position: absolute;width: 1px;}#sk-container-id-6 div.sk-estimator {font-family: monospace;background-color: #f0f8ff;border: 1px dotted black;border-radius: 0.25em;box-sizing: border-box;margin-bottom: 0.5em;}#sk-container-id-6 div.sk-estimator:hover {background-color: #d4ebff;}#sk-container-id-6 div.sk-parallel-item::after {content: \"\";width: 100%;border-bottom: 1px solid gray;flex-grow: 1;}#sk-container-id-6 div.sk-label:hover label.sk-toggleable__label {background-color: #d4ebff;}#sk-container-id-6 div.sk-serial::before {content: \"\";position: absolute;border-left: 1px solid gray;box-sizing: border-box;top: 0;bottom: 0;left: 50%;z-index: 0;}#sk-container-id-6 div.sk-serial {display: flex;flex-direction: column;align-items: center;background-color: white;padding-right: 0.2em;padding-left: 0.2em;position: relative;}#sk-container-id-6 div.sk-item {position: relative;z-index: 1;}#sk-container-id-6 div.sk-parallel {display: flex;align-items: stretch;justify-content: center;background-color: white;position: relative;}#sk-container-id-6 div.sk-item::before, #sk-container-id-6 div.sk-parallel-item::before {content: \"\";position: absolute;border-left: 1px solid gray;box-sizing: border-box;top: 0;bottom: 0;left: 50%;z-index: -1;}#sk-container-id-6 div.sk-parallel-item {display: flex;flex-direction: column;z-index: 1;position: relative;background-color: white;}#sk-container-id-6 div.sk-parallel-item:first-child::after {align-self: flex-end;width: 50%;}#sk-container-id-6 div.sk-parallel-item:last-child::after {align-self: flex-start;width: 50%;}#sk-container-id-6 div.sk-parallel-item:only-child::after {width: 0;}#sk-container-id-6 div.sk-dashed-wrapped {border: 1px dashed gray;margin: 0 0.4em 0.5em 0.4em;box-sizing: border-box;padding-bottom: 0.4em;background-color: white;}#sk-container-id-6 div.sk-label label {font-family: monospace;font-weight: bold;display: inline-block;line-height: 1.2em;}#sk-container-id-6 div.sk-label-container {text-align: center;}#sk-container-id-6 div.sk-container {/* jupyter's `normalize.less` sets `[hidden] { display: none; }` but bootstrap.min.css set `[hidden] { display: none !important; }` so we also need the `!important` here to be able to override the default hidden behavior on the sphinx rendered scikit-learn.org. See: https://github.com/scikit-learn/scikit-learn/issues/21755 */display: inline-block !important;position: relative;}#sk-container-id-6 div.sk-text-repr-fallback {display: none;}</style><div id=\"sk-container-id-6\" class=\"sk-top-container\"><div class=\"sk-text-repr-fallback\"><pre>IsolationForest(max_samples=300, n_estimators=300)</pre><b>In a Jupyter environment, please rerun this cell to show the HTML representation or trust the notebook. <br />On GitHub, the HTML representation is unable to render, please try loading this page with nbviewer.org.</b></div><div class=\"sk-container\" hidden><div class=\"sk-item\"><div class=\"sk-estimator sk-toggleable\"><input class=\"sk-toggleable__control sk-hidden--visually\" id=\"sk-estimator-id-6\" type=\"checkbox\" checked><label for=\"sk-estimator-id-6\" class=\"sk-toggleable__label sk-toggleable__label-arrow\">IsolationForest</label><div class=\"sk-toggleable__content\"><pre>IsolationForest(max_samples=300, n_estimators=300)</pre></div></div></div></div></div>"
      ],
      "text/plain": [
       "IsolationForest(max_samples=300, n_estimators=300)"
      ]
     },
     "execution_count": 69,
     "metadata": {},
     "output_type": "execute_result"
    }
   ],
   "source": [
    "name='X_bisec'\n",
    "scaler=StandardScaler()\n",
    "X=np.r_[X_train,X_bisec]\n",
    "X=scaler.fit_transform(X)\n",
    "#X_train=scaler.fit_transform(X_train)\n",
    "#X_xaxis=scaler.transform(X_yaxis)\n",
    "y_train=np.ones(X_train.shape[0])\n",
    "y_test=-np.ones(X_bisec.shape[0])\n",
    "y=np.concatenate([y_train,y_test])\n",
    "p=sum(y)/len(y)\n",
    "IF=IsolationForest(n_estimators=300,max_samples=min(len(X_train),300))\n",
    "IF.fit(X)"
   ]
  },
  {
   "cell_type": "markdown",
   "metadata": {},
   "source": [
    "Performance IF"
   ]
  },
  {
   "cell_type": "code",
   "execution_count": 70,
   "metadata": {},
   "outputs": [],
   "source": [
    "#X_test=np.r_[X_train,X_yaxis]\n",
    "#score=-1*IF.score_samples(X)+0.5\n",
    "#y_pred=if_predict(score,p)\n",
    "score=IF.score_samples(X)\n",
    "y_pred=IF.predict(X)\n",
    "d={}\n",
    "d['Precision']=sklearn.metrics.precision_score(y,y_pred)\n",
    "d['Recall']=sklearn.metrics.recall_score(y,y_pred)\n",
    "d['f1 score']=sklearn.metrics.f1_score(y,y_pred)\n",
    "d['Accuracy']=sklearn.metrics.accuracy_score(y,y_pred)\n",
    "d['Balanced Accuracy']=sklearn.metrics.balanced_accuracy_score(y,y_pred)\n",
    "d['Average Precision']=sklearn.metrics.average_precision_score(y,score)\n",
    "d['ROC AUC']=sklearn.metrics.roc_auc_score(y,score)\n",
    "metrics_dict[name]=d"
   ]
  },
  {
   "cell_type": "code",
   "execution_count": 71,
   "metadata": {},
   "outputs": [
    {
     "data": {
      "text/plain": [
       "{'Precision': 0.9774730656219393,\n",
       " 'Recall': 0.998,\n",
       " 'f1 score': 0.987629886194953,\n",
       " 'Accuracy': 0.9772727272727273,\n",
       " 'Balanced Accuracy': 0.884,\n",
       " 'Average Precision': 0.9990274185365398,\n",
       " 'ROC AUC': 0.9908399999999999}"
      ]
     },
     "execution_count": 71,
     "metadata": {},
     "output_type": "execute_result"
    }
   ],
   "source": [
    "metrics_dict[name]"
   ]
  },
  {
   "cell_type": "markdown",
   "metadata": {},
   "source": [
    "Performance EIF/EIF+"
   ]
  },
  {
   "cell_type": "code",
   "execution_count": 18,
   "metadata": {},
   "outputs": [],
   "source": [
    "X_test=np.r_[X_train,X_bisec]\n",
    "y_pred=EIF._predict(X_test,p).astype(int)\n",
    "score=EIF.Anomaly_Score(X_test)\n",
    "d={}\n",
    "d['Precision']=sklearn.metrics.precision_score(y,y_pred)\n",
    "d['Recall']=sklearn.metrics.recall_score(y,y_pred)\n",
    "d['f1 score']=sklearn.metrics.f1_score(y,y_pred)\n",
    "d['Accuracy']=sklearn.metrics.accuracy_score(y,y_pred)\n",
    "d['Balanced Accuracy']=sklearn.metrics.balanced_accuracy_score(y,y_pred)\n",
    "d['Average Precision']=sklearn.metrics.average_precision_score(y,score)\n",
    "d['ROC AUC']=sklearn.metrics.roc_auc_score(y,score)\n",
    "metrics_dict[name]=d"
   ]
  },
  {
   "cell_type": "code",
   "execution_count": 19,
   "metadata": {},
   "outputs": [
    {
     "data": {
      "text/plain": [
       "{'Precision': 1.0,\n",
       " 'Recall': 1.0,\n",
       " 'f1 score': 1.0,\n",
       " 'Accuracy': 1.0,\n",
       " 'Balanced Accuracy': 1.0,\n",
       " 'Average Precision': 1.0,\n",
       " 'ROC AUC': 0.9999999999999999}"
      ]
     },
     "execution_count": 19,
     "metadata": {},
     "output_type": "execute_result"
    }
   ],
   "source": [
    "metrics_dict[name]"
   ]
  },
  {
   "cell_type": "markdown",
   "metadata": {},
   "source": [
    "### X bisect 3d"
   ]
  },
  {
   "cell_type": "code",
   "execution_count": 21,
   "metadata": {},
   "outputs": [],
   "source": [
    "os.chdir('c:\\\\Users\\\\lemeda98\\\\Desktop\\\\PHD Information Engineering\\\\ExIFFI\\\\ExIFFI\\\\data\\\\diffi_data')\n",
    "file_to_read = open(os.getcwd()+'\\\\ball_6_dim.pkl', \"rb\")\n",
    "loaded_dictionary = pickle.load(file_to_read)\n",
    "X_train=loaded_dictionary['X_train']"
   ]
  },
  {
   "cell_type": "code",
   "execution_count": 20,
   "metadata": {},
   "outputs": [],
   "source": [
    "name='X_bisect_3d'\n",
    "y_train=np.zeros(X_train.shape[0])\n",
    "y_test=np.ones(X_xaxis.shape[0])\n",
    "y=np.concatenate([y_train,y_test])\n",
    "p=sum(y)/len(y)\n",
    "EIF = ExtendedIF(300,subsample_size=min(len(X_train),300),plus=1)\n",
    "EIF.fit(X_train)"
   ]
  },
  {
   "cell_type": "markdown",
   "metadata": {},
   "source": [
    "#### IF"
   ]
  },
  {
   "cell_type": "code",
   "execution_count": 22,
   "metadata": {},
   "outputs": [
    {
     "data": {
      "text/html": [
       "<style>#sk-container-id-4 {color: black;background-color: white;}#sk-container-id-4 pre{padding: 0;}#sk-container-id-4 div.sk-toggleable {background-color: white;}#sk-container-id-4 label.sk-toggleable__label {cursor: pointer;display: block;width: 100%;margin-bottom: 0;padding: 0.3em;box-sizing: border-box;text-align: center;}#sk-container-id-4 label.sk-toggleable__label-arrow:before {content: \"▸\";float: left;margin-right: 0.25em;color: #696969;}#sk-container-id-4 label.sk-toggleable__label-arrow:hover:before {color: black;}#sk-container-id-4 div.sk-estimator:hover label.sk-toggleable__label-arrow:before {color: black;}#sk-container-id-4 div.sk-toggleable__content {max-height: 0;max-width: 0;overflow: hidden;text-align: left;background-color: #f0f8ff;}#sk-container-id-4 div.sk-toggleable__content pre {margin: 0.2em;color: black;border-radius: 0.25em;background-color: #f0f8ff;}#sk-container-id-4 input.sk-toggleable__control:checked~div.sk-toggleable__content {max-height: 200px;max-width: 100%;overflow: auto;}#sk-container-id-4 input.sk-toggleable__control:checked~label.sk-toggleable__label-arrow:before {content: \"▾\";}#sk-container-id-4 div.sk-estimator input.sk-toggleable__control:checked~label.sk-toggleable__label {background-color: #d4ebff;}#sk-container-id-4 div.sk-label input.sk-toggleable__control:checked~label.sk-toggleable__label {background-color: #d4ebff;}#sk-container-id-4 input.sk-hidden--visually {border: 0;clip: rect(1px 1px 1px 1px);clip: rect(1px, 1px, 1px, 1px);height: 1px;margin: -1px;overflow: hidden;padding: 0;position: absolute;width: 1px;}#sk-container-id-4 div.sk-estimator {font-family: monospace;background-color: #f0f8ff;border: 1px dotted black;border-radius: 0.25em;box-sizing: border-box;margin-bottom: 0.5em;}#sk-container-id-4 div.sk-estimator:hover {background-color: #d4ebff;}#sk-container-id-4 div.sk-parallel-item::after {content: \"\";width: 100%;border-bottom: 1px solid gray;flex-grow: 1;}#sk-container-id-4 div.sk-label:hover label.sk-toggleable__label {background-color: #d4ebff;}#sk-container-id-4 div.sk-serial::before {content: \"\";position: absolute;border-left: 1px solid gray;box-sizing: border-box;top: 0;bottom: 0;left: 50%;z-index: 0;}#sk-container-id-4 div.sk-serial {display: flex;flex-direction: column;align-items: center;background-color: white;padding-right: 0.2em;padding-left: 0.2em;position: relative;}#sk-container-id-4 div.sk-item {position: relative;z-index: 1;}#sk-container-id-4 div.sk-parallel {display: flex;align-items: stretch;justify-content: center;background-color: white;position: relative;}#sk-container-id-4 div.sk-item::before, #sk-container-id-4 div.sk-parallel-item::before {content: \"\";position: absolute;border-left: 1px solid gray;box-sizing: border-box;top: 0;bottom: 0;left: 50%;z-index: -1;}#sk-container-id-4 div.sk-parallel-item {display: flex;flex-direction: column;z-index: 1;position: relative;background-color: white;}#sk-container-id-4 div.sk-parallel-item:first-child::after {align-self: flex-end;width: 50%;}#sk-container-id-4 div.sk-parallel-item:last-child::after {align-self: flex-start;width: 50%;}#sk-container-id-4 div.sk-parallel-item:only-child::after {width: 0;}#sk-container-id-4 div.sk-dashed-wrapped {border: 1px dashed gray;margin: 0 0.4em 0.5em 0.4em;box-sizing: border-box;padding-bottom: 0.4em;background-color: white;}#sk-container-id-4 div.sk-label label {font-family: monospace;font-weight: bold;display: inline-block;line-height: 1.2em;}#sk-container-id-4 div.sk-label-container {text-align: center;}#sk-container-id-4 div.sk-container {/* jupyter's `normalize.less` sets `[hidden] { display: none; }` but bootstrap.min.css set `[hidden] { display: none !important; }` so we also need the `!important` here to be able to override the default hidden behavior on the sphinx rendered scikit-learn.org. See: https://github.com/scikit-learn/scikit-learn/issues/21755 */display: inline-block !important;position: relative;}#sk-container-id-4 div.sk-text-repr-fallback {display: none;}</style><div id=\"sk-container-id-4\" class=\"sk-top-container\"><div class=\"sk-text-repr-fallback\"><pre>IsolationForest(max_samples=300, n_estimators=300)</pre><b>In a Jupyter environment, please rerun this cell to show the HTML representation or trust the notebook. <br />On GitHub, the HTML representation is unable to render, please try loading this page with nbviewer.org.</b></div><div class=\"sk-container\" hidden><div class=\"sk-item\"><div class=\"sk-estimator sk-toggleable\"><input class=\"sk-toggleable__control sk-hidden--visually\" id=\"sk-estimator-id-4\" type=\"checkbox\" checked><label for=\"sk-estimator-id-4\" class=\"sk-toggleable__label sk-toggleable__label-arrow\">IsolationForest</label><div class=\"sk-toggleable__content\"><pre>IsolationForest(max_samples=300, n_estimators=300)</pre></div></div></div></div></div>"
      ],
      "text/plain": [
       "IsolationForest(max_samples=300, n_estimators=300)"
      ]
     },
     "execution_count": 22,
     "metadata": {},
     "output_type": "execute_result"
    }
   ],
   "source": [
    "name='X_bisect_3d'\n",
    "scaler=StandardScaler()\n",
    "X_train=scaler.fit_transform(X_train)\n",
    "X_bisect_3d=scaler.transform(X_bisect_3d)\n",
    "y_train=np.zeros(X_train.shape[0])\n",
    "y_test=np.ones(X_xaxis.shape[0])\n",
    "y=np.concatenate([y_train,y_test])\n",
    "p=sum(y)/len(y)\n",
    "IF=IsolationForest(n_estimators=300,max_samples=min(len(X_train),300))\n",
    "IF.fit(X_train)"
   ]
  },
  {
   "cell_type": "markdown",
   "metadata": {},
   "source": [
    "Performance IF"
   ]
  },
  {
   "cell_type": "code",
   "execution_count": 23,
   "metadata": {},
   "outputs": [],
   "source": [
    "X_test=np.r_[X_train,X_bisect_3d]\n",
    "score=-1*IF.score_samples(X_test)+0.5\n",
    "y_pred=if_predict(score,p)\n",
    "d={}\n",
    "d['Precision']=sklearn.metrics.precision_score(y,y_pred)\n",
    "d['Recall']=sklearn.metrics.recall_score(y,y_pred)\n",
    "d['f1 score']=sklearn.metrics.f1_score(y,y_pred)\n",
    "d['Accuracy']=sklearn.metrics.accuracy_score(y,y_pred)\n",
    "d['Balanced Accuracy']=sklearn.metrics.balanced_accuracy_score(y,y_pred)\n",
    "d['Average Precision']=sklearn.metrics.average_precision_score(y,score)\n",
    "d['ROC AUC']=sklearn.metrics.roc_auc_score(y,score)\n",
    "metrics_dict[name]=d"
   ]
  },
  {
   "cell_type": "code",
   "execution_count": 24,
   "metadata": {},
   "outputs": [
    {
     "data": {
      "text/plain": [
       "{'Precision': 1.0,\n",
       " 'Recall': 1.0,\n",
       " 'f1 score': 1.0,\n",
       " 'Accuracy': 1.0,\n",
       " 'Balanced Accuracy': 1.0,\n",
       " 'Average Precision': 1.0,\n",
       " 'ROC AUC': 1.0}"
      ]
     },
     "execution_count": 24,
     "metadata": {},
     "output_type": "execute_result"
    }
   ],
   "source": [
    "metrics_dict[name]"
   ]
  },
  {
   "cell_type": "markdown",
   "metadata": {},
   "source": [
    "Performance EIF/EIF+"
   ]
  },
  {
   "cell_type": "code",
   "execution_count": 21,
   "metadata": {},
   "outputs": [],
   "source": [
    "X_test=np.r_[X_train,X_bisect_3d]\n",
    "y_pred=EIF._predict(X_test,p).astype(int)\n",
    "score=EIF.Anomaly_Score(X_test)\n",
    "d={}\n",
    "d['Precision']=sklearn.metrics.precision_score(y,y_pred)\n",
    "d['Recall']=sklearn.metrics.recall_score(y,y_pred)\n",
    "d['f1 score']=sklearn.metrics.f1_score(y,y_pred)\n",
    "d['Accuracy']=sklearn.metrics.accuracy_score(y,y_pred)\n",
    "d['Balanced Accuracy']=sklearn.metrics.balanced_accuracy_score(y,y_pred)\n",
    "d['Average Precision']=sklearn.metrics.average_precision_score(y,score)\n",
    "d['ROC AUC']=sklearn.metrics.roc_auc_score(y,score)\n",
    "metrics_dict[name]=d"
   ]
  },
  {
   "cell_type": "code",
   "execution_count": 22,
   "metadata": {},
   "outputs": [
    {
     "data": {
      "text/plain": [
       "{'Precision': 1.0,\n",
       " 'Recall': 1.0,\n",
       " 'f1 score': 1.0,\n",
       " 'Accuracy': 1.0,\n",
       " 'Balanced Accuracy': 1.0,\n",
       " 'Average Precision': 1.0,\n",
       " 'ROC AUC': 1.0}"
      ]
     },
     "execution_count": 22,
     "metadata": {},
     "output_type": "execute_result"
    }
   ],
   "source": [
    "metrics_dict[name]"
   ]
  },
  {
   "cell_type": "markdown",
   "metadata": {},
   "source": [
    "### X bisect 6d"
   ]
  },
  {
   "cell_type": "code",
   "execution_count": 25,
   "metadata": {},
   "outputs": [],
   "source": [
    "os.chdir('c:\\\\Users\\\\lemeda98\\\\Desktop\\\\PHD Information Engineering\\\\ExIFFI\\\\ExIFFI\\\\data\\\\diffi_data')\n",
    "file_to_read = open(os.getcwd()+'\\\\ball_6_dim.pkl', \"rb\")\n",
    "loaded_dictionary = pickle.load(file_to_read)\n",
    "X_train=loaded_dictionary['X_train']"
   ]
  },
  {
   "cell_type": "code",
   "execution_count": 23,
   "metadata": {},
   "outputs": [],
   "source": [
    "name='X_bisect_6d'\n",
    "y_train=np.zeros(X_train.shape[0])\n",
    "y_test=np.ones(X_xaxis.shape[0])\n",
    "y=np.concatenate([y_train,y_test])\n",
    "p=sum(y)/len(y)\n",
    "EIF = ExtendedIF(300,subsample_size=min(len(X_train),300),plus=1)\n",
    "EIF.fit(X_train)"
   ]
  },
  {
   "cell_type": "markdown",
   "metadata": {},
   "source": [
    "#### IF"
   ]
  },
  {
   "cell_type": "code",
   "execution_count": 26,
   "metadata": {},
   "outputs": [
    {
     "data": {
      "text/html": [
       "<style>#sk-container-id-5 {color: black;background-color: white;}#sk-container-id-5 pre{padding: 0;}#sk-container-id-5 div.sk-toggleable {background-color: white;}#sk-container-id-5 label.sk-toggleable__label {cursor: pointer;display: block;width: 100%;margin-bottom: 0;padding: 0.3em;box-sizing: border-box;text-align: center;}#sk-container-id-5 label.sk-toggleable__label-arrow:before {content: \"▸\";float: left;margin-right: 0.25em;color: #696969;}#sk-container-id-5 label.sk-toggleable__label-arrow:hover:before {color: black;}#sk-container-id-5 div.sk-estimator:hover label.sk-toggleable__label-arrow:before {color: black;}#sk-container-id-5 div.sk-toggleable__content {max-height: 0;max-width: 0;overflow: hidden;text-align: left;background-color: #f0f8ff;}#sk-container-id-5 div.sk-toggleable__content pre {margin: 0.2em;color: black;border-radius: 0.25em;background-color: #f0f8ff;}#sk-container-id-5 input.sk-toggleable__control:checked~div.sk-toggleable__content {max-height: 200px;max-width: 100%;overflow: auto;}#sk-container-id-5 input.sk-toggleable__control:checked~label.sk-toggleable__label-arrow:before {content: \"▾\";}#sk-container-id-5 div.sk-estimator input.sk-toggleable__control:checked~label.sk-toggleable__label {background-color: #d4ebff;}#sk-container-id-5 div.sk-label input.sk-toggleable__control:checked~label.sk-toggleable__label {background-color: #d4ebff;}#sk-container-id-5 input.sk-hidden--visually {border: 0;clip: rect(1px 1px 1px 1px);clip: rect(1px, 1px, 1px, 1px);height: 1px;margin: -1px;overflow: hidden;padding: 0;position: absolute;width: 1px;}#sk-container-id-5 div.sk-estimator {font-family: monospace;background-color: #f0f8ff;border: 1px dotted black;border-radius: 0.25em;box-sizing: border-box;margin-bottom: 0.5em;}#sk-container-id-5 div.sk-estimator:hover {background-color: #d4ebff;}#sk-container-id-5 div.sk-parallel-item::after {content: \"\";width: 100%;border-bottom: 1px solid gray;flex-grow: 1;}#sk-container-id-5 div.sk-label:hover label.sk-toggleable__label {background-color: #d4ebff;}#sk-container-id-5 div.sk-serial::before {content: \"\";position: absolute;border-left: 1px solid gray;box-sizing: border-box;top: 0;bottom: 0;left: 50%;z-index: 0;}#sk-container-id-5 div.sk-serial {display: flex;flex-direction: column;align-items: center;background-color: white;padding-right: 0.2em;padding-left: 0.2em;position: relative;}#sk-container-id-5 div.sk-item {position: relative;z-index: 1;}#sk-container-id-5 div.sk-parallel {display: flex;align-items: stretch;justify-content: center;background-color: white;position: relative;}#sk-container-id-5 div.sk-item::before, #sk-container-id-5 div.sk-parallel-item::before {content: \"\";position: absolute;border-left: 1px solid gray;box-sizing: border-box;top: 0;bottom: 0;left: 50%;z-index: -1;}#sk-container-id-5 div.sk-parallel-item {display: flex;flex-direction: column;z-index: 1;position: relative;background-color: white;}#sk-container-id-5 div.sk-parallel-item:first-child::after {align-self: flex-end;width: 50%;}#sk-container-id-5 div.sk-parallel-item:last-child::after {align-self: flex-start;width: 50%;}#sk-container-id-5 div.sk-parallel-item:only-child::after {width: 0;}#sk-container-id-5 div.sk-dashed-wrapped {border: 1px dashed gray;margin: 0 0.4em 0.5em 0.4em;box-sizing: border-box;padding-bottom: 0.4em;background-color: white;}#sk-container-id-5 div.sk-label label {font-family: monospace;font-weight: bold;display: inline-block;line-height: 1.2em;}#sk-container-id-5 div.sk-label-container {text-align: center;}#sk-container-id-5 div.sk-container {/* jupyter's `normalize.less` sets `[hidden] { display: none; }` but bootstrap.min.css set `[hidden] { display: none !important; }` so we also need the `!important` here to be able to override the default hidden behavior on the sphinx rendered scikit-learn.org. See: https://github.com/scikit-learn/scikit-learn/issues/21755 */display: inline-block !important;position: relative;}#sk-container-id-5 div.sk-text-repr-fallback {display: none;}</style><div id=\"sk-container-id-5\" class=\"sk-top-container\"><div class=\"sk-text-repr-fallback\"><pre>IsolationForest(max_samples=300, n_estimators=300)</pre><b>In a Jupyter environment, please rerun this cell to show the HTML representation or trust the notebook. <br />On GitHub, the HTML representation is unable to render, please try loading this page with nbviewer.org.</b></div><div class=\"sk-container\" hidden><div class=\"sk-item\"><div class=\"sk-estimator sk-toggleable\"><input class=\"sk-toggleable__control sk-hidden--visually\" id=\"sk-estimator-id-5\" type=\"checkbox\" checked><label for=\"sk-estimator-id-5\" class=\"sk-toggleable__label sk-toggleable__label-arrow\">IsolationForest</label><div class=\"sk-toggleable__content\"><pre>IsolationForest(max_samples=300, n_estimators=300)</pre></div></div></div></div></div>"
      ],
      "text/plain": [
       "IsolationForest(max_samples=300, n_estimators=300)"
      ]
     },
     "execution_count": 26,
     "metadata": {},
     "output_type": "execute_result"
    }
   ],
   "source": [
    "name='X_bisect_6d'\n",
    "scaler=StandardScaler()\n",
    "X_train=scaler.fit_transform(X_train)\n",
    "X_bisect_6d=scaler.transform(X_bisect_6d)\n",
    "y_train=np.zeros(X_train.shape[0])\n",
    "y_test=np.ones(X_xaxis.shape[0])\n",
    "y=np.concatenate([y_train,y_test])\n",
    "p=sum(y)/len(y)\n",
    "IF=IsolationForest(n_estimators=300,max_samples=min(len(X_train),300))\n",
    "IF.fit(X_train)"
   ]
  },
  {
   "cell_type": "markdown",
   "metadata": {},
   "source": [
    "Performance IF"
   ]
  },
  {
   "cell_type": "code",
   "execution_count": 27,
   "metadata": {},
   "outputs": [],
   "source": [
    "X_test=np.r_[X_train,X_bisect_6d]\n",
    "score=-1*IF.score_samples(X_test)+0.5\n",
    "y_pred=if_predict(score,p)\n",
    "d={}\n",
    "d['Precision']=sklearn.metrics.precision_score(y,y_pred)\n",
    "d['Recall']=sklearn.metrics.recall_score(y,y_pred)\n",
    "d['f1 score']=sklearn.metrics.f1_score(y,y_pred)\n",
    "d['Accuracy']=sklearn.metrics.accuracy_score(y,y_pred)\n",
    "d['Balanced Accuracy']=sklearn.metrics.balanced_accuracy_score(y,y_pred)\n",
    "d['Average Precision']=sklearn.metrics.average_precision_score(y,score)\n",
    "d['ROC AUC']=sklearn.metrics.roc_auc_score(y,score)\n",
    "metrics_dict[name]=d"
   ]
  },
  {
   "cell_type": "code",
   "execution_count": 28,
   "metadata": {},
   "outputs": [
    {
     "data": {
      "text/plain": [
       "{'Precision': 1.0,\n",
       " 'Recall': 1.0,\n",
       " 'f1 score': 1.0,\n",
       " 'Accuracy': 1.0,\n",
       " 'Balanced Accuracy': 1.0,\n",
       " 'Average Precision': 1.0,\n",
       " 'ROC AUC': 1.0}"
      ]
     },
     "execution_count": 28,
     "metadata": {},
     "output_type": "execute_result"
    }
   ],
   "source": [
    "metrics_dict[name]"
   ]
  },
  {
   "cell_type": "markdown",
   "metadata": {},
   "source": [
    "Performance EIF/EIF+"
   ]
  },
  {
   "cell_type": "code",
   "execution_count": 24,
   "metadata": {},
   "outputs": [],
   "source": [
    "X_test=np.r_[X_train,X_bisect_6d]\n",
    "y_pred=EIF._predict(X_test,p).astype(int)\n",
    "score=EIF.Anomaly_Score(X_test)\n",
    "d={}\n",
    "d['Precision']=sklearn.metrics.precision_score(y,y_pred)\n",
    "d['Recall']=sklearn.metrics.recall_score(y,y_pred)\n",
    "d['f1 score']=sklearn.metrics.f1_score(y,y_pred)\n",
    "d['Accuracy']=sklearn.metrics.accuracy_score(y,y_pred)\n",
    "d['Balanced Accuracy']=sklearn.metrics.balanced_accuracy_score(y,y_pred)\n",
    "d['Average Precision']=sklearn.metrics.average_precision_score(y,score)\n",
    "d['ROC AUC']=sklearn.metrics.roc_auc_score(y,score)\n",
    "metrics_dict[name]=d"
   ]
  },
  {
   "cell_type": "code",
   "execution_count": 25,
   "metadata": {},
   "outputs": [
    {
     "data": {
      "text/plain": [
       "{'Precision': 1.0,\n",
       " 'Recall': 1.0,\n",
       " 'f1 score': 1.0,\n",
       " 'Accuracy': 1.0,\n",
       " 'Balanced Accuracy': 1.0,\n",
       " 'Average Precision': 1.0,\n",
       " 'ROC AUC': 1.0}"
      ]
     },
     "execution_count": 25,
     "metadata": {},
     "output_type": "execute_result"
    }
   ],
   "source": [
    "metrics_dict[name]"
   ]
  },
  {
   "cell_type": "markdown",
   "metadata": {},
   "source": [
    "## Wine "
   ]
  },
  {
   "cell_type": "code",
   "execution_count": 102,
   "metadata": {},
   "outputs": [
    {
     "name": "stdout",
     "output_type": "stream",
     "text": [
      "wine \n",
      "\n",
      "[numero elementi = 129]\n",
      "[percentage outliers = 0.07751937984496124]\n",
      "[number features = 13]\n",
      "[number outliers = 10]\n"
     ]
    }
   ],
   "source": [
    "os.chdir('c:\\\\Users\\\\lemeda98\\\\Desktop\\\\PHD Information Engineering\\\\ExIFFI\\\\ExIFFI\\\\data')\n",
    "name='wine'\n",
    "X,y=dataset(name,os.getcwd()+'\\\\')\n",
    "X,y=downsample(X,y)\n",
    "X_train,X_test=partition_data(X,y)\n",
    "scaler=StandardScaler()\n",
    "X_train=scaler.fit_transform(X_train)\n",
    "X_test=scaler.transform(X_test)\n",
    "y_train=np.zeros(shape=X_train.shape[0])\n",
    "y_test=np.ones(shape=X_test.shape[0])\n",
    "y=np.concatenate([y_train,y_test])"
   ]
  },
  {
   "cell_type": "markdown",
   "metadata": {},
   "source": [
    "### EIF/EIF+"
   ]
  },
  {
   "cell_type": "code",
   "execution_count": 41,
   "metadata": {},
   "outputs": [],
   "source": [
    "p=sum(y)/len(y)\n",
    "EIF = ExtendedIF(300,subsample_size=min(len(X_train),300),plus=0)\n",
    "EIF.fit(X_train)"
   ]
  },
  {
   "cell_type": "markdown",
   "metadata": {},
   "source": [
    "### IF\n",
    "\n",
    "N.B The predict function of sklearn.ensemble.IsolationForest returns -1 for outliers and 1 for inliers. So we have to convert the array returned substituting the -1 with 1 and the ones with zeros. "
   ]
  },
  {
   "cell_type": "code",
   "execution_count": 103,
   "metadata": {},
   "outputs": [
    {
     "data": {
      "text/html": [
       "<style>#sk-container-id-20 {color: black;background-color: white;}#sk-container-id-20 pre{padding: 0;}#sk-container-id-20 div.sk-toggleable {background-color: white;}#sk-container-id-20 label.sk-toggleable__label {cursor: pointer;display: block;width: 100%;margin-bottom: 0;padding: 0.3em;box-sizing: border-box;text-align: center;}#sk-container-id-20 label.sk-toggleable__label-arrow:before {content: \"▸\";float: left;margin-right: 0.25em;color: #696969;}#sk-container-id-20 label.sk-toggleable__label-arrow:hover:before {color: black;}#sk-container-id-20 div.sk-estimator:hover label.sk-toggleable__label-arrow:before {color: black;}#sk-container-id-20 div.sk-toggleable__content {max-height: 0;max-width: 0;overflow: hidden;text-align: left;background-color: #f0f8ff;}#sk-container-id-20 div.sk-toggleable__content pre {margin: 0.2em;color: black;border-radius: 0.25em;background-color: #f0f8ff;}#sk-container-id-20 input.sk-toggleable__control:checked~div.sk-toggleable__content {max-height: 200px;max-width: 100%;overflow: auto;}#sk-container-id-20 input.sk-toggleable__control:checked~label.sk-toggleable__label-arrow:before {content: \"▾\";}#sk-container-id-20 div.sk-estimator input.sk-toggleable__control:checked~label.sk-toggleable__label {background-color: #d4ebff;}#sk-container-id-20 div.sk-label input.sk-toggleable__control:checked~label.sk-toggleable__label {background-color: #d4ebff;}#sk-container-id-20 input.sk-hidden--visually {border: 0;clip: rect(1px 1px 1px 1px);clip: rect(1px, 1px, 1px, 1px);height: 1px;margin: -1px;overflow: hidden;padding: 0;position: absolute;width: 1px;}#sk-container-id-20 div.sk-estimator {font-family: monospace;background-color: #f0f8ff;border: 1px dotted black;border-radius: 0.25em;box-sizing: border-box;margin-bottom: 0.5em;}#sk-container-id-20 div.sk-estimator:hover {background-color: #d4ebff;}#sk-container-id-20 div.sk-parallel-item::after {content: \"\";width: 100%;border-bottom: 1px solid gray;flex-grow: 1;}#sk-container-id-20 div.sk-label:hover label.sk-toggleable__label {background-color: #d4ebff;}#sk-container-id-20 div.sk-serial::before {content: \"\";position: absolute;border-left: 1px solid gray;box-sizing: border-box;top: 0;bottom: 0;left: 50%;z-index: 0;}#sk-container-id-20 div.sk-serial {display: flex;flex-direction: column;align-items: center;background-color: white;padding-right: 0.2em;padding-left: 0.2em;position: relative;}#sk-container-id-20 div.sk-item {position: relative;z-index: 1;}#sk-container-id-20 div.sk-parallel {display: flex;align-items: stretch;justify-content: center;background-color: white;position: relative;}#sk-container-id-20 div.sk-item::before, #sk-container-id-20 div.sk-parallel-item::before {content: \"\";position: absolute;border-left: 1px solid gray;box-sizing: border-box;top: 0;bottom: 0;left: 50%;z-index: -1;}#sk-container-id-20 div.sk-parallel-item {display: flex;flex-direction: column;z-index: 1;position: relative;background-color: white;}#sk-container-id-20 div.sk-parallel-item:first-child::after {align-self: flex-end;width: 50%;}#sk-container-id-20 div.sk-parallel-item:last-child::after {align-self: flex-start;width: 50%;}#sk-container-id-20 div.sk-parallel-item:only-child::after {width: 0;}#sk-container-id-20 div.sk-dashed-wrapped {border: 1px dashed gray;margin: 0 0.4em 0.5em 0.4em;box-sizing: border-box;padding-bottom: 0.4em;background-color: white;}#sk-container-id-20 div.sk-label label {font-family: monospace;font-weight: bold;display: inline-block;line-height: 1.2em;}#sk-container-id-20 div.sk-label-container {text-align: center;}#sk-container-id-20 div.sk-container {/* jupyter's `normalize.less` sets `[hidden] { display: none; }` but bootstrap.min.css set `[hidden] { display: none !important; }` so we also need the `!important` here to be able to override the default hidden behavior on the sphinx rendered scikit-learn.org. See: https://github.com/scikit-learn/scikit-learn/issues/21755 */display: inline-block !important;position: relative;}#sk-container-id-20 div.sk-text-repr-fallback {display: none;}</style><div id=\"sk-container-id-20\" class=\"sk-top-container\"><div class=\"sk-text-repr-fallback\"><pre>IsolationForest(max_samples=119, n_estimators=300)</pre><b>In a Jupyter environment, please rerun this cell to show the HTML representation or trust the notebook. <br />On GitHub, the HTML representation is unable to render, please try loading this page with nbviewer.org.</b></div><div class=\"sk-container\" hidden><div class=\"sk-item\"><div class=\"sk-estimator sk-toggleable\"><input class=\"sk-toggleable__control sk-hidden--visually\" id=\"sk-estimator-id-20\" type=\"checkbox\" checked><label for=\"sk-estimator-id-20\" class=\"sk-toggleable__label sk-toggleable__label-arrow\">IsolationForest</label><div class=\"sk-toggleable__content\"><pre>IsolationForest(max_samples=119, n_estimators=300)</pre></div></div></div></div></div>"
      ],
      "text/plain": [
       "IsolationForest(max_samples=119, n_estimators=300)"
      ]
     },
     "execution_count": 103,
     "metadata": {},
     "output_type": "execute_result"
    }
   ],
   "source": [
    "p=sum(y)/len(y)\n",
    "IF=IsolationForest(n_estimators=300,max_samples=min(len(X_train),300))\n",
    "IF.fit(X_train)"
   ]
  },
  {
   "cell_type": "code",
   "execution_count": 48,
   "metadata": {},
   "outputs": [],
   "source": [
    "metrics_dict={}"
   ]
  },
  {
   "cell_type": "markdown",
   "metadata": {},
   "source": [
    "Performance IF"
   ]
  },
  {
   "cell_type": "code",
   "execution_count": 104,
   "metadata": {},
   "outputs": [],
   "source": [
    "X_test=np.r_[X_train,X_test]\n",
    "score=-1*IF.score_samples(X_test)+0.5\n",
    "y_pred=if_predict(score,p)\n",
    "d={}\n",
    "d['Precision']=sklearn.metrics.precision_score(y,y_pred)\n",
    "d['Recall']=sklearn.metrics.recall_score(y,y_pred)\n",
    "d['f1 score']=sklearn.metrics.f1_score(y,y_pred)\n",
    "d['Accuracy']=sklearn.metrics.accuracy_score(y,y_pred)\n",
    "d['Balanced Accuracy']=sklearn.metrics.balanced_accuracy_score(y,y_pred)\n",
    "d['Average Precision']=sklearn.metrics.average_precision_score(y,score)\n",
    "d['ROC AUC']=sklearn.metrics.roc_auc_score(y,score)\n",
    "metrics_dict[name]=d"
   ]
  },
  {
   "cell_type": "code",
   "execution_count": 105,
   "metadata": {},
   "outputs": [
    {
     "data": {
      "text/plain": [
       "{'Precision': 0.5,\n",
       " 'Recall': 0.5,\n",
       " 'f1 score': 0.5,\n",
       " 'Accuracy': 0.9224806201550387,\n",
       " 'Balanced Accuracy': 0.7289915966386555,\n",
       " 'Average Precision': 0.44012820512820516,\n",
       " 'ROC AUC': 0.9336134453781513}"
      ]
     },
     "execution_count": 105,
     "metadata": {},
     "output_type": "execute_result"
    }
   ],
   "source": [
    "metrics_dict[name]"
   ]
  },
  {
   "cell_type": "markdown",
   "metadata": {},
   "source": [
    "Performance EIF/EIF+"
   ]
  },
  {
   "cell_type": "code",
   "execution_count": 23,
   "metadata": {},
   "outputs": [],
   "source": [
    "X_test=np.r_[X_train,X_test]\n",
    "y_pred=EIF._predict(X_test,p).astype(int)\n",
    "score=EIF.Anomaly_Score(X_test)\n",
    "d={}\n",
    "d['Precision']=sklearn.metrics.precision_score(y,y_pred)\n",
    "d['Recall']=sklearn.metrics.recall_score(y,y_pred)\n",
    "d['f1 score']=sklearn.metrics.f1_score(y,y_pred)\n",
    "d['Accuracy']=sklearn.metrics.accuracy_score(y,y_pred)\n",
    "d['Balanced Accuracy']=sklearn.metrics.balanced_accuracy_score(y,y_pred)\n",
    "d['Average Precision']=sklearn.metrics.average_precision_score(y,score)\n",
    "d['ROC AUC']=sklearn.metrics.roc_auc_score(y,score)\n",
    "metrics_dict[name]=d"
   ]
  },
  {
   "cell_type": "code",
   "execution_count": 24,
   "metadata": {},
   "outputs": [
    {
     "data": {
      "text/plain": [
       "{'Precision': 0.5,\n",
       " 'Recall': 0.5,\n",
       " 'f1 score': 0.5,\n",
       " 'Accuracy': 0.9224806201550387,\n",
       " 'Balanced Accuracy': 0.7289915966386555,\n",
       " 'Average Precision': 0.4750391275391276,\n",
       " 'ROC AUC': 0.9483193277310924}"
      ]
     },
     "execution_count": 24,
     "metadata": {},
     "output_type": "execute_result"
    }
   ],
   "source": [
    "metrics_dict[name]"
   ]
  },
  {
   "cell_type": "markdown",
   "metadata": {},
   "source": [
    "Training with X_train and test on X_test -> very bad (I do not think it makes a lot of sense to compute accuracy,precision,recall,... on a test set with only anomalies)\n",
    "\n",
    "Training with X_train and test on the entire dataset X -> very good results, but here the strange may be that we are training just on inliers... \n",
    "\n",
    "Training with the entire X and test on X_test -> All zeros -> it learns that everything is an inlier. "
   ]
  },
  {
   "cell_type": "markdown",
   "metadata": {},
   "source": [
    "### Another possibility \n",
    "\n",
    "The other possibility would be the one of dividing in training and test set using train_test_split with the stratify argument so that the contamination ratio is the same in both sets and than train on X_train and test on X_test. Now we have both inliers and outliers in both sets and so maybe the results make much more sense. The problem is that with this new idea we are using a completely different strategy than the one used up to now, i.e. train only on the inliers and test only on the outliers. "
   ]
  },
  {
   "cell_type": "code",
   "execution_count": null,
   "metadata": {},
   "outputs": [],
   "source": [
    "os.chdir('c:\\\\Users\\\\lemeda98\\\\Desktop\\\\PHD Information Engineering\\\\ExIFFI\\\\ExIFFI\\\\data')\n",
    "os.getcwd()\n",
    "name='wine'\n",
    "X,y=dataset(name,os.getcwd()+'\\\\')\n",
    "X,y=downsample(X,y)\n",
    "X_train,X_test=partition_data(X,y)\n",
    "minmaxscaler=MinMaxScaler(feature_range=(-1,1))\n",
    "X_train_minmax=minmaxscaler.fit_transform(X_train)\n",
    "X_test_minmax=minmaxscaler.transform(X_test)"
   ]
  },
  {
   "cell_type": "markdown",
   "metadata": {},
   "source": [
    "## Annthyroid"
   ]
  },
  {
   "cell_type": "code",
   "execution_count": 51,
   "metadata": {},
   "outputs": [
    {
     "name": "stdout",
     "output_type": "stream",
     "text": [
      "annthyroid \n",
      "\n",
      "[numero elementi = 7062]\n",
      "[percentage outliers = 0.07561597281223449]\n",
      "[number features = 6]\n",
      "[number outliers = 534]\n",
      "downsampled to 2500\n",
      "(2500, 6)\n"
     ]
    }
   ],
   "source": [
    "name='annthyroid'\n",
    "X,y=dataset(name,os.getcwd()+'\\\\')\n",
    "X,y=downsample(X,y)\n",
    "X_train,X_test=partition_data(X,y)\n",
    "scaler=StandardScaler()\n",
    "X_train=scaler.fit_transform(X_train)\n",
    "X_test=scaler.transform(X_test)\n",
    "y_train=np.zeros(shape=X_train.shape[0])\n",
    "y_test=np.ones(shape=X_test.shape[0])\n",
    "y=np.concatenate([y_train,y_test])"
   ]
  },
  {
   "cell_type": "markdown",
   "metadata": {},
   "source": [
    "### EIF/EIF+"
   ]
  },
  {
   "cell_type": "code",
   "execution_count": 26,
   "metadata": {},
   "outputs": [],
   "source": [
    "p=sum(y)/len(y)\n",
    "EIF = ExtendedIF(300,subsample_size=min(len(X_train),300),plus=0)\n",
    "EIF.fit(X_train)"
   ]
  },
  {
   "cell_type": "markdown",
   "metadata": {},
   "source": [
    "### IF"
   ]
  },
  {
   "cell_type": "code",
   "execution_count": 52,
   "metadata": {},
   "outputs": [
    {
     "data": {
      "text/html": [
       "<style>#sk-container-id-10 {color: black;background-color: white;}#sk-container-id-10 pre{padding: 0;}#sk-container-id-10 div.sk-toggleable {background-color: white;}#sk-container-id-10 label.sk-toggleable__label {cursor: pointer;display: block;width: 100%;margin-bottom: 0;padding: 0.3em;box-sizing: border-box;text-align: center;}#sk-container-id-10 label.sk-toggleable__label-arrow:before {content: \"▸\";float: left;margin-right: 0.25em;color: #696969;}#sk-container-id-10 label.sk-toggleable__label-arrow:hover:before {color: black;}#sk-container-id-10 div.sk-estimator:hover label.sk-toggleable__label-arrow:before {color: black;}#sk-container-id-10 div.sk-toggleable__content {max-height: 0;max-width: 0;overflow: hidden;text-align: left;background-color: #f0f8ff;}#sk-container-id-10 div.sk-toggleable__content pre {margin: 0.2em;color: black;border-radius: 0.25em;background-color: #f0f8ff;}#sk-container-id-10 input.sk-toggleable__control:checked~div.sk-toggleable__content {max-height: 200px;max-width: 100%;overflow: auto;}#sk-container-id-10 input.sk-toggleable__control:checked~label.sk-toggleable__label-arrow:before {content: \"▾\";}#sk-container-id-10 div.sk-estimator input.sk-toggleable__control:checked~label.sk-toggleable__label {background-color: #d4ebff;}#sk-container-id-10 div.sk-label input.sk-toggleable__control:checked~label.sk-toggleable__label {background-color: #d4ebff;}#sk-container-id-10 input.sk-hidden--visually {border: 0;clip: rect(1px 1px 1px 1px);clip: rect(1px, 1px, 1px, 1px);height: 1px;margin: -1px;overflow: hidden;padding: 0;position: absolute;width: 1px;}#sk-container-id-10 div.sk-estimator {font-family: monospace;background-color: #f0f8ff;border: 1px dotted black;border-radius: 0.25em;box-sizing: border-box;margin-bottom: 0.5em;}#sk-container-id-10 div.sk-estimator:hover {background-color: #d4ebff;}#sk-container-id-10 div.sk-parallel-item::after {content: \"\";width: 100%;border-bottom: 1px solid gray;flex-grow: 1;}#sk-container-id-10 div.sk-label:hover label.sk-toggleable__label {background-color: #d4ebff;}#sk-container-id-10 div.sk-serial::before {content: \"\";position: absolute;border-left: 1px solid gray;box-sizing: border-box;top: 0;bottom: 0;left: 50%;z-index: 0;}#sk-container-id-10 div.sk-serial {display: flex;flex-direction: column;align-items: center;background-color: white;padding-right: 0.2em;padding-left: 0.2em;position: relative;}#sk-container-id-10 div.sk-item {position: relative;z-index: 1;}#sk-container-id-10 div.sk-parallel {display: flex;align-items: stretch;justify-content: center;background-color: white;position: relative;}#sk-container-id-10 div.sk-item::before, #sk-container-id-10 div.sk-parallel-item::before {content: \"\";position: absolute;border-left: 1px solid gray;box-sizing: border-box;top: 0;bottom: 0;left: 50%;z-index: -1;}#sk-container-id-10 div.sk-parallel-item {display: flex;flex-direction: column;z-index: 1;position: relative;background-color: white;}#sk-container-id-10 div.sk-parallel-item:first-child::after {align-self: flex-end;width: 50%;}#sk-container-id-10 div.sk-parallel-item:last-child::after {align-self: flex-start;width: 50%;}#sk-container-id-10 div.sk-parallel-item:only-child::after {width: 0;}#sk-container-id-10 div.sk-dashed-wrapped {border: 1px dashed gray;margin: 0 0.4em 0.5em 0.4em;box-sizing: border-box;padding-bottom: 0.4em;background-color: white;}#sk-container-id-10 div.sk-label label {font-family: monospace;font-weight: bold;display: inline-block;line-height: 1.2em;}#sk-container-id-10 div.sk-label-container {text-align: center;}#sk-container-id-10 div.sk-container {/* jupyter's `normalize.less` sets `[hidden] { display: none; }` but bootstrap.min.css set `[hidden] { display: none !important; }` so we also need the `!important` here to be able to override the default hidden behavior on the sphinx rendered scikit-learn.org. See: https://github.com/scikit-learn/scikit-learn/issues/21755 */display: inline-block !important;position: relative;}#sk-container-id-10 div.sk-text-repr-fallback {display: none;}</style><div id=\"sk-container-id-10\" class=\"sk-top-container\"><div class=\"sk-text-repr-fallback\"><pre>IsolationForest(max_samples=300, n_estimators=300)</pre><b>In a Jupyter environment, please rerun this cell to show the HTML representation or trust the notebook. <br />On GitHub, the HTML representation is unable to render, please try loading this page with nbviewer.org.</b></div><div class=\"sk-container\" hidden><div class=\"sk-item\"><div class=\"sk-estimator sk-toggleable\"><input class=\"sk-toggleable__control sk-hidden--visually\" id=\"sk-estimator-id-10\" type=\"checkbox\" checked><label for=\"sk-estimator-id-10\" class=\"sk-toggleable__label sk-toggleable__label-arrow\">IsolationForest</label><div class=\"sk-toggleable__content\"><pre>IsolationForest(max_samples=300, n_estimators=300)</pre></div></div></div></div></div>"
      ],
      "text/plain": [
       "IsolationForest(max_samples=300, n_estimators=300)"
      ]
     },
     "execution_count": 52,
     "metadata": {},
     "output_type": "execute_result"
    }
   ],
   "source": [
    "p=sum(y)/len(y)\n",
    "IF=IsolationForest(n_estimators=300,max_samples=min(len(X_train),300))\n",
    "IF.fit(X_train)"
   ]
  },
  {
   "cell_type": "markdown",
   "metadata": {},
   "source": [
    "Performance IF"
   ]
  },
  {
   "cell_type": "code",
   "execution_count": 54,
   "metadata": {},
   "outputs": [],
   "source": [
    "X_test=np.r_[X_train,X_test]\n",
    "score=-1*IF.score_samples(X_test)+0.5\n",
    "y_pred=if_predict(score,p)\n",
    "d={}\n",
    "d['Precision']=sklearn.metrics.precision_score(y,y_pred)\n",
    "d['Recall']=sklearn.metrics.recall_score(y,y_pred)\n",
    "d['f1 score']=sklearn.metrics.f1_score(y,y_pred)\n",
    "d['Accuracy']=sklearn.metrics.accuracy_score(y,y_pred)\n",
    "d['Balanced Accuracy']=sklearn.metrics.balanced_accuracy_score(y,y_pred)\n",
    "d['Average Precision']=sklearn.metrics.average_precision_score(y,score)\n",
    "d['ROC AUC']=sklearn.metrics.roc_auc_score(y,score)\n",
    "metrics_dict[name]=d"
   ]
  },
  {
   "cell_type": "code",
   "execution_count": 55,
   "metadata": {},
   "outputs": [
    {
     "data": {
      "text/plain": [
       "{'Precision': 0.4497354497354497,\n",
       " 'Recall': 0.4497354497354497,\n",
       " 'f1 score': 0.4497354497354497,\n",
       " 'Accuracy': 0.9168,\n",
       " 'Balanced Accuracy': 0.7023666430849468,\n",
       " 'Average Precision': 0.476999424694442,\n",
       " 'ROC AUC': 0.9169076352113998}"
      ]
     },
     "execution_count": 55,
     "metadata": {},
     "output_type": "execute_result"
    }
   ],
   "source": [
    "metrics_dict[name]"
   ]
  },
  {
   "cell_type": "markdown",
   "metadata": {},
   "source": [
    "Performance EIF/EIF+"
   ]
  },
  {
   "cell_type": "code",
   "execution_count": null,
   "metadata": {},
   "outputs": [],
   "source": [
    "X_test=np.r_[X_train,X_test]\n",
    "y_pred=EIF._predict(X_test,p).astype(int)\n",
    "score=EIF.Anomaly_Score(X_test)\n",
    "d={}\n",
    "d['Precision']=sklearn.metrics.precision_score(y,y_pred)\n",
    "d['Recall']=sklearn.metrics.recall_score(y,y_pred)\n",
    "d['f1 score']=sklearn.metrics.f1_score(y,y_pred)\n",
    "d['Accuracy']=sklearn.metrics.accuracy_score(y,y_pred)\n",
    "d['Balanced Accuracy']=sklearn.metrics.balanced_accuracy_score(y,y_pred)\n",
    "d['Average Precision']=sklearn.metrics.average_precision_score(y,score)\n",
    "d['ROC AUC']=sklearn.metrics.roc_auc_score(y,score)\n",
    "metrics_dict[name]=d"
   ]
  },
  {
   "cell_type": "code",
   "execution_count": 28,
   "metadata": {},
   "outputs": [
    {
     "data": {
      "text/plain": [
       "{'Precision': 0.4021164021164021,\n",
       " 'Recall': 0.4021164021164021,\n",
       " 'f1 score': 0.4021164021164021,\n",
       " 'Accuracy': 0.9096,\n",
       " 'Balanced Accuracy': 0.6766099102749903,\n",
       " 'Average Precision': 0.444824755470444,\n",
       " 'ROC AUC': 0.8709347290048285}"
      ]
     },
     "execution_count": 28,
     "metadata": {},
     "output_type": "execute_result"
    }
   ],
   "source": [
    "metrics_dict[name]"
   ]
  },
  {
   "cell_type": "markdown",
   "metadata": {},
   "source": [
    "## Breastw"
   ]
  },
  {
   "cell_type": "code",
   "execution_count": 56,
   "metadata": {},
   "outputs": [
    {
     "name": "stdout",
     "output_type": "stream",
     "text": [
      "breastw \n",
      "\n",
      "[numero elementi = 449]\n",
      "[percentage outliers = 0.5256124721603563]\n",
      "[number features = 9]\n",
      "[number outliers = 236]\n"
     ]
    }
   ],
   "source": [
    "name='breastw'\n",
    "X,y=dataset(name,os.getcwd()+'\\\\')\n",
    "X,y=downsample(X,y)\n",
    "X_train,X_test=partition_data(X,y)\n",
    "scaler=StandardScaler()\n",
    "X_train=scaler.fit_transform(X_train)\n",
    "X_test=scaler.transform(X_test)\n",
    "y_train=np.zeros(shape=X_train.shape[0])\n",
    "y_test=np.ones(shape=X_test.shape[0])\n",
    "y=np.concatenate([y_train,y_test])"
   ]
  },
  {
   "cell_type": "markdown",
   "metadata": {},
   "source": [
    "Subsample"
   ]
  },
  {
   "cell_type": "code",
   "execution_count": 57,
   "metadata": {},
   "outputs": [
    {
     "data": {
      "text/plain": [
       "(44, 9)"
      ]
     },
     "execution_count": 57,
     "metadata": {},
     "output_type": "execute_result"
    }
   ],
   "source": [
    "ind=np.random.choice(np.arange(X_test.shape[0]),int(X.shape[0]*0.1))\n",
    "X_test=X_test[ind,:]\n",
    "X_test.shape"
   ]
  },
  {
   "cell_type": "code",
   "execution_count": 58,
   "metadata": {},
   "outputs": [],
   "source": [
    "y_train=np.zeros(shape=X_train.shape[0])\n",
    "y_test=np.ones(shape=X_test.shape[0])\n",
    "y=np.concatenate([y_train,y_test])"
   ]
  },
  {
   "cell_type": "markdown",
   "metadata": {},
   "source": [
    "### EIF/EIF+"
   ]
  },
  {
   "cell_type": "code",
   "execution_count": 55,
   "metadata": {},
   "outputs": [],
   "source": [
    "p=sum(y)/len(y)\n",
    "EIF = ExtendedIF(300,subsample_size=min(len(X_train),300),plus=1)\n",
    "EIF.fit(X_train)"
   ]
  },
  {
   "cell_type": "markdown",
   "metadata": {},
   "source": [
    "### IF "
   ]
  },
  {
   "cell_type": "code",
   "execution_count": 59,
   "metadata": {},
   "outputs": [
    {
     "data": {
      "text/html": [
       "<style>#sk-container-id-11 {color: black;background-color: white;}#sk-container-id-11 pre{padding: 0;}#sk-container-id-11 div.sk-toggleable {background-color: white;}#sk-container-id-11 label.sk-toggleable__label {cursor: pointer;display: block;width: 100%;margin-bottom: 0;padding: 0.3em;box-sizing: border-box;text-align: center;}#sk-container-id-11 label.sk-toggleable__label-arrow:before {content: \"▸\";float: left;margin-right: 0.25em;color: #696969;}#sk-container-id-11 label.sk-toggleable__label-arrow:hover:before {color: black;}#sk-container-id-11 div.sk-estimator:hover label.sk-toggleable__label-arrow:before {color: black;}#sk-container-id-11 div.sk-toggleable__content {max-height: 0;max-width: 0;overflow: hidden;text-align: left;background-color: #f0f8ff;}#sk-container-id-11 div.sk-toggleable__content pre {margin: 0.2em;color: black;border-radius: 0.25em;background-color: #f0f8ff;}#sk-container-id-11 input.sk-toggleable__control:checked~div.sk-toggleable__content {max-height: 200px;max-width: 100%;overflow: auto;}#sk-container-id-11 input.sk-toggleable__control:checked~label.sk-toggleable__label-arrow:before {content: \"▾\";}#sk-container-id-11 div.sk-estimator input.sk-toggleable__control:checked~label.sk-toggleable__label {background-color: #d4ebff;}#sk-container-id-11 div.sk-label input.sk-toggleable__control:checked~label.sk-toggleable__label {background-color: #d4ebff;}#sk-container-id-11 input.sk-hidden--visually {border: 0;clip: rect(1px 1px 1px 1px);clip: rect(1px, 1px, 1px, 1px);height: 1px;margin: -1px;overflow: hidden;padding: 0;position: absolute;width: 1px;}#sk-container-id-11 div.sk-estimator {font-family: monospace;background-color: #f0f8ff;border: 1px dotted black;border-radius: 0.25em;box-sizing: border-box;margin-bottom: 0.5em;}#sk-container-id-11 div.sk-estimator:hover {background-color: #d4ebff;}#sk-container-id-11 div.sk-parallel-item::after {content: \"\";width: 100%;border-bottom: 1px solid gray;flex-grow: 1;}#sk-container-id-11 div.sk-label:hover label.sk-toggleable__label {background-color: #d4ebff;}#sk-container-id-11 div.sk-serial::before {content: \"\";position: absolute;border-left: 1px solid gray;box-sizing: border-box;top: 0;bottom: 0;left: 50%;z-index: 0;}#sk-container-id-11 div.sk-serial {display: flex;flex-direction: column;align-items: center;background-color: white;padding-right: 0.2em;padding-left: 0.2em;position: relative;}#sk-container-id-11 div.sk-item {position: relative;z-index: 1;}#sk-container-id-11 div.sk-parallel {display: flex;align-items: stretch;justify-content: center;background-color: white;position: relative;}#sk-container-id-11 div.sk-item::before, #sk-container-id-11 div.sk-parallel-item::before {content: \"\";position: absolute;border-left: 1px solid gray;box-sizing: border-box;top: 0;bottom: 0;left: 50%;z-index: -1;}#sk-container-id-11 div.sk-parallel-item {display: flex;flex-direction: column;z-index: 1;position: relative;background-color: white;}#sk-container-id-11 div.sk-parallel-item:first-child::after {align-self: flex-end;width: 50%;}#sk-container-id-11 div.sk-parallel-item:last-child::after {align-self: flex-start;width: 50%;}#sk-container-id-11 div.sk-parallel-item:only-child::after {width: 0;}#sk-container-id-11 div.sk-dashed-wrapped {border: 1px dashed gray;margin: 0 0.4em 0.5em 0.4em;box-sizing: border-box;padding-bottom: 0.4em;background-color: white;}#sk-container-id-11 div.sk-label label {font-family: monospace;font-weight: bold;display: inline-block;line-height: 1.2em;}#sk-container-id-11 div.sk-label-container {text-align: center;}#sk-container-id-11 div.sk-container {/* jupyter's `normalize.less` sets `[hidden] { display: none; }` but bootstrap.min.css set `[hidden] { display: none !important; }` so we also need the `!important` here to be able to override the default hidden behavior on the sphinx rendered scikit-learn.org. See: https://github.com/scikit-learn/scikit-learn/issues/21755 */display: inline-block !important;position: relative;}#sk-container-id-11 div.sk-text-repr-fallback {display: none;}</style><div id=\"sk-container-id-11\" class=\"sk-top-container\"><div class=\"sk-text-repr-fallback\"><pre>IsolationForest(max_samples=213, n_estimators=300)</pre><b>In a Jupyter environment, please rerun this cell to show the HTML representation or trust the notebook. <br />On GitHub, the HTML representation is unable to render, please try loading this page with nbviewer.org.</b></div><div class=\"sk-container\" hidden><div class=\"sk-item\"><div class=\"sk-estimator sk-toggleable\"><input class=\"sk-toggleable__control sk-hidden--visually\" id=\"sk-estimator-id-11\" type=\"checkbox\" checked><label for=\"sk-estimator-id-11\" class=\"sk-toggleable__label sk-toggleable__label-arrow\">IsolationForest</label><div class=\"sk-toggleable__content\"><pre>IsolationForest(max_samples=213, n_estimators=300)</pre></div></div></div></div></div>"
      ],
      "text/plain": [
       "IsolationForest(max_samples=213, n_estimators=300)"
      ]
     },
     "execution_count": 59,
     "metadata": {},
     "output_type": "execute_result"
    }
   ],
   "source": [
    "p=sum(y)/len(y)\n",
    "IF=IsolationForest(n_estimators=300,max_samples=min(len(X_train),300))\n",
    "IF.fit(X_train)"
   ]
  },
  {
   "cell_type": "markdown",
   "metadata": {},
   "source": [
    "Performance IF"
   ]
  },
  {
   "cell_type": "code",
   "execution_count": 60,
   "metadata": {},
   "outputs": [],
   "source": [
    "X_test=np.r_[X_train,X_test]\n",
    "score=-1*IF.score_samples(X_test)+0.5\n",
    "y_pred=if_predict(score,p)\n",
    "d={}\n",
    "d['Precision']=sklearn.metrics.precision_score(y,y_pred)\n",
    "d['Recall']=sklearn.metrics.recall_score(y,y_pred)\n",
    "d['f1 score']=sklearn.metrics.f1_score(y,y_pred)\n",
    "d['Accuracy']=sklearn.metrics.accuracy_score(y,y_pred)\n",
    "d['Balanced Accuracy']=sklearn.metrics.balanced_accuracy_score(y,y_pred)\n",
    "d['Average Precision']=sklearn.metrics.average_precision_score(y,score)\n",
    "d['ROC AUC']=sklearn.metrics.roc_auc_score(y,score)\n",
    "metrics_dict[name]=d"
   ]
  },
  {
   "cell_type": "code",
   "execution_count": 61,
   "metadata": {},
   "outputs": [
    {
     "data": {
      "text/plain": [
       "{'Precision': 0.9090909090909091,\n",
       " 'Recall': 0.9090909090909091,\n",
       " 'f1 score': 0.9090909090909091,\n",
       " 'Accuracy': 0.9688715953307393,\n",
       " 'Balanced Accuracy': 0.9451557831839521,\n",
       " 'Average Precision': 0.9787069476892165,\n",
       " 'ROC AUC': 0.9957319675629535}"
      ]
     },
     "execution_count": 61,
     "metadata": {},
     "output_type": "execute_result"
    }
   ],
   "source": [
    "metrics_dict[name]"
   ]
  },
  {
   "cell_type": "markdown",
   "metadata": {},
   "source": [
    "Performance EIF/EIF+"
   ]
  },
  {
   "cell_type": "code",
   "execution_count": 56,
   "metadata": {},
   "outputs": [
    {
     "data": {
      "text/plain": [
       "{'Precision': 0.9090909090909091,\n",
       " 'Recall': 0.9090909090909091,\n",
       " 'f1 score': 0.9090909090909091,\n",
       " 'Accuracy': 0.9688715953307393,\n",
       " 'Balanced Accuracy': 0.9451557831839521,\n",
       " 'Average Precision': 0.9754198524183524,\n",
       " 'ROC AUC': 0.9937046521553563}"
      ]
     },
     "execution_count": 56,
     "metadata": {},
     "output_type": "execute_result"
    }
   ],
   "source": [
    "X_test=np.r_[X_train,X_test]\n",
    "y_pred=EIF._predict(X_test,p).astype(int)\n",
    "score=EIF.Anomaly_Score(X_test)\n",
    "d={}\n",
    "d['Precision']=sklearn.metrics.precision_score(y,y_pred)\n",
    "d['Recall']=sklearn.metrics.recall_score(y,y_pred)\n",
    "d['f1 score']=sklearn.metrics.f1_score(y,y_pred)\n",
    "d['Accuracy']=sklearn.metrics.accuracy_score(y,y_pred)\n",
    "d['Balanced Accuracy']=sklearn.metrics.balanced_accuracy_score(y,y_pred)\n",
    "d['Average Precision']=sklearn.metrics.average_precision_score(y,score)\n",
    "d['ROC AUC']=sklearn.metrics.roc_auc_score(y,score)\n",
    "#metrics_dict[name]=d\n",
    "d"
   ]
  },
  {
   "cell_type": "code",
   "execution_count": 36,
   "metadata": {},
   "outputs": [
    {
     "data": {
      "text/plain": [
       "{'Precision': 0.8409090909090909,\n",
       " 'Recall': 0.8409090909090909,\n",
       " 'f1 score': 0.8409090909090909,\n",
       " 'Accuracy': 0.9455252918287937,\n",
       " 'Balanced Accuracy': 0.9040226205719164,\n",
       " 'Average Precision': 0.9209826895637299,\n",
       " 'ROC AUC': 0.9816474605207}"
      ]
     },
     "execution_count": 36,
     "metadata": {},
     "output_type": "execute_result"
    }
   ],
   "source": [
    "metrics_dict[name]"
   ]
  },
  {
   "cell_type": "markdown",
   "metadata": {},
   "source": [
    "## Shuttle "
   ]
  },
  {
   "cell_type": "code",
   "execution_count": 62,
   "metadata": {},
   "outputs": [
    {
     "name": "stdout",
     "output_type": "stream",
     "text": [
      "shuttle \n",
      "\n",
      "[numero elementi = 49097]\n",
      "[percentage outliers = 0.0715114976475141]\n",
      "[number features = 9]\n",
      "[number outliers = 3511]\n",
      "downsampled to 2500\n",
      "(2500, 9)\n"
     ]
    }
   ],
   "source": [
    "name='shuttle'\n",
    "X,y=dataset(name,os.getcwd()+'\\\\')\n",
    "X,y=downsample(X,y)\n",
    "X_train,X_test=partition_data(X,y)\n",
    "scaler=StandardScaler()\n",
    "X_train=scaler.fit_transform(X_train)\n",
    "X_test=scaler.transform(X_test)\n",
    "y_train=np.zeros(shape=X_train.shape[0])\n",
    "y_test=np.ones(shape=X_test.shape[0])\n",
    "y=np.concatenate([y_train,y_test])"
   ]
  },
  {
   "cell_type": "markdown",
   "metadata": {},
   "source": [
    "### EIF/EIF+"
   ]
  },
  {
   "cell_type": "code",
   "execution_count": 47,
   "metadata": {},
   "outputs": [],
   "source": [
    "p=sum(y)/len(y)\n",
    "EIF = ExtendedIF(300,subsample_size=min(len(X_train),300),plus=0)\n",
    "EIF.fit(X_train)"
   ]
  },
  {
   "cell_type": "markdown",
   "metadata": {},
   "source": [
    "### IF"
   ]
  },
  {
   "cell_type": "code",
   "execution_count": 63,
   "metadata": {},
   "outputs": [
    {
     "data": {
      "text/html": [
       "<style>#sk-container-id-12 {color: black;background-color: white;}#sk-container-id-12 pre{padding: 0;}#sk-container-id-12 div.sk-toggleable {background-color: white;}#sk-container-id-12 label.sk-toggleable__label {cursor: pointer;display: block;width: 100%;margin-bottom: 0;padding: 0.3em;box-sizing: border-box;text-align: center;}#sk-container-id-12 label.sk-toggleable__label-arrow:before {content: \"▸\";float: left;margin-right: 0.25em;color: #696969;}#sk-container-id-12 label.sk-toggleable__label-arrow:hover:before {color: black;}#sk-container-id-12 div.sk-estimator:hover label.sk-toggleable__label-arrow:before {color: black;}#sk-container-id-12 div.sk-toggleable__content {max-height: 0;max-width: 0;overflow: hidden;text-align: left;background-color: #f0f8ff;}#sk-container-id-12 div.sk-toggleable__content pre {margin: 0.2em;color: black;border-radius: 0.25em;background-color: #f0f8ff;}#sk-container-id-12 input.sk-toggleable__control:checked~div.sk-toggleable__content {max-height: 200px;max-width: 100%;overflow: auto;}#sk-container-id-12 input.sk-toggleable__control:checked~label.sk-toggleable__label-arrow:before {content: \"▾\";}#sk-container-id-12 div.sk-estimator input.sk-toggleable__control:checked~label.sk-toggleable__label {background-color: #d4ebff;}#sk-container-id-12 div.sk-label input.sk-toggleable__control:checked~label.sk-toggleable__label {background-color: #d4ebff;}#sk-container-id-12 input.sk-hidden--visually {border: 0;clip: rect(1px 1px 1px 1px);clip: rect(1px, 1px, 1px, 1px);height: 1px;margin: -1px;overflow: hidden;padding: 0;position: absolute;width: 1px;}#sk-container-id-12 div.sk-estimator {font-family: monospace;background-color: #f0f8ff;border: 1px dotted black;border-radius: 0.25em;box-sizing: border-box;margin-bottom: 0.5em;}#sk-container-id-12 div.sk-estimator:hover {background-color: #d4ebff;}#sk-container-id-12 div.sk-parallel-item::after {content: \"\";width: 100%;border-bottom: 1px solid gray;flex-grow: 1;}#sk-container-id-12 div.sk-label:hover label.sk-toggleable__label {background-color: #d4ebff;}#sk-container-id-12 div.sk-serial::before {content: \"\";position: absolute;border-left: 1px solid gray;box-sizing: border-box;top: 0;bottom: 0;left: 50%;z-index: 0;}#sk-container-id-12 div.sk-serial {display: flex;flex-direction: column;align-items: center;background-color: white;padding-right: 0.2em;padding-left: 0.2em;position: relative;}#sk-container-id-12 div.sk-item {position: relative;z-index: 1;}#sk-container-id-12 div.sk-parallel {display: flex;align-items: stretch;justify-content: center;background-color: white;position: relative;}#sk-container-id-12 div.sk-item::before, #sk-container-id-12 div.sk-parallel-item::before {content: \"\";position: absolute;border-left: 1px solid gray;box-sizing: border-box;top: 0;bottom: 0;left: 50%;z-index: -1;}#sk-container-id-12 div.sk-parallel-item {display: flex;flex-direction: column;z-index: 1;position: relative;background-color: white;}#sk-container-id-12 div.sk-parallel-item:first-child::after {align-self: flex-end;width: 50%;}#sk-container-id-12 div.sk-parallel-item:last-child::after {align-self: flex-start;width: 50%;}#sk-container-id-12 div.sk-parallel-item:only-child::after {width: 0;}#sk-container-id-12 div.sk-dashed-wrapped {border: 1px dashed gray;margin: 0 0.4em 0.5em 0.4em;box-sizing: border-box;padding-bottom: 0.4em;background-color: white;}#sk-container-id-12 div.sk-label label {font-family: monospace;font-weight: bold;display: inline-block;line-height: 1.2em;}#sk-container-id-12 div.sk-label-container {text-align: center;}#sk-container-id-12 div.sk-container {/* jupyter's `normalize.less` sets `[hidden] { display: none; }` but bootstrap.min.css set `[hidden] { display: none !important; }` so we also need the `!important` here to be able to override the default hidden behavior on the sphinx rendered scikit-learn.org. See: https://github.com/scikit-learn/scikit-learn/issues/21755 */display: inline-block !important;position: relative;}#sk-container-id-12 div.sk-text-repr-fallback {display: none;}</style><div id=\"sk-container-id-12\" class=\"sk-top-container\"><div class=\"sk-text-repr-fallback\"><pre>IsolationForest(max_samples=300, n_estimators=300)</pre><b>In a Jupyter environment, please rerun this cell to show the HTML representation or trust the notebook. <br />On GitHub, the HTML representation is unable to render, please try loading this page with nbviewer.org.</b></div><div class=\"sk-container\" hidden><div class=\"sk-item\"><div class=\"sk-estimator sk-toggleable\"><input class=\"sk-toggleable__control sk-hidden--visually\" id=\"sk-estimator-id-12\" type=\"checkbox\" checked><label for=\"sk-estimator-id-12\" class=\"sk-toggleable__label sk-toggleable__label-arrow\">IsolationForest</label><div class=\"sk-toggleable__content\"><pre>IsolationForest(max_samples=300, n_estimators=300)</pre></div></div></div></div></div>"
      ],
      "text/plain": [
       "IsolationForest(max_samples=300, n_estimators=300)"
      ]
     },
     "execution_count": 63,
     "metadata": {},
     "output_type": "execute_result"
    }
   ],
   "source": [
    "p=sum(y)/len(y)\n",
    "IF=IsolationForest(n_estimators=300,max_samples=min(len(X_train),300))\n",
    "IF.fit(X_train)"
   ]
  },
  {
   "cell_type": "markdown",
   "metadata": {},
   "source": [
    "Performance IF"
   ]
  },
  {
   "cell_type": "code",
   "execution_count": 64,
   "metadata": {},
   "outputs": [],
   "source": [
    "X_test=np.r_[X_train,X_test]\n",
    "score=-1*IF.score_samples(X_test)+0.5\n",
    "y_pred=if_predict(score,p)\n",
    "d={}\n",
    "d['Precision']=sklearn.metrics.precision_score(y,y_pred)\n",
    "d['Recall']=sklearn.metrics.recall_score(y,y_pred)\n",
    "d['f1 score']=sklearn.metrics.f1_score(y,y_pred)\n",
    "d['Accuracy']=sklearn.metrics.accuracy_score(y,y_pred)\n",
    "d['Balanced Accuracy']=sklearn.metrics.balanced_accuracy_score(y,y_pred)\n",
    "d['Average Precision']=sklearn.metrics.average_precision_score(y,score)\n",
    "d['ROC AUC']=sklearn.metrics.roc_auc_score(y,score)\n",
    "metrics_dict[name]=d"
   ]
  },
  {
   "cell_type": "code",
   "execution_count": 67,
   "metadata": {},
   "outputs": [
    {
     "data": {
      "text/plain": [
       "{'Precision': 0.9497206703910615,\n",
       " 'Recall': 0.9497206703910615,\n",
       " 'f1 score': 0.9497206703910615,\n",
       " 'Accuracy': 0.9928,\n",
       " 'Balanced Accuracy': 0.9729215157211663,\n",
       " 'Average Precision': 0.9789481396931901,\n",
       " 'ROC AUC': 0.99717420972948}"
      ]
     },
     "execution_count": 67,
     "metadata": {},
     "output_type": "execute_result"
    }
   ],
   "source": [
    "metrics_dict[name]"
   ]
  },
  {
   "cell_type": "markdown",
   "metadata": {},
   "source": [
    "Performance EIF/EIF+"
   ]
  },
  {
   "cell_type": "code",
   "execution_count": 48,
   "metadata": {},
   "outputs": [],
   "source": [
    "X_test=np.r_[X_train,X_test]\n",
    "y_pred=EIF._predict(X_test,p).astype(int)\n",
    "score=EIF.Anomaly_Score(X_test)\n",
    "d={}\n",
    "d['Precision']=sklearn.metrics.precision_score(y,y_pred)\n",
    "d['Recall']=sklearn.metrics.recall_score(y,y_pred)\n",
    "d['f1 score']=sklearn.metrics.f1_score(y,y_pred)\n",
    "d['Accuracy']=sklearn.metrics.accuracy_score(y,y_pred)\n",
    "d['Balanced Accuracy']=sklearn.metrics.balanced_accuracy_score(y,y_pred)\n",
    "d['Average Precision']=sklearn.metrics.average_precision_score(y,score)\n",
    "d['ROC AUC']=sklearn.metrics.roc_auc_score(y,score)\n",
    "metrics_dict[name]=d"
   ]
  },
  {
   "cell_type": "code",
   "execution_count": 49,
   "metadata": {},
   "outputs": [
    {
     "data": {
      "text/plain": [
       "{'Precision': 0.9497206703910615,\n",
       " 'Recall': 0.9497206703910615,\n",
       " 'f1 score': 0.9497206703910615,\n",
       " 'Accuracy': 0.9928,\n",
       " 'Balanced Accuracy': 0.9729215157211663,\n",
       " 'Average Precision': 0.9317001854736681,\n",
       " 'ROC AUC': 0.9978963026435821}"
      ]
     },
     "execution_count": 49,
     "metadata": {},
     "output_type": "execute_result"
    }
   ],
   "source": [
    "metrics_dict[name]"
   ]
  },
  {
   "cell_type": "markdown",
   "metadata": {},
   "source": [
    "## Pima"
   ]
  },
  {
   "cell_type": "code",
   "execution_count": 69,
   "metadata": {},
   "outputs": [
    {
     "name": "stdout",
     "output_type": "stream",
     "text": [
      "pima \n",
      "\n",
      "[numero elementi = 768]\n",
      "[percentage outliers = 0.3489583333333333]\n",
      "[number features = 8]\n",
      "[number outliers = 268]\n"
     ]
    }
   ],
   "source": [
    "name='pima'\n",
    "X,y=dataset(name,os.getcwd()+'\\\\')\n",
    "X,y=downsample(X,y)\n",
    "X_train,X_test=partition_data(X,y)\n",
    "scaler=StandardScaler()\n",
    "X_train=scaler.fit_transform(X_train)\n",
    "X_test=scaler.transform(X_test)"
   ]
  },
  {
   "cell_type": "markdown",
   "metadata": {},
   "source": [
    "Subsample"
   ]
  },
  {
   "cell_type": "code",
   "execution_count": 70,
   "metadata": {},
   "outputs": [
    {
     "data": {
      "text/plain": [
       "(76, 8)"
      ]
     },
     "execution_count": 70,
     "metadata": {},
     "output_type": "execute_result"
    }
   ],
   "source": [
    "ind=np.random.choice(np.arange(X_test.shape[0]),int(X.shape[0]*0.1))\n",
    "X_test=X_test[ind,:]\n",
    "X_test.shape"
   ]
  },
  {
   "cell_type": "code",
   "execution_count": 71,
   "metadata": {},
   "outputs": [],
   "source": [
    "y_train=np.zeros(shape=X_train.shape[0])\n",
    "y_test=np.ones(shape=X_test.shape[0])\n",
    "y=np.concatenate([y_train,y_test])"
   ]
  },
  {
   "cell_type": "markdown",
   "metadata": {},
   "source": [
    "### EIF/EIF+"
   ]
  },
  {
   "cell_type": "code",
   "execution_count": 59,
   "metadata": {},
   "outputs": [],
   "source": [
    "p=sum(y)/len(y)\n",
    "EIF = ExtendedIF(300,subsample_size=min(len(X_train),300),plus=0)\n",
    "EIF.fit(X_train)"
   ]
  },
  {
   "cell_type": "markdown",
   "metadata": {},
   "source": [
    "### IF "
   ]
  },
  {
   "cell_type": "code",
   "execution_count": 72,
   "metadata": {},
   "outputs": [
    {
     "data": {
      "text/html": [
       "<style>#sk-container-id-13 {color: black;background-color: white;}#sk-container-id-13 pre{padding: 0;}#sk-container-id-13 div.sk-toggleable {background-color: white;}#sk-container-id-13 label.sk-toggleable__label {cursor: pointer;display: block;width: 100%;margin-bottom: 0;padding: 0.3em;box-sizing: border-box;text-align: center;}#sk-container-id-13 label.sk-toggleable__label-arrow:before {content: \"▸\";float: left;margin-right: 0.25em;color: #696969;}#sk-container-id-13 label.sk-toggleable__label-arrow:hover:before {color: black;}#sk-container-id-13 div.sk-estimator:hover label.sk-toggleable__label-arrow:before {color: black;}#sk-container-id-13 div.sk-toggleable__content {max-height: 0;max-width: 0;overflow: hidden;text-align: left;background-color: #f0f8ff;}#sk-container-id-13 div.sk-toggleable__content pre {margin: 0.2em;color: black;border-radius: 0.25em;background-color: #f0f8ff;}#sk-container-id-13 input.sk-toggleable__control:checked~div.sk-toggleable__content {max-height: 200px;max-width: 100%;overflow: auto;}#sk-container-id-13 input.sk-toggleable__control:checked~label.sk-toggleable__label-arrow:before {content: \"▾\";}#sk-container-id-13 div.sk-estimator input.sk-toggleable__control:checked~label.sk-toggleable__label {background-color: #d4ebff;}#sk-container-id-13 div.sk-label input.sk-toggleable__control:checked~label.sk-toggleable__label {background-color: #d4ebff;}#sk-container-id-13 input.sk-hidden--visually {border: 0;clip: rect(1px 1px 1px 1px);clip: rect(1px, 1px, 1px, 1px);height: 1px;margin: -1px;overflow: hidden;padding: 0;position: absolute;width: 1px;}#sk-container-id-13 div.sk-estimator {font-family: monospace;background-color: #f0f8ff;border: 1px dotted black;border-radius: 0.25em;box-sizing: border-box;margin-bottom: 0.5em;}#sk-container-id-13 div.sk-estimator:hover {background-color: #d4ebff;}#sk-container-id-13 div.sk-parallel-item::after {content: \"\";width: 100%;border-bottom: 1px solid gray;flex-grow: 1;}#sk-container-id-13 div.sk-label:hover label.sk-toggleable__label {background-color: #d4ebff;}#sk-container-id-13 div.sk-serial::before {content: \"\";position: absolute;border-left: 1px solid gray;box-sizing: border-box;top: 0;bottom: 0;left: 50%;z-index: 0;}#sk-container-id-13 div.sk-serial {display: flex;flex-direction: column;align-items: center;background-color: white;padding-right: 0.2em;padding-left: 0.2em;position: relative;}#sk-container-id-13 div.sk-item {position: relative;z-index: 1;}#sk-container-id-13 div.sk-parallel {display: flex;align-items: stretch;justify-content: center;background-color: white;position: relative;}#sk-container-id-13 div.sk-item::before, #sk-container-id-13 div.sk-parallel-item::before {content: \"\";position: absolute;border-left: 1px solid gray;box-sizing: border-box;top: 0;bottom: 0;left: 50%;z-index: -1;}#sk-container-id-13 div.sk-parallel-item {display: flex;flex-direction: column;z-index: 1;position: relative;background-color: white;}#sk-container-id-13 div.sk-parallel-item:first-child::after {align-self: flex-end;width: 50%;}#sk-container-id-13 div.sk-parallel-item:last-child::after {align-self: flex-start;width: 50%;}#sk-container-id-13 div.sk-parallel-item:only-child::after {width: 0;}#sk-container-id-13 div.sk-dashed-wrapped {border: 1px dashed gray;margin: 0 0.4em 0.5em 0.4em;box-sizing: border-box;padding-bottom: 0.4em;background-color: white;}#sk-container-id-13 div.sk-label label {font-family: monospace;font-weight: bold;display: inline-block;line-height: 1.2em;}#sk-container-id-13 div.sk-label-container {text-align: center;}#sk-container-id-13 div.sk-container {/* jupyter's `normalize.less` sets `[hidden] { display: none; }` but bootstrap.min.css set `[hidden] { display: none !important; }` so we also need the `!important` here to be able to override the default hidden behavior on the sphinx rendered scikit-learn.org. See: https://github.com/scikit-learn/scikit-learn/issues/21755 */display: inline-block !important;position: relative;}#sk-container-id-13 div.sk-text-repr-fallback {display: none;}</style><div id=\"sk-container-id-13\" class=\"sk-top-container\"><div class=\"sk-text-repr-fallback\"><pre>IsolationForest(max_samples=300, n_estimators=300)</pre><b>In a Jupyter environment, please rerun this cell to show the HTML representation or trust the notebook. <br />On GitHub, the HTML representation is unable to render, please try loading this page with nbviewer.org.</b></div><div class=\"sk-container\" hidden><div class=\"sk-item\"><div class=\"sk-estimator sk-toggleable\"><input class=\"sk-toggleable__control sk-hidden--visually\" id=\"sk-estimator-id-13\" type=\"checkbox\" checked><label for=\"sk-estimator-id-13\" class=\"sk-toggleable__label sk-toggleable__label-arrow\">IsolationForest</label><div class=\"sk-toggleable__content\"><pre>IsolationForest(max_samples=300, n_estimators=300)</pre></div></div></div></div></div>"
      ],
      "text/plain": [
       "IsolationForest(max_samples=300, n_estimators=300)"
      ]
     },
     "execution_count": 72,
     "metadata": {},
     "output_type": "execute_result"
    }
   ],
   "source": [
    "p=sum(y)/len(y)\n",
    "IF=IsolationForest(n_estimators=300,max_samples=min(len(X_train),300))\n",
    "IF.fit(X_train)"
   ]
  },
  {
   "cell_type": "markdown",
   "metadata": {},
   "source": [
    "Performance IF"
   ]
  },
  {
   "cell_type": "code",
   "execution_count": 73,
   "metadata": {},
   "outputs": [],
   "source": [
    "X_test=np.r_[X_train,X_test]\n",
    "score=-1*IF.score_samples(X_test)+0.5\n",
    "y_pred=if_predict(score,p)\n",
    "d={}\n",
    "d['Precision']=sklearn.metrics.precision_score(y,y_pred)\n",
    "d['Recall']=sklearn.metrics.recall_score(y,y_pred)\n",
    "d['f1 score']=sklearn.metrics.f1_score(y,y_pred)\n",
    "d['Accuracy']=sklearn.metrics.accuracy_score(y,y_pred)\n",
    "d['Balanced Accuracy']=sklearn.metrics.balanced_accuracy_score(y,y_pred)\n",
    "d['Average Precision']=sklearn.metrics.average_precision_score(y,score)\n",
    "d['ROC AUC']=sklearn.metrics.roc_auc_score(y,score)\n",
    "metrics_dict[name]=d"
   ]
  },
  {
   "cell_type": "code",
   "execution_count": 74,
   "metadata": {},
   "outputs": [
    {
     "data": {
      "text/plain": [
       "{'Precision': 0.35526315789473684,\n",
       " 'Recall': 0.35526315789473684,\n",
       " 'f1 score': 0.35526315789473684,\n",
       " 'Accuracy': 0.8298611111111112,\n",
       " 'Balanced Accuracy': 0.6286315789473684,\n",
       " 'Average Precision': 0.3249524112039362,\n",
       " 'ROC AUC': 0.7513421052631578}"
      ]
     },
     "execution_count": 74,
     "metadata": {},
     "output_type": "execute_result"
    }
   ],
   "source": [
    "metrics_dict[name]"
   ]
  },
  {
   "cell_type": "markdown",
   "metadata": {},
   "source": [
    "Performance EIF/EIF+"
   ]
  },
  {
   "cell_type": "code",
   "execution_count": 60,
   "metadata": {},
   "outputs": [],
   "source": [
    "X_test=np.r_[X_train,X_test]\n",
    "y_pred=EIF._predict(X_test,p).astype(int)\n",
    "score=EIF.Anomaly_Score(X_test)\n",
    "d={}\n",
    "d['Precision']=sklearn.metrics.precision_score(y,y_pred)\n",
    "d['Recall']=sklearn.metrics.recall_score(y,y_pred)\n",
    "d['f1 score']=sklearn.metrics.f1_score(y,y_pred)\n",
    "d['Accuracy']=sklearn.metrics.accuracy_score(y,y_pred)\n",
    "d['Balanced Accuracy']=sklearn.metrics.balanced_accuracy_score(y,y_pred)\n",
    "d['Average Precision']=sklearn.metrics.average_precision_score(y,score)\n",
    "d['ROC AUC']=sklearn.metrics.roc_auc_score(y,score)\n",
    "metrics_dict[name]=d"
   ]
  },
  {
   "cell_type": "code",
   "execution_count": 61,
   "metadata": {},
   "outputs": [
    {
     "data": {
      "text/plain": [
       "{'Precision': 0.2894736842105263,\n",
       " 'Recall': 0.2894736842105263,\n",
       " 'f1 score': 0.2894736842105263,\n",
       " 'Accuracy': 0.8125,\n",
       " 'Balanced Accuracy': 0.5907368421052632,\n",
       " 'Average Precision': 0.3157961978670726,\n",
       " 'ROC AUC': 0.7681578947368422}"
      ]
     },
     "execution_count": 61,
     "metadata": {},
     "output_type": "execute_result"
    }
   ],
   "source": [
    "metrics_dict[name]"
   ]
  },
  {
   "cell_type": "markdown",
   "metadata": {},
   "source": [
    "## Cardio"
   ]
  },
  {
   "cell_type": "code",
   "execution_count": 75,
   "metadata": {},
   "outputs": [
    {
     "name": "stdout",
     "output_type": "stream",
     "text": [
      "cardio \n",
      "\n",
      "[numero elementi = 1822]\n",
      "[percentage outliers = 0.09604829857299671]\n",
      "[number features = 21]\n",
      "[number outliers = 175]\n"
     ]
    }
   ],
   "source": [
    "name='cardio'\n",
    "X,y=dataset(name,os.getcwd()+'\\\\')\n",
    "X,y=downsample(X,y)\n",
    "X_train,X_test=partition_data(X,y)\n",
    "scaler=StandardScaler()\n",
    "X_train=scaler.fit_transform(X_train)\n",
    "X_test=scaler.transform(X_test)\n",
    "y_train=np.zeros(shape=X_train.shape[0])\n",
    "y_test=np.ones(shape=X_test.shape[0])\n",
    "y=np.concatenate([y_train,y_test])"
   ]
  },
  {
   "cell_type": "markdown",
   "metadata": {},
   "source": [
    "### EIF/EIF+"
   ]
  },
  {
   "cell_type": "code",
   "execution_count": 63,
   "metadata": {},
   "outputs": [],
   "source": [
    "p=sum(y)/len(y)\n",
    "EIF = ExtendedIF(300,subsample_size=min(len(X_train),300),plus=0)\n",
    "EIF.fit(X_train)"
   ]
  },
  {
   "cell_type": "markdown",
   "metadata": {},
   "source": [
    "### IF"
   ]
  },
  {
   "cell_type": "code",
   "execution_count": 76,
   "metadata": {},
   "outputs": [
    {
     "data": {
      "text/html": [
       "<style>#sk-container-id-14 {color: black;background-color: white;}#sk-container-id-14 pre{padding: 0;}#sk-container-id-14 div.sk-toggleable {background-color: white;}#sk-container-id-14 label.sk-toggleable__label {cursor: pointer;display: block;width: 100%;margin-bottom: 0;padding: 0.3em;box-sizing: border-box;text-align: center;}#sk-container-id-14 label.sk-toggleable__label-arrow:before {content: \"▸\";float: left;margin-right: 0.25em;color: #696969;}#sk-container-id-14 label.sk-toggleable__label-arrow:hover:before {color: black;}#sk-container-id-14 div.sk-estimator:hover label.sk-toggleable__label-arrow:before {color: black;}#sk-container-id-14 div.sk-toggleable__content {max-height: 0;max-width: 0;overflow: hidden;text-align: left;background-color: #f0f8ff;}#sk-container-id-14 div.sk-toggleable__content pre {margin: 0.2em;color: black;border-radius: 0.25em;background-color: #f0f8ff;}#sk-container-id-14 input.sk-toggleable__control:checked~div.sk-toggleable__content {max-height: 200px;max-width: 100%;overflow: auto;}#sk-container-id-14 input.sk-toggleable__control:checked~label.sk-toggleable__label-arrow:before {content: \"▾\";}#sk-container-id-14 div.sk-estimator input.sk-toggleable__control:checked~label.sk-toggleable__label {background-color: #d4ebff;}#sk-container-id-14 div.sk-label input.sk-toggleable__control:checked~label.sk-toggleable__label {background-color: #d4ebff;}#sk-container-id-14 input.sk-hidden--visually {border: 0;clip: rect(1px 1px 1px 1px);clip: rect(1px, 1px, 1px, 1px);height: 1px;margin: -1px;overflow: hidden;padding: 0;position: absolute;width: 1px;}#sk-container-id-14 div.sk-estimator {font-family: monospace;background-color: #f0f8ff;border: 1px dotted black;border-radius: 0.25em;box-sizing: border-box;margin-bottom: 0.5em;}#sk-container-id-14 div.sk-estimator:hover {background-color: #d4ebff;}#sk-container-id-14 div.sk-parallel-item::after {content: \"\";width: 100%;border-bottom: 1px solid gray;flex-grow: 1;}#sk-container-id-14 div.sk-label:hover label.sk-toggleable__label {background-color: #d4ebff;}#sk-container-id-14 div.sk-serial::before {content: \"\";position: absolute;border-left: 1px solid gray;box-sizing: border-box;top: 0;bottom: 0;left: 50%;z-index: 0;}#sk-container-id-14 div.sk-serial {display: flex;flex-direction: column;align-items: center;background-color: white;padding-right: 0.2em;padding-left: 0.2em;position: relative;}#sk-container-id-14 div.sk-item {position: relative;z-index: 1;}#sk-container-id-14 div.sk-parallel {display: flex;align-items: stretch;justify-content: center;background-color: white;position: relative;}#sk-container-id-14 div.sk-item::before, #sk-container-id-14 div.sk-parallel-item::before {content: \"\";position: absolute;border-left: 1px solid gray;box-sizing: border-box;top: 0;bottom: 0;left: 50%;z-index: -1;}#sk-container-id-14 div.sk-parallel-item {display: flex;flex-direction: column;z-index: 1;position: relative;background-color: white;}#sk-container-id-14 div.sk-parallel-item:first-child::after {align-self: flex-end;width: 50%;}#sk-container-id-14 div.sk-parallel-item:last-child::after {align-self: flex-start;width: 50%;}#sk-container-id-14 div.sk-parallel-item:only-child::after {width: 0;}#sk-container-id-14 div.sk-dashed-wrapped {border: 1px dashed gray;margin: 0 0.4em 0.5em 0.4em;box-sizing: border-box;padding-bottom: 0.4em;background-color: white;}#sk-container-id-14 div.sk-label label {font-family: monospace;font-weight: bold;display: inline-block;line-height: 1.2em;}#sk-container-id-14 div.sk-label-container {text-align: center;}#sk-container-id-14 div.sk-container {/* jupyter's `normalize.less` sets `[hidden] { display: none; }` but bootstrap.min.css set `[hidden] { display: none !important; }` so we also need the `!important` here to be able to override the default hidden behavior on the sphinx rendered scikit-learn.org. See: https://github.com/scikit-learn/scikit-learn/issues/21755 */display: inline-block !important;position: relative;}#sk-container-id-14 div.sk-text-repr-fallback {display: none;}</style><div id=\"sk-container-id-14\" class=\"sk-top-container\"><div class=\"sk-text-repr-fallback\"><pre>IsolationForest(max_samples=300, n_estimators=300)</pre><b>In a Jupyter environment, please rerun this cell to show the HTML representation or trust the notebook. <br />On GitHub, the HTML representation is unable to render, please try loading this page with nbviewer.org.</b></div><div class=\"sk-container\" hidden><div class=\"sk-item\"><div class=\"sk-estimator sk-toggleable\"><input class=\"sk-toggleable__control sk-hidden--visually\" id=\"sk-estimator-id-14\" type=\"checkbox\" checked><label for=\"sk-estimator-id-14\" class=\"sk-toggleable__label sk-toggleable__label-arrow\">IsolationForest</label><div class=\"sk-toggleable__content\"><pre>IsolationForest(max_samples=300, n_estimators=300)</pre></div></div></div></div></div>"
      ],
      "text/plain": [
       "IsolationForest(max_samples=300, n_estimators=300)"
      ]
     },
     "execution_count": 76,
     "metadata": {},
     "output_type": "execute_result"
    }
   ],
   "source": [
    "p=sum(y)/len(y)\n",
    "IF=IsolationForest(n_estimators=300,max_samples=min(len(X_train),300))\n",
    "IF.fit(X_train)"
   ]
  },
  {
   "cell_type": "markdown",
   "metadata": {},
   "source": [
    "Performance IF"
   ]
  },
  {
   "cell_type": "code",
   "execution_count": 77,
   "metadata": {},
   "outputs": [],
   "source": [
    "X_test=np.r_[X_train,X_test]\n",
    "score=-1*IF.score_samples(X_test)+0.5\n",
    "y_pred=if_predict(score,p)\n",
    "d={}\n",
    "d['Precision']=sklearn.metrics.precision_score(y,y_pred)\n",
    "d['Recall']=sklearn.metrics.recall_score(y,y_pred)\n",
    "d['f1 score']=sklearn.metrics.f1_score(y,y_pred)\n",
    "d['Accuracy']=sklearn.metrics.accuracy_score(y,y_pred)\n",
    "d['Balanced Accuracy']=sklearn.metrics.balanced_accuracy_score(y,y_pred)\n",
    "d['Average Precision']=sklearn.metrics.average_precision_score(y,score)\n",
    "d['ROC AUC']=sklearn.metrics.roc_auc_score(y,score)\n",
    "metrics_dict[name]=d"
   ]
  },
  {
   "cell_type": "code",
   "execution_count": 78,
   "metadata": {},
   "outputs": [
    {
     "data": {
      "text/plain": [
       "{'Precision': 0.6342857142857142,\n",
       " 'Recall': 0.6342857142857142,\n",
       " 'f1 score': 0.6342857142857142,\n",
       " 'Accuracy': 0.9297475301866082,\n",
       " 'Balanced Accuracy': 0.7977135918119524,\n",
       " 'Average Precision': 0.6983988196270485,\n",
       " 'ROC AUC': 0.9511909098794346}"
      ]
     },
     "execution_count": 78,
     "metadata": {},
     "output_type": "execute_result"
    }
   ],
   "source": [
    "metrics_dict[name]"
   ]
  },
  {
   "cell_type": "markdown",
   "metadata": {},
   "source": [
    "Performance EIF/EIF+"
   ]
  },
  {
   "cell_type": "code",
   "execution_count": 64,
   "metadata": {},
   "outputs": [],
   "source": [
    "X_test=np.r_[X_train,X_test]\n",
    "y_pred=EIF._predict(X_test,p).astype(int)\n",
    "score=EIF.Anomaly_Score(X_test)\n",
    "d={}\n",
    "d['Precision']=sklearn.metrics.precision_score(y,y_pred)\n",
    "d['Recall']=sklearn.metrics.recall_score(y,y_pred)\n",
    "d['f1 score']=sklearn.metrics.f1_score(y,y_pred)\n",
    "d['Accuracy']=sklearn.metrics.accuracy_score(y,y_pred)\n",
    "d['Balanced Accuracy']=sklearn.metrics.balanced_accuracy_score(y,y_pred)\n",
    "d['Average Precision']=sklearn.metrics.average_precision_score(y,score)\n",
    "d['ROC AUC']=sklearn.metrics.roc_auc_score(y,score)\n",
    "metrics_dict[name]=d"
   ]
  },
  {
   "cell_type": "code",
   "execution_count": 65,
   "metadata": {},
   "outputs": [
    {
     "data": {
      "text/plain": [
       "{'Precision': 0.7142857142857143,\n",
       " 'Recall': 0.7142857142857143,\n",
       " 'f1 score': 0.7142857142857143,\n",
       " 'Accuracy': 0.9451152579582875,\n",
       " 'Balanced Accuracy': 0.8419637436030879,\n",
       " 'Average Precision': 0.7550854295110032,\n",
       " 'ROC AUC': 0.9692410443230115}"
      ]
     },
     "execution_count": 65,
     "metadata": {},
     "output_type": "execute_result"
    }
   ],
   "source": [
    "metrics_dict[name]"
   ]
  },
  {
   "cell_type": "markdown",
   "metadata": {},
   "source": [
    "## Glass "
   ]
  },
  {
   "cell_type": "code",
   "execution_count": 106,
   "metadata": {},
   "outputs": [
    {
     "name": "stdout",
     "output_type": "stream",
     "text": [
      "glass \n",
      "\n",
      "[numero elementi = 213]\n",
      "[percentage outliers = 0.04225352112676056]\n",
      "[number features = 9]\n",
      "[number outliers = 9]\n"
     ]
    }
   ],
   "source": [
    "name='glass'\n",
    "X,y=dataset(name,os.getcwd()+'\\\\')\n",
    "X,y=downsample(X,y)\n",
    "X_train,X_test=partition_data(X,y)\n",
    "scaler=StandardScaler()\n",
    "X_train=scaler.fit_transform(X_train)\n",
    "X_test=scaler.transform(X_test)\n",
    "y_train=np.zeros(shape=X_train.shape[0])\n",
    "y_test=np.ones(shape=X_test.shape[0])\n",
    "y=np.concatenate([y_train,y_test])"
   ]
  },
  {
   "cell_type": "code",
   "execution_count": 107,
   "metadata": {},
   "outputs": [
    {
     "data": {
      "text/plain": [
       "(9, 9)"
      ]
     },
     "execution_count": 107,
     "metadata": {},
     "output_type": "execute_result"
    }
   ],
   "source": [
    "X_test.shape"
   ]
  },
  {
   "cell_type": "markdown",
   "metadata": {},
   "source": [
    "### EIF/EIF+"
   ]
  },
  {
   "cell_type": "code",
   "execution_count": 67,
   "metadata": {},
   "outputs": [],
   "source": [
    "p=sum(y)/len(y)\n",
    "EIF = ExtendedIF(300,subsample_size=min(len(X_train),300),plus=0)\n",
    "EIF.fit(X_train)"
   ]
  },
  {
   "cell_type": "markdown",
   "metadata": {},
   "source": [
    "### IF"
   ]
  },
  {
   "cell_type": "code",
   "execution_count": 80,
   "metadata": {},
   "outputs": [
    {
     "data": {
      "text/html": [
       "<style>#sk-container-id-15 {color: black;background-color: white;}#sk-container-id-15 pre{padding: 0;}#sk-container-id-15 div.sk-toggleable {background-color: white;}#sk-container-id-15 label.sk-toggleable__label {cursor: pointer;display: block;width: 100%;margin-bottom: 0;padding: 0.3em;box-sizing: border-box;text-align: center;}#sk-container-id-15 label.sk-toggleable__label-arrow:before {content: \"▸\";float: left;margin-right: 0.25em;color: #696969;}#sk-container-id-15 label.sk-toggleable__label-arrow:hover:before {color: black;}#sk-container-id-15 div.sk-estimator:hover label.sk-toggleable__label-arrow:before {color: black;}#sk-container-id-15 div.sk-toggleable__content {max-height: 0;max-width: 0;overflow: hidden;text-align: left;background-color: #f0f8ff;}#sk-container-id-15 div.sk-toggleable__content pre {margin: 0.2em;color: black;border-radius: 0.25em;background-color: #f0f8ff;}#sk-container-id-15 input.sk-toggleable__control:checked~div.sk-toggleable__content {max-height: 200px;max-width: 100%;overflow: auto;}#sk-container-id-15 input.sk-toggleable__control:checked~label.sk-toggleable__label-arrow:before {content: \"▾\";}#sk-container-id-15 div.sk-estimator input.sk-toggleable__control:checked~label.sk-toggleable__label {background-color: #d4ebff;}#sk-container-id-15 div.sk-label input.sk-toggleable__control:checked~label.sk-toggleable__label {background-color: #d4ebff;}#sk-container-id-15 input.sk-hidden--visually {border: 0;clip: rect(1px 1px 1px 1px);clip: rect(1px, 1px, 1px, 1px);height: 1px;margin: -1px;overflow: hidden;padding: 0;position: absolute;width: 1px;}#sk-container-id-15 div.sk-estimator {font-family: monospace;background-color: #f0f8ff;border: 1px dotted black;border-radius: 0.25em;box-sizing: border-box;margin-bottom: 0.5em;}#sk-container-id-15 div.sk-estimator:hover {background-color: #d4ebff;}#sk-container-id-15 div.sk-parallel-item::after {content: \"\";width: 100%;border-bottom: 1px solid gray;flex-grow: 1;}#sk-container-id-15 div.sk-label:hover label.sk-toggleable__label {background-color: #d4ebff;}#sk-container-id-15 div.sk-serial::before {content: \"\";position: absolute;border-left: 1px solid gray;box-sizing: border-box;top: 0;bottom: 0;left: 50%;z-index: 0;}#sk-container-id-15 div.sk-serial {display: flex;flex-direction: column;align-items: center;background-color: white;padding-right: 0.2em;padding-left: 0.2em;position: relative;}#sk-container-id-15 div.sk-item {position: relative;z-index: 1;}#sk-container-id-15 div.sk-parallel {display: flex;align-items: stretch;justify-content: center;background-color: white;position: relative;}#sk-container-id-15 div.sk-item::before, #sk-container-id-15 div.sk-parallel-item::before {content: \"\";position: absolute;border-left: 1px solid gray;box-sizing: border-box;top: 0;bottom: 0;left: 50%;z-index: -1;}#sk-container-id-15 div.sk-parallel-item {display: flex;flex-direction: column;z-index: 1;position: relative;background-color: white;}#sk-container-id-15 div.sk-parallel-item:first-child::after {align-self: flex-end;width: 50%;}#sk-container-id-15 div.sk-parallel-item:last-child::after {align-self: flex-start;width: 50%;}#sk-container-id-15 div.sk-parallel-item:only-child::after {width: 0;}#sk-container-id-15 div.sk-dashed-wrapped {border: 1px dashed gray;margin: 0 0.4em 0.5em 0.4em;box-sizing: border-box;padding-bottom: 0.4em;background-color: white;}#sk-container-id-15 div.sk-label label {font-family: monospace;font-weight: bold;display: inline-block;line-height: 1.2em;}#sk-container-id-15 div.sk-label-container {text-align: center;}#sk-container-id-15 div.sk-container {/* jupyter's `normalize.less` sets `[hidden] { display: none; }` but bootstrap.min.css set `[hidden] { display: none !important; }` so we also need the `!important` here to be able to override the default hidden behavior on the sphinx rendered scikit-learn.org. See: https://github.com/scikit-learn/scikit-learn/issues/21755 */display: inline-block !important;position: relative;}#sk-container-id-15 div.sk-text-repr-fallback {display: none;}</style><div id=\"sk-container-id-15\" class=\"sk-top-container\"><div class=\"sk-text-repr-fallback\"><pre>IsolationForest(max_samples=204, n_estimators=300)</pre><b>In a Jupyter environment, please rerun this cell to show the HTML representation or trust the notebook. <br />On GitHub, the HTML representation is unable to render, please try loading this page with nbviewer.org.</b></div><div class=\"sk-container\" hidden><div class=\"sk-item\"><div class=\"sk-estimator sk-toggleable\"><input class=\"sk-toggleable__control sk-hidden--visually\" id=\"sk-estimator-id-15\" type=\"checkbox\" checked><label for=\"sk-estimator-id-15\" class=\"sk-toggleable__label sk-toggleable__label-arrow\">IsolationForest</label><div class=\"sk-toggleable__content\"><pre>IsolationForest(max_samples=204, n_estimators=300)</pre></div></div></div></div></div>"
      ],
      "text/plain": [
       "IsolationForest(max_samples=204, n_estimators=300)"
      ]
     },
     "execution_count": 80,
     "metadata": {},
     "output_type": "execute_result"
    }
   ],
   "source": [
    "p=sum(y)/len(y)\n",
    "IF=IsolationForest(n_estimators=300,max_samples=min(len(X_train),300))\n",
    "IF.fit(X_train)"
   ]
  },
  {
   "cell_type": "markdown",
   "metadata": {},
   "source": [
    "Performance IF"
   ]
  },
  {
   "cell_type": "code",
   "execution_count": 81,
   "metadata": {},
   "outputs": [],
   "source": [
    "X_test=np.r_[X_train,X_test]\n",
    "score=-1*IF.score_samples(X_test)+0.5\n",
    "y_pred=if_predict(score,p)\n",
    "d={}\n",
    "d['Precision']=sklearn.metrics.precision_score(y,y_pred)\n",
    "d['Recall']=sklearn.metrics.recall_score(y,y_pred)\n",
    "d['f1 score']=sklearn.metrics.f1_score(y,y_pred)\n",
    "d['Accuracy']=sklearn.metrics.accuracy_score(y,y_pred)\n",
    "d['Balanced Accuracy']=sklearn.metrics.balanced_accuracy_score(y,y_pred)\n",
    "d['Average Precision']=sklearn.metrics.average_precision_score(y,score)\n",
    "d['ROC AUC']=sklearn.metrics.roc_auc_score(y,score)\n",
    "metrics_dict[name]=d"
   ]
  },
  {
   "cell_type": "code",
   "execution_count": 82,
   "metadata": {},
   "outputs": [
    {
     "data": {
      "text/plain": [
       "{'Precision': 0.1111111111111111,\n",
       " 'Recall': 0.1111111111111111,\n",
       " 'f1 score': 0.1111111111111111,\n",
       " 'Accuracy': 0.9248826291079812,\n",
       " 'Balanced Accuracy': 0.5359477124183006,\n",
       " 'Average Precision': 0.09847771077206022,\n",
       " 'ROC AUC': 0.752723311546841}"
      ]
     },
     "execution_count": 82,
     "metadata": {},
     "output_type": "execute_result"
    }
   ],
   "source": [
    "metrics_dict[name]"
   ]
  },
  {
   "cell_type": "markdown",
   "metadata": {},
   "source": [
    "Performance EIF/EIF+"
   ]
  },
  {
   "cell_type": "code",
   "execution_count": 68,
   "metadata": {},
   "outputs": [],
   "source": [
    "X_test=np.r_[X_train,X_test]\n",
    "y_pred=EIF._predict(X_test,p).astype(int)\n",
    "score=EIF.Anomaly_Score(X_test)\n",
    "d={}\n",
    "d['Precision']=sklearn.metrics.precision_score(y,y_pred)\n",
    "d['Recall']=sklearn.metrics.recall_score(y,y_pred)\n",
    "d['f1 score']=sklearn.metrics.f1_score(y,y_pred)\n",
    "d['Accuracy']=sklearn.metrics.accuracy_score(y,y_pred)\n",
    "d['Balanced Accuracy']=sklearn.metrics.balanced_accuracy_score(y,y_pred)\n",
    "d['Average Precision']=sklearn.metrics.average_precision_score(y,score)\n",
    "d['ROC AUC']=sklearn.metrics.roc_auc_score(y,score)\n",
    "metrics_dict[name]=d"
   ]
  },
  {
   "cell_type": "code",
   "execution_count": 69,
   "metadata": {},
   "outputs": [
    {
     "data": {
      "text/plain": [
       "{'Precision': 0.1111111111111111,\n",
       " 'Recall': 0.1111111111111111,\n",
       " 'f1 score': 0.1111111111111111,\n",
       " 'Accuracy': 0.9248826291079812,\n",
       " 'Balanced Accuracy': 0.5359477124183006,\n",
       " 'Average Precision': 0.1027537951886571,\n",
       " 'ROC AUC': 0.7647058823529411}"
      ]
     },
     "execution_count": 69,
     "metadata": {},
     "output_type": "execute_result"
    }
   ],
   "source": [
    "metrics_dict[name]"
   ]
  },
  {
   "cell_type": "markdown",
   "metadata": {},
   "source": [
    "## Ionosphere"
   ]
  },
  {
   "cell_type": "code",
   "execution_count": 83,
   "metadata": {},
   "outputs": [
    {
     "name": "stdout",
     "output_type": "stream",
     "text": [
      "ionosphere \n",
      "\n",
      "[numero elementi = 350]\n",
      "[percentage outliers = 0.35714285714285715]\n",
      "[number features = 33]\n",
      "[number outliers = 125]\n"
     ]
    }
   ],
   "source": [
    "name='ionosphere'\n",
    "X,y=dataset(name,os.getcwd()+'\\\\')\n",
    "X,y=downsample(X,y)\n",
    "X_train,X_test=partition_data(X,y)\n",
    "scaler=StandardScaler()\n",
    "X_train=scaler.fit_transform(X_train)\n",
    "X_test=scaler.transform(X_test)\n",
    "y_train=np.zeros(shape=X_train.shape[0])\n",
    "y_test=np.ones(shape=X_test.shape[0])\n",
    "y=np.concatenate([y_train,y_test])"
   ]
  },
  {
   "cell_type": "markdown",
   "metadata": {},
   "source": [
    "Subsample"
   ]
  },
  {
   "cell_type": "code",
   "execution_count": 84,
   "metadata": {},
   "outputs": [
    {
     "data": {
      "text/plain": [
       "(35, 33)"
      ]
     },
     "execution_count": 84,
     "metadata": {},
     "output_type": "execute_result"
    }
   ],
   "source": [
    "ind=np.random.choice(np.arange(X_test.shape[0]),int(X.shape[0]*0.1))\n",
    "X_test=X_test[ind,:]\n",
    "X_test.shape"
   ]
  },
  {
   "cell_type": "code",
   "execution_count": 85,
   "metadata": {},
   "outputs": [],
   "source": [
    "y_train=np.zeros(shape=X_train.shape[0])\n",
    "y_test=np.ones(shape=X_test.shape[0])\n",
    "y=np.concatenate([y_train,y_test])"
   ]
  },
  {
   "cell_type": "markdown",
   "metadata": {},
   "source": [
    "### EIF/EIF+"
   ]
  },
  {
   "cell_type": "code",
   "execution_count": 60,
   "metadata": {},
   "outputs": [],
   "source": [
    "p=sum(y)/len(y)\n",
    "EIF = ExtendedIF(300,subsample_size=min(len(X_train),300),plus=1)\n",
    "EIF.fit(X_train)"
   ]
  },
  {
   "cell_type": "markdown",
   "metadata": {},
   "source": [
    "### IF"
   ]
  },
  {
   "cell_type": "code",
   "execution_count": 86,
   "metadata": {},
   "outputs": [
    {
     "data": {
      "text/html": [
       "<style>#sk-container-id-16 {color: black;background-color: white;}#sk-container-id-16 pre{padding: 0;}#sk-container-id-16 div.sk-toggleable {background-color: white;}#sk-container-id-16 label.sk-toggleable__label {cursor: pointer;display: block;width: 100%;margin-bottom: 0;padding: 0.3em;box-sizing: border-box;text-align: center;}#sk-container-id-16 label.sk-toggleable__label-arrow:before {content: \"▸\";float: left;margin-right: 0.25em;color: #696969;}#sk-container-id-16 label.sk-toggleable__label-arrow:hover:before {color: black;}#sk-container-id-16 div.sk-estimator:hover label.sk-toggleable__label-arrow:before {color: black;}#sk-container-id-16 div.sk-toggleable__content {max-height: 0;max-width: 0;overflow: hidden;text-align: left;background-color: #f0f8ff;}#sk-container-id-16 div.sk-toggleable__content pre {margin: 0.2em;color: black;border-radius: 0.25em;background-color: #f0f8ff;}#sk-container-id-16 input.sk-toggleable__control:checked~div.sk-toggleable__content {max-height: 200px;max-width: 100%;overflow: auto;}#sk-container-id-16 input.sk-toggleable__control:checked~label.sk-toggleable__label-arrow:before {content: \"▾\";}#sk-container-id-16 div.sk-estimator input.sk-toggleable__control:checked~label.sk-toggleable__label {background-color: #d4ebff;}#sk-container-id-16 div.sk-label input.sk-toggleable__control:checked~label.sk-toggleable__label {background-color: #d4ebff;}#sk-container-id-16 input.sk-hidden--visually {border: 0;clip: rect(1px 1px 1px 1px);clip: rect(1px, 1px, 1px, 1px);height: 1px;margin: -1px;overflow: hidden;padding: 0;position: absolute;width: 1px;}#sk-container-id-16 div.sk-estimator {font-family: monospace;background-color: #f0f8ff;border: 1px dotted black;border-radius: 0.25em;box-sizing: border-box;margin-bottom: 0.5em;}#sk-container-id-16 div.sk-estimator:hover {background-color: #d4ebff;}#sk-container-id-16 div.sk-parallel-item::after {content: \"\";width: 100%;border-bottom: 1px solid gray;flex-grow: 1;}#sk-container-id-16 div.sk-label:hover label.sk-toggleable__label {background-color: #d4ebff;}#sk-container-id-16 div.sk-serial::before {content: \"\";position: absolute;border-left: 1px solid gray;box-sizing: border-box;top: 0;bottom: 0;left: 50%;z-index: 0;}#sk-container-id-16 div.sk-serial {display: flex;flex-direction: column;align-items: center;background-color: white;padding-right: 0.2em;padding-left: 0.2em;position: relative;}#sk-container-id-16 div.sk-item {position: relative;z-index: 1;}#sk-container-id-16 div.sk-parallel {display: flex;align-items: stretch;justify-content: center;background-color: white;position: relative;}#sk-container-id-16 div.sk-item::before, #sk-container-id-16 div.sk-parallel-item::before {content: \"\";position: absolute;border-left: 1px solid gray;box-sizing: border-box;top: 0;bottom: 0;left: 50%;z-index: -1;}#sk-container-id-16 div.sk-parallel-item {display: flex;flex-direction: column;z-index: 1;position: relative;background-color: white;}#sk-container-id-16 div.sk-parallel-item:first-child::after {align-self: flex-end;width: 50%;}#sk-container-id-16 div.sk-parallel-item:last-child::after {align-self: flex-start;width: 50%;}#sk-container-id-16 div.sk-parallel-item:only-child::after {width: 0;}#sk-container-id-16 div.sk-dashed-wrapped {border: 1px dashed gray;margin: 0 0.4em 0.5em 0.4em;box-sizing: border-box;padding-bottom: 0.4em;background-color: white;}#sk-container-id-16 div.sk-label label {font-family: monospace;font-weight: bold;display: inline-block;line-height: 1.2em;}#sk-container-id-16 div.sk-label-container {text-align: center;}#sk-container-id-16 div.sk-container {/* jupyter's `normalize.less` sets `[hidden] { display: none; }` but bootstrap.min.css set `[hidden] { display: none !important; }` so we also need the `!important` here to be able to override the default hidden behavior on the sphinx rendered scikit-learn.org. See: https://github.com/scikit-learn/scikit-learn/issues/21755 */display: inline-block !important;position: relative;}#sk-container-id-16 div.sk-text-repr-fallback {display: none;}</style><div id=\"sk-container-id-16\" class=\"sk-top-container\"><div class=\"sk-text-repr-fallback\"><pre>IsolationForest(max_samples=225, n_estimators=300)</pre><b>In a Jupyter environment, please rerun this cell to show the HTML representation or trust the notebook. <br />On GitHub, the HTML representation is unable to render, please try loading this page with nbviewer.org.</b></div><div class=\"sk-container\" hidden><div class=\"sk-item\"><div class=\"sk-estimator sk-toggleable\"><input class=\"sk-toggleable__control sk-hidden--visually\" id=\"sk-estimator-id-16\" type=\"checkbox\" checked><label for=\"sk-estimator-id-16\" class=\"sk-toggleable__label sk-toggleable__label-arrow\">IsolationForest</label><div class=\"sk-toggleable__content\"><pre>IsolationForest(max_samples=225, n_estimators=300)</pre></div></div></div></div></div>"
      ],
      "text/plain": [
       "IsolationForest(max_samples=225, n_estimators=300)"
      ]
     },
     "execution_count": 86,
     "metadata": {},
     "output_type": "execute_result"
    }
   ],
   "source": [
    "p=sum(y)/len(y)\n",
    "IF=IsolationForest(n_estimators=300,max_samples=min(len(X_train),300))\n",
    "IF.fit(X_train)"
   ]
  },
  {
   "cell_type": "markdown",
   "metadata": {},
   "source": [
    "Performance IF"
   ]
  },
  {
   "cell_type": "code",
   "execution_count": 87,
   "metadata": {},
   "outputs": [],
   "source": [
    "X_test=np.r_[X_train,X_test]\n",
    "score=-1*IF.score_samples(X_test)+0.5\n",
    "y_pred=if_predict(score,p)\n",
    "d={}\n",
    "d['Precision']=sklearn.metrics.precision_score(y,y_pred)\n",
    "d['Recall']=sklearn.metrics.recall_score(y,y_pred)\n",
    "d['f1 score']=sklearn.metrics.f1_score(y,y_pred)\n",
    "d['Accuracy']=sklearn.metrics.accuracy_score(y,y_pred)\n",
    "d['Balanced Accuracy']=sklearn.metrics.balanced_accuracy_score(y,y_pred)\n",
    "d['Average Precision']=sklearn.metrics.average_precision_score(y,score)\n",
    "d['ROC AUC']=sklearn.metrics.roc_auc_score(y,score)\n",
    "metrics_dict[name]=d"
   ]
  },
  {
   "cell_type": "code",
   "execution_count": 88,
   "metadata": {},
   "outputs": [
    {
     "data": {
      "text/plain": [
       "{'Precision': 0.6571428571428571,\n",
       " 'Recall': 0.6571428571428571,\n",
       " 'f1 score': 0.6571428571428571,\n",
       " 'Accuracy': 0.9076923076923077,\n",
       " 'Balanced Accuracy': 0.8019047619047619,\n",
       " 'Average Precision': 0.7445552552329843,\n",
       " 'ROC AUC': 0.9301587301587302}"
      ]
     },
     "execution_count": 88,
     "metadata": {},
     "output_type": "execute_result"
    }
   ],
   "source": [
    "metrics_dict[name]"
   ]
  },
  {
   "cell_type": "markdown",
   "metadata": {},
   "source": [
    "Performance EIF/EIF+"
   ]
  },
  {
   "cell_type": "code",
   "execution_count": 61,
   "metadata": {},
   "outputs": [
    {
     "data": {
      "text/plain": [
       "{'Precision': 0.8571428571428571,\n",
       " 'Recall': 0.8571428571428571,\n",
       " 'f1 score': 0.8571428571428571,\n",
       " 'Accuracy': 0.9615384615384616,\n",
       " 'Balanced Accuracy': 0.9174603174603174,\n",
       " 'Average Precision': 0.9457155837392588,\n",
       " 'ROC AUC': 0.9779047619047619}"
      ]
     },
     "execution_count": 61,
     "metadata": {},
     "output_type": "execute_result"
    }
   ],
   "source": [
    "X_test=np.r_[X_train,X_test]\n",
    "y_pred=EIF._predict(X_test,p).astype(int)\n",
    "score=EIF.Anomaly_Score(X_test)\n",
    "d={}\n",
    "d['Precision']=sklearn.metrics.precision_score(y,y_pred)\n",
    "d['Recall']=sklearn.metrics.recall_score(y,y_pred)\n",
    "d['f1 score']=sklearn.metrics.f1_score(y,y_pred)\n",
    "d['Accuracy']=sklearn.metrics.accuracy_score(y,y_pred)\n",
    "d['Balanced Accuracy']=sklearn.metrics.balanced_accuracy_score(y,y_pred)\n",
    "d['Average Precision']=sklearn.metrics.average_precision_score(y,score)\n",
    "d['ROC AUC']=sklearn.metrics.roc_auc_score(y,score)\n",
    "#metrics_dict[name]=d\n",
    "d"
   ]
  },
  {
   "cell_type": "code",
   "execution_count": 75,
   "metadata": {},
   "outputs": [
    {
     "data": {
      "text/plain": [
       "{'Precision': 0.7714285714285715,\n",
       " 'Recall': 0.7714285714285715,\n",
       " 'f1 score': 0.7714285714285715,\n",
       " 'Accuracy': 0.9384615384615385,\n",
       " 'Balanced Accuracy': 0.867936507936508,\n",
       " 'Average Precision': 0.7711800178647376,\n",
       " 'ROC AUC': 0.9486349206349207}"
      ]
     },
     "execution_count": 75,
     "metadata": {},
     "output_type": "execute_result"
    }
   ],
   "source": [
    "metrics_dict[name]"
   ]
  },
  {
   "cell_type": "markdown",
   "metadata": {},
   "source": [
    "## Pendigits "
   ]
  },
  {
   "cell_type": "code",
   "execution_count": 89,
   "metadata": {},
   "outputs": [
    {
     "name": "stdout",
     "output_type": "stream",
     "text": [
      "pendigits \n",
      "\n",
      "[numero elementi = 6870]\n",
      "[percentage outliers = 0.022707423580786028]\n",
      "[number features = 16]\n",
      "[number outliers = 156]\n",
      "downsampled to 2500\n",
      "(2500, 16)\n"
     ]
    }
   ],
   "source": [
    "name='pendigits'\n",
    "X,y=dataset(name,os.getcwd()+'\\\\')\n",
    "X,y=downsample(X,y)\n",
    "X_train,X_test=partition_data(X,y)\n",
    "scaler=StandardScaler()\n",
    "X_train=scaler.fit_transform(X_train)\n",
    "X_test=scaler.transform(X_test)\n",
    "y_train=np.zeros(shape=X_train.shape[0])\n",
    "y_test=np.ones(shape=X_test.shape[0])\n",
    "y=np.concatenate([y_train,y_test])"
   ]
  },
  {
   "cell_type": "markdown",
   "metadata": {},
   "source": [
    "### EIF/EIF+"
   ]
  },
  {
   "cell_type": "code",
   "execution_count": 78,
   "metadata": {},
   "outputs": [],
   "source": [
    "p=sum(y)/len(y)\n",
    "EIF = ExtendedIF(300,subsample_size=min(len(X_train),300),plus=0)\n",
    "EIF.fit(X_train)"
   ]
  },
  {
   "cell_type": "markdown",
   "metadata": {},
   "source": [
    "### IF"
   ]
  },
  {
   "cell_type": "code",
   "execution_count": 90,
   "metadata": {},
   "outputs": [
    {
     "data": {
      "text/html": [
       "<style>#sk-container-id-17 {color: black;background-color: white;}#sk-container-id-17 pre{padding: 0;}#sk-container-id-17 div.sk-toggleable {background-color: white;}#sk-container-id-17 label.sk-toggleable__label {cursor: pointer;display: block;width: 100%;margin-bottom: 0;padding: 0.3em;box-sizing: border-box;text-align: center;}#sk-container-id-17 label.sk-toggleable__label-arrow:before {content: \"▸\";float: left;margin-right: 0.25em;color: #696969;}#sk-container-id-17 label.sk-toggleable__label-arrow:hover:before {color: black;}#sk-container-id-17 div.sk-estimator:hover label.sk-toggleable__label-arrow:before {color: black;}#sk-container-id-17 div.sk-toggleable__content {max-height: 0;max-width: 0;overflow: hidden;text-align: left;background-color: #f0f8ff;}#sk-container-id-17 div.sk-toggleable__content pre {margin: 0.2em;color: black;border-radius: 0.25em;background-color: #f0f8ff;}#sk-container-id-17 input.sk-toggleable__control:checked~div.sk-toggleable__content {max-height: 200px;max-width: 100%;overflow: auto;}#sk-container-id-17 input.sk-toggleable__control:checked~label.sk-toggleable__label-arrow:before {content: \"▾\";}#sk-container-id-17 div.sk-estimator input.sk-toggleable__control:checked~label.sk-toggleable__label {background-color: #d4ebff;}#sk-container-id-17 div.sk-label input.sk-toggleable__control:checked~label.sk-toggleable__label {background-color: #d4ebff;}#sk-container-id-17 input.sk-hidden--visually {border: 0;clip: rect(1px 1px 1px 1px);clip: rect(1px, 1px, 1px, 1px);height: 1px;margin: -1px;overflow: hidden;padding: 0;position: absolute;width: 1px;}#sk-container-id-17 div.sk-estimator {font-family: monospace;background-color: #f0f8ff;border: 1px dotted black;border-radius: 0.25em;box-sizing: border-box;margin-bottom: 0.5em;}#sk-container-id-17 div.sk-estimator:hover {background-color: #d4ebff;}#sk-container-id-17 div.sk-parallel-item::after {content: \"\";width: 100%;border-bottom: 1px solid gray;flex-grow: 1;}#sk-container-id-17 div.sk-label:hover label.sk-toggleable__label {background-color: #d4ebff;}#sk-container-id-17 div.sk-serial::before {content: \"\";position: absolute;border-left: 1px solid gray;box-sizing: border-box;top: 0;bottom: 0;left: 50%;z-index: 0;}#sk-container-id-17 div.sk-serial {display: flex;flex-direction: column;align-items: center;background-color: white;padding-right: 0.2em;padding-left: 0.2em;position: relative;}#sk-container-id-17 div.sk-item {position: relative;z-index: 1;}#sk-container-id-17 div.sk-parallel {display: flex;align-items: stretch;justify-content: center;background-color: white;position: relative;}#sk-container-id-17 div.sk-item::before, #sk-container-id-17 div.sk-parallel-item::before {content: \"\";position: absolute;border-left: 1px solid gray;box-sizing: border-box;top: 0;bottom: 0;left: 50%;z-index: -1;}#sk-container-id-17 div.sk-parallel-item {display: flex;flex-direction: column;z-index: 1;position: relative;background-color: white;}#sk-container-id-17 div.sk-parallel-item:first-child::after {align-self: flex-end;width: 50%;}#sk-container-id-17 div.sk-parallel-item:last-child::after {align-self: flex-start;width: 50%;}#sk-container-id-17 div.sk-parallel-item:only-child::after {width: 0;}#sk-container-id-17 div.sk-dashed-wrapped {border: 1px dashed gray;margin: 0 0.4em 0.5em 0.4em;box-sizing: border-box;padding-bottom: 0.4em;background-color: white;}#sk-container-id-17 div.sk-label label {font-family: monospace;font-weight: bold;display: inline-block;line-height: 1.2em;}#sk-container-id-17 div.sk-label-container {text-align: center;}#sk-container-id-17 div.sk-container {/* jupyter's `normalize.less` sets `[hidden] { display: none; }` but bootstrap.min.css set `[hidden] { display: none !important; }` so we also need the `!important` here to be able to override the default hidden behavior on the sphinx rendered scikit-learn.org. See: https://github.com/scikit-learn/scikit-learn/issues/21755 */display: inline-block !important;position: relative;}#sk-container-id-17 div.sk-text-repr-fallback {display: none;}</style><div id=\"sk-container-id-17\" class=\"sk-top-container\"><div class=\"sk-text-repr-fallback\"><pre>IsolationForest(max_samples=300, n_estimators=300)</pre><b>In a Jupyter environment, please rerun this cell to show the HTML representation or trust the notebook. <br />On GitHub, the HTML representation is unable to render, please try loading this page with nbviewer.org.</b></div><div class=\"sk-container\" hidden><div class=\"sk-item\"><div class=\"sk-estimator sk-toggleable\"><input class=\"sk-toggleable__control sk-hidden--visually\" id=\"sk-estimator-id-17\" type=\"checkbox\" checked><label for=\"sk-estimator-id-17\" class=\"sk-toggleable__label sk-toggleable__label-arrow\">IsolationForest</label><div class=\"sk-toggleable__content\"><pre>IsolationForest(max_samples=300, n_estimators=300)</pre></div></div></div></div></div>"
      ],
      "text/plain": [
       "IsolationForest(max_samples=300, n_estimators=300)"
      ]
     },
     "execution_count": 90,
     "metadata": {},
     "output_type": "execute_result"
    }
   ],
   "source": [
    "p=sum(y)/len(y)\n",
    "IF=IsolationForest(n_estimators=300,max_samples=min(len(X_train),300))\n",
    "IF.fit(X_train)"
   ]
  },
  {
   "cell_type": "markdown",
   "metadata": {},
   "source": [
    "Performance IF"
   ]
  },
  {
   "cell_type": "code",
   "execution_count": 91,
   "metadata": {},
   "outputs": [],
   "source": [
    "X_test=np.r_[X_train,X_test]\n",
    "score=-1*IF.score_samples(X_test)+0.5\n",
    "y_pred=if_predict(score,p)\n",
    "d={}\n",
    "d['Precision']=sklearn.metrics.precision_score(y,y_pred)\n",
    "d['Recall']=sklearn.metrics.recall_score(y,y_pred)\n",
    "d['f1 score']=sklearn.metrics.f1_score(y,y_pred)\n",
    "d['Accuracy']=sklearn.metrics.accuracy_score(y,y_pred)\n",
    "d['Balanced Accuracy']=sklearn.metrics.balanced_accuracy_score(y,y_pred)\n",
    "d['Average Precision']=sklearn.metrics.average_precision_score(y,score)\n",
    "d['ROC AUC']=sklearn.metrics.roc_auc_score(y,score)\n",
    "metrics_dict[name]=d"
   ]
  },
  {
   "cell_type": "code",
   "execution_count": 92,
   "metadata": {},
   "outputs": [
    {
     "data": {
      "text/plain": [
       "{'Precision': 0.42105263157894735,\n",
       " 'Recall': 0.42105263157894735,\n",
       " 'f1 score': 0.42105263157894735,\n",
       " 'Accuracy': 0.9736,\n",
       " 'Balanced Accuracy': 0.703772324794795,\n",
       " 'Average Precision': 0.31782910393781155,\n",
       " 'ROC AUC': 0.9675765344593577}"
      ]
     },
     "execution_count": 92,
     "metadata": {},
     "output_type": "execute_result"
    }
   ],
   "source": [
    "metrics_dict[name]"
   ]
  },
  {
   "cell_type": "markdown",
   "metadata": {},
   "source": [
    "Performance EIF/EIF+"
   ]
  },
  {
   "cell_type": "code",
   "execution_count": 79,
   "metadata": {},
   "outputs": [],
   "source": [
    "X_test=np.r_[X_train,X_test]\n",
    "y_pred=EIF._predict(X_test,p).astype(int)\n",
    "score=EIF.Anomaly_Score(X_test)\n",
    "d={}\n",
    "d['Precision']=sklearn.metrics.precision_score(y,y_pred)\n",
    "d['Recall']=sklearn.metrics.recall_score(y,y_pred)\n",
    "d['f1 score']=sklearn.metrics.f1_score(y,y_pred)\n",
    "d['Accuracy']=sklearn.metrics.accuracy_score(y,y_pred)\n",
    "d['Balanced Accuracy']=sklearn.metrics.balanced_accuracy_score(y,y_pred)\n",
    "d['Average Precision']=sklearn.metrics.average_precision_score(y,score)\n",
    "d['ROC AUC']=sklearn.metrics.roc_auc_score(y,score)\n",
    "metrics_dict[name]=d"
   ]
  },
  {
   "cell_type": "code",
   "execution_count": 80,
   "metadata": {},
   "outputs": [
    {
     "data": {
      "text/plain": [
       "{'Precision': 0.45614035087719296,\n",
       " 'Recall': 0.45614035087719296,\n",
       " 'f1 score': 0.45614035087719296,\n",
       " 'Accuracy': 0.9752,\n",
       " 'Balanced Accuracy': 0.721725517231474,\n",
       " 'Average Precision': 0.3592295055147585,\n",
       " 'ROC AUC': 0.9708691499522446}"
      ]
     },
     "execution_count": 80,
     "metadata": {},
     "output_type": "execute_result"
    }
   ],
   "source": [
    "metrics_dict[name]"
   ]
  },
  {
   "cell_type": "markdown",
   "metadata": {},
   "source": [
    "## Diabetes "
   ]
  },
  {
   "cell_type": "code",
   "execution_count": 93,
   "metadata": {},
   "outputs": [],
   "source": [
    "def csv_dataset(name, path = \"../data/\"):\n",
    "    datapath = path + name + \".csv\"\n",
    "    data=pd.read_csv(datapath,index_col=0)\n",
    "    if 'Unnamed: 0' in data.columns:\n",
    "        data=data.drop(columns=['Unnamed: 0'])\n",
    "    \n",
    "    X=data[data.columns[data.columns!='Target']]\n",
    "    y=data['Target']\n",
    "    \n",
    "    X,y = drop_duplicates(X,y)\n",
    "    print(name, \"\\n\")\n",
    "    print_dataset_resume(X,y)\n",
    "    \n",
    "    return X,y"
   ]
  },
  {
   "cell_type": "code",
   "execution_count": 94,
   "metadata": {},
   "outputs": [
    {
     "name": "stdout",
     "output_type": "stream",
     "text": [
      "diabetes \n",
      "\n",
      "[numero elementi = 85916]\n",
      "[percentage outliers = 0.096582708692211]\n",
      "[number features = 4]\n",
      "[number outliers = 8298]\n",
      "downsampled to 2500\n",
      "(2500, 4)\n"
     ]
    }
   ],
   "source": [
    "name='diabetes'\n",
    "X,y=csv_dataset(name,os.getcwd()+'\\\\')\n",
    "X,y=downsample(X,y)\n",
    "X_train,X_test=partition_data(X,y)\n",
    "scaler=StandardScaler()\n",
    "X_train=scaler.fit_transform(X_train)\n",
    "X_test=scaler.transform(X_test)\n",
    "y_train=np.zeros(shape=X_train.shape[0])\n",
    "y_test=np.ones(shape=X_test.shape[0])\n",
    "y=np.concatenate([y_train,y_test])"
   ]
  },
  {
   "cell_type": "markdown",
   "metadata": {},
   "source": [
    "### EIF/EIF+"
   ]
  },
  {
   "cell_type": "code",
   "execution_count": 83,
   "metadata": {},
   "outputs": [],
   "source": [
    "p=sum(y)/len(y)\n",
    "EIF = ExtendedIF(300,subsample_size=min(len(X_train),300),plus=0)\n",
    "EIF.fit(X_train)"
   ]
  },
  {
   "cell_type": "markdown",
   "metadata": {},
   "source": [
    "### IF"
   ]
  },
  {
   "cell_type": "code",
   "execution_count": 95,
   "metadata": {},
   "outputs": [
    {
     "data": {
      "text/html": [
       "<style>#sk-container-id-18 {color: black;background-color: white;}#sk-container-id-18 pre{padding: 0;}#sk-container-id-18 div.sk-toggleable {background-color: white;}#sk-container-id-18 label.sk-toggleable__label {cursor: pointer;display: block;width: 100%;margin-bottom: 0;padding: 0.3em;box-sizing: border-box;text-align: center;}#sk-container-id-18 label.sk-toggleable__label-arrow:before {content: \"▸\";float: left;margin-right: 0.25em;color: #696969;}#sk-container-id-18 label.sk-toggleable__label-arrow:hover:before {color: black;}#sk-container-id-18 div.sk-estimator:hover label.sk-toggleable__label-arrow:before {color: black;}#sk-container-id-18 div.sk-toggleable__content {max-height: 0;max-width: 0;overflow: hidden;text-align: left;background-color: #f0f8ff;}#sk-container-id-18 div.sk-toggleable__content pre {margin: 0.2em;color: black;border-radius: 0.25em;background-color: #f0f8ff;}#sk-container-id-18 input.sk-toggleable__control:checked~div.sk-toggleable__content {max-height: 200px;max-width: 100%;overflow: auto;}#sk-container-id-18 input.sk-toggleable__control:checked~label.sk-toggleable__label-arrow:before {content: \"▾\";}#sk-container-id-18 div.sk-estimator input.sk-toggleable__control:checked~label.sk-toggleable__label {background-color: #d4ebff;}#sk-container-id-18 div.sk-label input.sk-toggleable__control:checked~label.sk-toggleable__label {background-color: #d4ebff;}#sk-container-id-18 input.sk-hidden--visually {border: 0;clip: rect(1px 1px 1px 1px);clip: rect(1px, 1px, 1px, 1px);height: 1px;margin: -1px;overflow: hidden;padding: 0;position: absolute;width: 1px;}#sk-container-id-18 div.sk-estimator {font-family: monospace;background-color: #f0f8ff;border: 1px dotted black;border-radius: 0.25em;box-sizing: border-box;margin-bottom: 0.5em;}#sk-container-id-18 div.sk-estimator:hover {background-color: #d4ebff;}#sk-container-id-18 div.sk-parallel-item::after {content: \"\";width: 100%;border-bottom: 1px solid gray;flex-grow: 1;}#sk-container-id-18 div.sk-label:hover label.sk-toggleable__label {background-color: #d4ebff;}#sk-container-id-18 div.sk-serial::before {content: \"\";position: absolute;border-left: 1px solid gray;box-sizing: border-box;top: 0;bottom: 0;left: 50%;z-index: 0;}#sk-container-id-18 div.sk-serial {display: flex;flex-direction: column;align-items: center;background-color: white;padding-right: 0.2em;padding-left: 0.2em;position: relative;}#sk-container-id-18 div.sk-item {position: relative;z-index: 1;}#sk-container-id-18 div.sk-parallel {display: flex;align-items: stretch;justify-content: center;background-color: white;position: relative;}#sk-container-id-18 div.sk-item::before, #sk-container-id-18 div.sk-parallel-item::before {content: \"\";position: absolute;border-left: 1px solid gray;box-sizing: border-box;top: 0;bottom: 0;left: 50%;z-index: -1;}#sk-container-id-18 div.sk-parallel-item {display: flex;flex-direction: column;z-index: 1;position: relative;background-color: white;}#sk-container-id-18 div.sk-parallel-item:first-child::after {align-self: flex-end;width: 50%;}#sk-container-id-18 div.sk-parallel-item:last-child::after {align-self: flex-start;width: 50%;}#sk-container-id-18 div.sk-parallel-item:only-child::after {width: 0;}#sk-container-id-18 div.sk-dashed-wrapped {border: 1px dashed gray;margin: 0 0.4em 0.5em 0.4em;box-sizing: border-box;padding-bottom: 0.4em;background-color: white;}#sk-container-id-18 div.sk-label label {font-family: monospace;font-weight: bold;display: inline-block;line-height: 1.2em;}#sk-container-id-18 div.sk-label-container {text-align: center;}#sk-container-id-18 div.sk-container {/* jupyter's `normalize.less` sets `[hidden] { display: none; }` but bootstrap.min.css set `[hidden] { display: none !important; }` so we also need the `!important` here to be able to override the default hidden behavior on the sphinx rendered scikit-learn.org. See: https://github.com/scikit-learn/scikit-learn/issues/21755 */display: inline-block !important;position: relative;}#sk-container-id-18 div.sk-text-repr-fallback {display: none;}</style><div id=\"sk-container-id-18\" class=\"sk-top-container\"><div class=\"sk-text-repr-fallback\"><pre>IsolationForest(max_samples=300, n_estimators=300)</pre><b>In a Jupyter environment, please rerun this cell to show the HTML representation or trust the notebook. <br />On GitHub, the HTML representation is unable to render, please try loading this page with nbviewer.org.</b></div><div class=\"sk-container\" hidden><div class=\"sk-item\"><div class=\"sk-estimator sk-toggleable\"><input class=\"sk-toggleable__control sk-hidden--visually\" id=\"sk-estimator-id-18\" type=\"checkbox\" checked><label for=\"sk-estimator-id-18\" class=\"sk-toggleable__label sk-toggleable__label-arrow\">IsolationForest</label><div class=\"sk-toggleable__content\"><pre>IsolationForest(max_samples=300, n_estimators=300)</pre></div></div></div></div></div>"
      ],
      "text/plain": [
       "IsolationForest(max_samples=300, n_estimators=300)"
      ]
     },
     "execution_count": 95,
     "metadata": {},
     "output_type": "execute_result"
    }
   ],
   "source": [
    "p=sum(y)/len(y)\n",
    "IF=IsolationForest(n_estimators=300,max_samples=min(len(X_train),300))\n",
    "IF.fit(X_train)"
   ]
  },
  {
   "cell_type": "markdown",
   "metadata": {},
   "source": [
    "Performance IF"
   ]
  },
  {
   "cell_type": "code",
   "execution_count": 96,
   "metadata": {},
   "outputs": [],
   "source": [
    "X_test=np.r_[X_train,X_test]\n",
    "score=-1*IF.score_samples(X_test)+0.5\n",
    "y_pred=if_predict(score,p)\n",
    "d={}\n",
    "d['Precision']=sklearn.metrics.precision_score(y,y_pred)\n",
    "d['Recall']=sklearn.metrics.recall_score(y,y_pred)\n",
    "d['f1 score']=sklearn.metrics.f1_score(y,y_pred)\n",
    "d['Accuracy']=sklearn.metrics.accuracy_score(y,y_pred)\n",
    "d['Balanced Accuracy']=sklearn.metrics.balanced_accuracy_score(y,y_pred)\n",
    "d['Average Precision']=sklearn.metrics.average_precision_score(y,score)\n",
    "d['ROC AUC']=sklearn.metrics.roc_auc_score(y,score)\n",
    "metrics_dict[name]=d"
   ]
  },
  {
   "cell_type": "code",
   "execution_count": 97,
   "metadata": {},
   "outputs": [
    {
     "data": {
      "text/plain": [
       "{'Precision': 0.2863070539419087,\n",
       " 'Recall': 0.2863070539419087,\n",
       " 'f1 score': 0.2863070539419087,\n",
       " 'Accuracy': 0.8624,\n",
       " 'Balanced Accuracy': 0.6050835845185418,\n",
       " 'Average Precision': 0.2366706805559567,\n",
       " 'ROC AUC': 0.7051682619453032}"
      ]
     },
     "execution_count": 97,
     "metadata": {},
     "output_type": "execute_result"
    }
   ],
   "source": [
    "metrics_dict[name]"
   ]
  },
  {
   "cell_type": "markdown",
   "metadata": {},
   "source": [
    "Performance EIF/EIF+"
   ]
  },
  {
   "cell_type": "code",
   "execution_count": 84,
   "metadata": {},
   "outputs": [],
   "source": [
    "X_test=np.r_[X_train,X_test]\n",
    "y_pred=EIF._predict(X_test,p).astype(int)\n",
    "score=EIF.Anomaly_Score(X_test)\n",
    "d={}\n",
    "d['Precision']=sklearn.metrics.precision_score(y,y_pred)\n",
    "d['Recall']=sklearn.metrics.recall_score(y,y_pred)\n",
    "d['f1 score']=sklearn.metrics.f1_score(y,y_pred)\n",
    "d['Accuracy']=sklearn.metrics.accuracy_score(y,y_pred)\n",
    "d['Balanced Accuracy']=sklearn.metrics.balanced_accuracy_score(y,y_pred)\n",
    "d['Average Precision']=sklearn.metrics.average_precision_score(y,score)\n",
    "d['ROC AUC']=sklearn.metrics.roc_auc_score(y,score)\n",
    "metrics_dict[name]=d"
   ]
  },
  {
   "cell_type": "code",
   "execution_count": 85,
   "metadata": {},
   "outputs": [
    {
     "data": {
      "text/plain": [
       "{'Precision': 0.5541666666666667,\n",
       " 'Recall': 0.5518672199170125,\n",
       " 'f1 score': 0.553014553014553,\n",
       " 'Accuracy': 0.914,\n",
       " 'Balanced Accuracy': 0.7522505643631101,\n",
       " 'Average Precision': 0.5316907086047311,\n",
       " 'ROC AUC': 0.8010163128031902}"
      ]
     },
     "execution_count": 85,
     "metadata": {},
     "output_type": "execute_result"
    }
   ],
   "source": [
    "metrics_dict[name]"
   ]
  },
  {
   "cell_type": "markdown",
   "metadata": {},
   "source": [
    "## Moodify "
   ]
  },
  {
   "cell_type": "code",
   "execution_count": 98,
   "metadata": {},
   "outputs": [
    {
     "name": "stdout",
     "output_type": "stream",
     "text": [
      "moodify \n",
      "\n",
      "[numero elementi = 276260]\n",
      "[percentage outliers = 0.1527112140736987]\n",
      "[number features = 11]\n",
      "[number outliers = 42188]\n",
      "downsampled to 2500\n",
      "(2500, 11)\n"
     ]
    }
   ],
   "source": [
    "name='moodify'\n",
    "X,y=csv_dataset(name,os.getcwd()+'\\\\')\n",
    "X,y=downsample(X,y)\n",
    "X_train,X_test=partition_data(X,y)\n",
    "scaler=StandardScaler()\n",
    "X_train=scaler.fit_transform(X_train)\n",
    "X_test=scaler.transform(X_test)\n",
    "y_train=np.zeros(shape=X_train.shape[0])\n",
    "y_test=np.ones(shape=X_test.shape[0])\n",
    "y=np.concatenate([y_train,y_test])"
   ]
  },
  {
   "cell_type": "markdown",
   "metadata": {},
   "source": [
    "### EIF/EIF+"
   ]
  },
  {
   "cell_type": "code",
   "execution_count": 69,
   "metadata": {},
   "outputs": [],
   "source": [
    "p=sum(y)/len(y)\n",
    "EIF = ExtendedIF(300,subsample_size=min(len(X_train),300),plus=1)\n",
    "EIF.fit(X_train)"
   ]
  },
  {
   "cell_type": "markdown",
   "metadata": {},
   "source": [
    "### IF"
   ]
  },
  {
   "cell_type": "code",
   "execution_count": 99,
   "metadata": {},
   "outputs": [
    {
     "data": {
      "text/html": [
       "<style>#sk-container-id-19 {color: black;background-color: white;}#sk-container-id-19 pre{padding: 0;}#sk-container-id-19 div.sk-toggleable {background-color: white;}#sk-container-id-19 label.sk-toggleable__label {cursor: pointer;display: block;width: 100%;margin-bottom: 0;padding: 0.3em;box-sizing: border-box;text-align: center;}#sk-container-id-19 label.sk-toggleable__label-arrow:before {content: \"▸\";float: left;margin-right: 0.25em;color: #696969;}#sk-container-id-19 label.sk-toggleable__label-arrow:hover:before {color: black;}#sk-container-id-19 div.sk-estimator:hover label.sk-toggleable__label-arrow:before {color: black;}#sk-container-id-19 div.sk-toggleable__content {max-height: 0;max-width: 0;overflow: hidden;text-align: left;background-color: #f0f8ff;}#sk-container-id-19 div.sk-toggleable__content pre {margin: 0.2em;color: black;border-radius: 0.25em;background-color: #f0f8ff;}#sk-container-id-19 input.sk-toggleable__control:checked~div.sk-toggleable__content {max-height: 200px;max-width: 100%;overflow: auto;}#sk-container-id-19 input.sk-toggleable__control:checked~label.sk-toggleable__label-arrow:before {content: \"▾\";}#sk-container-id-19 div.sk-estimator input.sk-toggleable__control:checked~label.sk-toggleable__label {background-color: #d4ebff;}#sk-container-id-19 div.sk-label input.sk-toggleable__control:checked~label.sk-toggleable__label {background-color: #d4ebff;}#sk-container-id-19 input.sk-hidden--visually {border: 0;clip: rect(1px 1px 1px 1px);clip: rect(1px, 1px, 1px, 1px);height: 1px;margin: -1px;overflow: hidden;padding: 0;position: absolute;width: 1px;}#sk-container-id-19 div.sk-estimator {font-family: monospace;background-color: #f0f8ff;border: 1px dotted black;border-radius: 0.25em;box-sizing: border-box;margin-bottom: 0.5em;}#sk-container-id-19 div.sk-estimator:hover {background-color: #d4ebff;}#sk-container-id-19 div.sk-parallel-item::after {content: \"\";width: 100%;border-bottom: 1px solid gray;flex-grow: 1;}#sk-container-id-19 div.sk-label:hover label.sk-toggleable__label {background-color: #d4ebff;}#sk-container-id-19 div.sk-serial::before {content: \"\";position: absolute;border-left: 1px solid gray;box-sizing: border-box;top: 0;bottom: 0;left: 50%;z-index: 0;}#sk-container-id-19 div.sk-serial {display: flex;flex-direction: column;align-items: center;background-color: white;padding-right: 0.2em;padding-left: 0.2em;position: relative;}#sk-container-id-19 div.sk-item {position: relative;z-index: 1;}#sk-container-id-19 div.sk-parallel {display: flex;align-items: stretch;justify-content: center;background-color: white;position: relative;}#sk-container-id-19 div.sk-item::before, #sk-container-id-19 div.sk-parallel-item::before {content: \"\";position: absolute;border-left: 1px solid gray;box-sizing: border-box;top: 0;bottom: 0;left: 50%;z-index: -1;}#sk-container-id-19 div.sk-parallel-item {display: flex;flex-direction: column;z-index: 1;position: relative;background-color: white;}#sk-container-id-19 div.sk-parallel-item:first-child::after {align-self: flex-end;width: 50%;}#sk-container-id-19 div.sk-parallel-item:last-child::after {align-self: flex-start;width: 50%;}#sk-container-id-19 div.sk-parallel-item:only-child::after {width: 0;}#sk-container-id-19 div.sk-dashed-wrapped {border: 1px dashed gray;margin: 0 0.4em 0.5em 0.4em;box-sizing: border-box;padding-bottom: 0.4em;background-color: white;}#sk-container-id-19 div.sk-label label {font-family: monospace;font-weight: bold;display: inline-block;line-height: 1.2em;}#sk-container-id-19 div.sk-label-container {text-align: center;}#sk-container-id-19 div.sk-container {/* jupyter's `normalize.less` sets `[hidden] { display: none; }` but bootstrap.min.css set `[hidden] { display: none !important; }` so we also need the `!important` here to be able to override the default hidden behavior on the sphinx rendered scikit-learn.org. See: https://github.com/scikit-learn/scikit-learn/issues/21755 */display: inline-block !important;position: relative;}#sk-container-id-19 div.sk-text-repr-fallback {display: none;}</style><div id=\"sk-container-id-19\" class=\"sk-top-container\"><div class=\"sk-text-repr-fallback\"><pre>IsolationForest(max_samples=300, n_estimators=300)</pre><b>In a Jupyter environment, please rerun this cell to show the HTML representation or trust the notebook. <br />On GitHub, the HTML representation is unable to render, please try loading this page with nbviewer.org.</b></div><div class=\"sk-container\" hidden><div class=\"sk-item\"><div class=\"sk-estimator sk-toggleable\"><input class=\"sk-toggleable__control sk-hidden--visually\" id=\"sk-estimator-id-19\" type=\"checkbox\" checked><label for=\"sk-estimator-id-19\" class=\"sk-toggleable__label sk-toggleable__label-arrow\">IsolationForest</label><div class=\"sk-toggleable__content\"><pre>IsolationForest(max_samples=300, n_estimators=300)</pre></div></div></div></div></div>"
      ],
      "text/plain": [
       "IsolationForest(max_samples=300, n_estimators=300)"
      ]
     },
     "execution_count": 99,
     "metadata": {},
     "output_type": "execute_result"
    }
   ],
   "source": [
    "p=sum(y)/len(y)\n",
    "IF=IsolationForest(n_estimators=300,max_samples=min(len(X_train),300))\n",
    "IF.fit(X_train)"
   ]
  },
  {
   "cell_type": "markdown",
   "metadata": {},
   "source": [
    "Performance IF"
   ]
  },
  {
   "cell_type": "code",
   "execution_count": 100,
   "metadata": {},
   "outputs": [],
   "source": [
    "X_test=np.r_[X_train,X_test]\n",
    "score=-1*IF.score_samples(X_test)+0.5\n",
    "y_pred=if_predict(score,p)\n",
    "d={}\n",
    "d['Precision']=sklearn.metrics.precision_score(y,y_pred)\n",
    "d['Recall']=sklearn.metrics.recall_score(y,y_pred)\n",
    "d['f1 score']=sklearn.metrics.f1_score(y,y_pred)\n",
    "d['Accuracy']=sklearn.metrics.accuracy_score(y,y_pred)\n",
    "d['Balanced Accuracy']=sklearn.metrics.balanced_accuracy_score(y,y_pred)\n",
    "d['Average Precision']=sklearn.metrics.average_precision_score(y,score)\n",
    "d['ROC AUC']=sklearn.metrics.roc_auc_score(y,score)\n",
    "metrics_dict[name]=d"
   ]
  },
  {
   "cell_type": "code",
   "execution_count": 101,
   "metadata": {},
   "outputs": [
    {
     "data": {
      "text/plain": [
       "{'Precision': 0.725130890052356,\n",
       " 'Recall': 0.725130890052356,\n",
       " 'f1 score': 0.725130890052356,\n",
       " 'Accuracy': 0.916,\n",
       " 'Balanced Accuracy': 0.8377779096154131,\n",
       " 'Average Precision': 0.7362238722346219,\n",
       " 'ROC AUC': 0.9566369537595973}"
      ]
     },
     "execution_count": 101,
     "metadata": {},
     "output_type": "execute_result"
    }
   ],
   "source": [
    "metrics_dict[name]"
   ]
  },
  {
   "cell_type": "markdown",
   "metadata": {},
   "source": [
    "Performance EIF/EIF+"
   ]
  },
  {
   "cell_type": "code",
   "execution_count": 70,
   "metadata": {},
   "outputs": [
    {
     "data": {
      "text/plain": [
       "{'Precision': 0.6492146596858639,\n",
       " 'Recall': 0.6492146596858639,\n",
       " 'f1 score': 0.6492146596858639,\n",
       " 'Accuracy': 0.8928,\n",
       " 'Balanced Accuracy': 0.7929737132234796,\n",
       " 'Average Precision': 0.6267259861860829,\n",
       " 'ROC AUC': 0.9372555853838205}"
      ]
     },
     "execution_count": 70,
     "metadata": {},
     "output_type": "execute_result"
    }
   ],
   "source": [
    "X_test=np.r_[X_train,X_test]\n",
    "y_pred=EIF._predict(X_test,p).astype(int)\n",
    "score=EIF.Anomaly_Score(X_test)\n",
    "d={}\n",
    "d['Precision']=sklearn.metrics.precision_score(y,y_pred)\n",
    "d['Recall']=sklearn.metrics.recall_score(y,y_pred)\n",
    "d['f1 score']=sklearn.metrics.f1_score(y,y_pred)\n",
    "d['Accuracy']=sklearn.metrics.accuracy_score(y,y_pred)\n",
    "d['Balanced Accuracy']=sklearn.metrics.balanced_accuracy_score(y,y_pred)\n",
    "d['Average Precision']=sklearn.metrics.average_precision_score(y,score)\n",
    "d['ROC AUC']=sklearn.metrics.roc_auc_score(y,score)\n",
    "#metrics_dict[name]=d\n",
    "d"
   ]
  },
  {
   "cell_type": "code",
   "execution_count": 89,
   "metadata": {},
   "outputs": [
    {
     "data": {
      "text/plain": [
       "{'Precision': 0.662303664921466,\n",
       " 'Recall': 0.662303664921466,\n",
       " 'f1 score': 0.662303664921466,\n",
       " 'Accuracy': 0.8968,\n",
       " 'Balanced Accuracy': 0.8006985746703648,\n",
       " 'Average Precision': 0.6165470534973174,\n",
       " 'ROC AUC': 0.9423669717059955}"
      ]
     },
     "execution_count": 89,
     "metadata": {},
     "output_type": "execute_result"
    }
   ],
   "source": [
    "metrics_dict[name]"
   ]
  },
  {
   "cell_type": "markdown",
   "metadata": {},
   "source": [
    "## Save in pkl file"
   ]
  },
  {
   "cell_type": "code",
   "execution_count": 78,
   "metadata": {},
   "outputs": [
    {
     "data": {
      "text/plain": [
       "'c:\\\\Users\\\\lemeda98\\\\Desktop\\\\PHD Information Engineering\\\\ExIFFI\\\\ExIFFI\\\\results\\\\davide\\\\Performance Report'"
      ]
     },
     "execution_count": 78,
     "metadata": {},
     "output_type": "execute_result"
    }
   ],
   "source": [
    "os.chdir('c:\\\\Users\\\\lemeda98\\\\Desktop\\\\PHD Information Engineering\\\\ExIFFI\\\\ExIFFI\\\\results\\\\davide\\\\Performance Report')\n",
    "path=os.getcwd()\n",
    "path"
   ]
  },
  {
   "cell_type": "markdown",
   "metadata": {},
   "source": [
    "#### Write in pkl file "
   ]
  },
  {
   "cell_type": "code",
   "execution_count": 79,
   "metadata": {},
   "outputs": [],
   "source": [
    "path = path + '\\\\Performance_Report_IF.pkl'\n",
    "with open(path, 'wb') as f:\n",
    "    pickle.dump(metrics_dict, f)"
   ]
  },
  {
   "cell_type": "markdown",
   "metadata": {},
   "source": [
    "#### Read from pkl file "
   ]
  },
  {
   "cell_type": "code",
   "execution_count": 80,
   "metadata": {},
   "outputs": [],
   "source": [
    "os.chdir('c:\\\\Users\\\\lemeda98\\\\Desktop\\\\PHD Information Engineering\\\\ExIFFI\\\\ExIFFI')\n",
    "path = os.getcwd() + '\\\\results\\\\davide\\\\Performance Report\\\\Performance_Report_IF.pkl'\n",
    "with open(path, 'rb') as f:\n",
    "    Performance_report_if = pickle.load(f)"
   ]
  },
  {
   "cell_type": "code",
   "execution_count": 81,
   "metadata": {},
   "outputs": [
    {
     "data": {
      "text/plain": [
       "dict_keys(['X_xaxis', 'X_yaxis', 'X_bisect', 'X_bisect_3d', 'X_bisect_6d', 'wine', 'annthyroid', 'breastw', 'shuttle', 'pima', 'cardio', 'glass', 'ionosphere', 'pendigits', 'diabetes', 'moodify'])"
      ]
     },
     "execution_count": 81,
     "metadata": {},
     "output_type": "execute_result"
    }
   ],
   "source": [
    "Performance_report_if.keys()"
   ]
  },
  {
   "cell_type": "code",
   "execution_count": 35,
   "metadata": {},
   "outputs": [],
   "source": [
    "perf_df_synt=pd.DataFrame(Performance_report_synt)"
   ]
  },
  {
   "cell_type": "code",
   "execution_count": 80,
   "metadata": {},
   "outputs": [
    {
     "data": {
      "text/html": [
       "<div>\n",
       "<style scoped>\n",
       "    .dataframe tbody tr th:only-of-type {\n",
       "        vertical-align: middle;\n",
       "    }\n",
       "\n",
       "    .dataframe tbody tr th {\n",
       "        vertical-align: top;\n",
       "    }\n",
       "\n",
       "    .dataframe thead th {\n",
       "        text-align: right;\n",
       "    }\n",
       "</style>\n",
       "<table border=\"1\" class=\"dataframe\">\n",
       "  <thead>\n",
       "    <tr style=\"text-align: right;\">\n",
       "      <th></th>\n",
       "      <th>wine</th>\n",
       "      <th>annthyroid</th>\n",
       "      <th>breastw</th>\n",
       "      <th>shuttle</th>\n",
       "      <th>pima</th>\n",
       "      <th>cardio</th>\n",
       "      <th>glass</th>\n",
       "      <th>ionosphere</th>\n",
       "      <th>pendigits</th>\n",
       "      <th>diabetes</th>\n",
       "      <th>moodify</th>\n",
       "    </tr>\n",
       "  </thead>\n",
       "  <tbody>\n",
       "    <tr>\n",
       "      <th>Precision</th>\n",
       "      <td>0.800000</td>\n",
       "      <td>0.549223</td>\n",
       "      <td>1.000000</td>\n",
       "      <td>0.927461</td>\n",
       "      <td>0.830508</td>\n",
       "      <td>0.836879</td>\n",
       "      <td>0.187500</td>\n",
       "      <td>1.000000</td>\n",
       "      <td>0.274611</td>\n",
       "      <td>0.765625</td>\n",
       "      <td>0.772021</td>\n",
       "    </tr>\n",
       "    <tr>\n",
       "      <th>Recall</th>\n",
       "      <td>0.800000</td>\n",
       "      <td>0.560847</td>\n",
       "      <td>0.144068</td>\n",
       "      <td>1.000000</td>\n",
       "      <td>0.182836</td>\n",
       "      <td>0.674286</td>\n",
       "      <td>0.333333</td>\n",
       "      <td>0.216000</td>\n",
       "      <td>0.929825</td>\n",
       "      <td>0.609959</td>\n",
       "      <td>0.390052</td>\n",
       "    </tr>\n",
       "    <tr>\n",
       "      <th>f1 score</th>\n",
       "      <td>0.800000</td>\n",
       "      <td>0.554974</td>\n",
       "      <td>0.251852</td>\n",
       "      <td>0.962366</td>\n",
       "      <td>0.299694</td>\n",
       "      <td>0.746835</td>\n",
       "      <td>0.240000</td>\n",
       "      <td>0.355263</td>\n",
       "      <td>0.424000</td>\n",
       "      <td>0.678984</td>\n",
       "      <td>0.518261</td>\n",
       "    </tr>\n",
       "    <tr>\n",
       "      <th>Accuracy</th>\n",
       "      <td>0.968992</td>\n",
       "      <td>0.932000</td>\n",
       "      <td>0.550111</td>\n",
       "      <td>0.994400</td>\n",
       "      <td>0.701823</td>\n",
       "      <td>0.956092</td>\n",
       "      <td>0.910798</td>\n",
       "      <td>0.720000</td>\n",
       "      <td>0.942400</td>\n",
       "      <td>0.944400</td>\n",
       "      <td>0.889200</td>\n",
       "    </tr>\n",
       "    <tr>\n",
       "      <th>Balanced Accuracy</th>\n",
       "      <td>0.891597</td>\n",
       "      <td>0.761600</td>\n",
       "      <td>0.572034</td>\n",
       "      <td>0.996984</td>\n",
       "      <td>0.581418</td>\n",
       "      <td>0.830160</td>\n",
       "      <td>0.634804</td>\n",
       "      <td>0.608000</td>\n",
       "      <td>0.936259</td>\n",
       "      <td>0.795019</td>\n",
       "      <td>0.684639</td>\n",
       "    </tr>\n",
       "    <tr>\n",
       "      <th>Average Precision</th>\n",
       "      <td>0.895212</td>\n",
       "      <td>0.609900</td>\n",
       "      <td>0.994711</td>\n",
       "      <td>0.928671</td>\n",
       "      <td>0.657603</td>\n",
       "      <td>0.829165</td>\n",
       "      <td>0.267426</td>\n",
       "      <td>0.979354</td>\n",
       "      <td>0.530748</td>\n",
       "      <td>0.672618</td>\n",
       "      <td>0.692560</td>\n",
       "    </tr>\n",
       "    <tr>\n",
       "      <th>ROC AUC</th>\n",
       "      <td>0.987395</td>\n",
       "      <td>0.938245</td>\n",
       "      <td>0.994002</td>\n",
       "      <td>0.998310</td>\n",
       "      <td>0.793631</td>\n",
       "      <td>0.976853</td>\n",
       "      <td>0.878268</td>\n",
       "      <td>0.985689</td>\n",
       "      <td>0.984205</td>\n",
       "      <td>0.828131</td>\n",
       "      <td>0.956987</td>\n",
       "    </tr>\n",
       "  </tbody>\n",
       "</table>\n",
       "</div>"
      ],
      "text/plain": [
       "                       wine  annthyroid   breastw   shuttle      pima  \\\n",
       "Precision          0.800000    0.549223  1.000000  0.927461  0.830508   \n",
       "Recall             0.800000    0.560847  0.144068  1.000000  0.182836   \n",
       "f1 score           0.800000    0.554974  0.251852  0.962366  0.299694   \n",
       "Accuracy           0.968992    0.932000  0.550111  0.994400  0.701823   \n",
       "Balanced Accuracy  0.891597    0.761600  0.572034  0.996984  0.581418   \n",
       "Average Precision  0.895212    0.609900  0.994711  0.928671  0.657603   \n",
       "ROC AUC            0.987395    0.938245  0.994002  0.998310  0.793631   \n",
       "\n",
       "                     cardio     glass  ionosphere  pendigits  diabetes  \\\n",
       "Precision          0.836879  0.187500    1.000000   0.274611  0.765625   \n",
       "Recall             0.674286  0.333333    0.216000   0.929825  0.609959   \n",
       "f1 score           0.746835  0.240000    0.355263   0.424000  0.678984   \n",
       "Accuracy           0.956092  0.910798    0.720000   0.942400  0.944400   \n",
       "Balanced Accuracy  0.830160  0.634804    0.608000   0.936259  0.795019   \n",
       "Average Precision  0.829165  0.267426    0.979354   0.530748  0.672618   \n",
       "ROC AUC            0.976853  0.878268    0.985689   0.984205  0.828131   \n",
       "\n",
       "                    moodify  \n",
       "Precision          0.772021  \n",
       "Recall             0.390052  \n",
       "f1 score           0.518261  \n",
       "Accuracy           0.889200  \n",
       "Balanced Accuracy  0.684639  \n",
       "Average Precision  0.692560  \n",
       "ROC AUC            0.956987  "
      ]
     },
     "execution_count": 80,
     "metadata": {},
     "output_type": "execute_result"
    }
   ],
   "source": [
    "perf_df"
   ]
  },
  {
   "cell_type": "code",
   "execution_count": 96,
   "metadata": {},
   "outputs": [
    {
     "data": {
      "text/html": [
       "<div>\n",
       "<style scoped>\n",
       "    .dataframe tbody tr th:only-of-type {\n",
       "        vertical-align: middle;\n",
       "    }\n",
       "\n",
       "    .dataframe tbody tr th {\n",
       "        vertical-align: top;\n",
       "    }\n",
       "\n",
       "    .dataframe thead th {\n",
       "        text-align: right;\n",
       "    }\n",
       "</style>\n",
       "<table border=\"1\" class=\"dataframe\">\n",
       "  <thead>\n",
       "    <tr style=\"text-align: right;\">\n",
       "      <th></th>\n",
       "      <th>wine</th>\n",
       "      <th>annthyroid</th>\n",
       "      <th>breastw</th>\n",
       "      <th>shuttle</th>\n",
       "      <th>pima</th>\n",
       "      <th>cardio</th>\n",
       "      <th>glass</th>\n",
       "      <th>ionosphere</th>\n",
       "      <th>pendigits</th>\n",
       "      <th>diabetes</th>\n",
       "      <th>moodify</th>\n",
       "    </tr>\n",
       "  </thead>\n",
       "  <tbody>\n",
       "    <tr>\n",
       "      <th>Precision</th>\n",
       "      <td>0.500000</td>\n",
       "      <td>0.402116</td>\n",
       "      <td>0.840909</td>\n",
       "      <td>0.949721</td>\n",
       "      <td>0.289474</td>\n",
       "      <td>0.714286</td>\n",
       "      <td>0.111111</td>\n",
       "      <td>0.771429</td>\n",
       "      <td>0.456140</td>\n",
       "      <td>0.554167</td>\n",
       "      <td>0.662304</td>\n",
       "    </tr>\n",
       "    <tr>\n",
       "      <th>Recall</th>\n",
       "      <td>0.500000</td>\n",
       "      <td>0.402116</td>\n",
       "      <td>0.840909</td>\n",
       "      <td>0.949721</td>\n",
       "      <td>0.289474</td>\n",
       "      <td>0.714286</td>\n",
       "      <td>0.111111</td>\n",
       "      <td>0.771429</td>\n",
       "      <td>0.456140</td>\n",
       "      <td>0.551867</td>\n",
       "      <td>0.662304</td>\n",
       "    </tr>\n",
       "    <tr>\n",
       "      <th>f1 score</th>\n",
       "      <td>0.500000</td>\n",
       "      <td>0.402116</td>\n",
       "      <td>0.840909</td>\n",
       "      <td>0.949721</td>\n",
       "      <td>0.289474</td>\n",
       "      <td>0.714286</td>\n",
       "      <td>0.111111</td>\n",
       "      <td>0.771429</td>\n",
       "      <td>0.456140</td>\n",
       "      <td>0.553015</td>\n",
       "      <td>0.662304</td>\n",
       "    </tr>\n",
       "    <tr>\n",
       "      <th>Accuracy</th>\n",
       "      <td>0.922481</td>\n",
       "      <td>0.909600</td>\n",
       "      <td>0.945525</td>\n",
       "      <td>0.992800</td>\n",
       "      <td>0.812500</td>\n",
       "      <td>0.945115</td>\n",
       "      <td>0.924883</td>\n",
       "      <td>0.938462</td>\n",
       "      <td>0.975200</td>\n",
       "      <td>0.914000</td>\n",
       "      <td>0.896800</td>\n",
       "    </tr>\n",
       "    <tr>\n",
       "      <th>Balanced Accuracy</th>\n",
       "      <td>0.728992</td>\n",
       "      <td>0.676610</td>\n",
       "      <td>0.904023</td>\n",
       "      <td>0.972922</td>\n",
       "      <td>0.590737</td>\n",
       "      <td>0.841964</td>\n",
       "      <td>0.535948</td>\n",
       "      <td>0.867937</td>\n",
       "      <td>0.721726</td>\n",
       "      <td>0.752251</td>\n",
       "      <td>0.800699</td>\n",
       "    </tr>\n",
       "    <tr>\n",
       "      <th>Average Precision</th>\n",
       "      <td>0.475039</td>\n",
       "      <td>0.444825</td>\n",
       "      <td>0.920983</td>\n",
       "      <td>0.931700</td>\n",
       "      <td>0.315796</td>\n",
       "      <td>0.755085</td>\n",
       "      <td>0.102754</td>\n",
       "      <td>0.771180</td>\n",
       "      <td>0.359230</td>\n",
       "      <td>0.531691</td>\n",
       "      <td>0.616547</td>\n",
       "    </tr>\n",
       "    <tr>\n",
       "      <th>ROC AUC</th>\n",
       "      <td>0.948319</td>\n",
       "      <td>0.870935</td>\n",
       "      <td>0.981647</td>\n",
       "      <td>0.997896</td>\n",
       "      <td>0.768158</td>\n",
       "      <td>0.969241</td>\n",
       "      <td>0.764706</td>\n",
       "      <td>0.948635</td>\n",
       "      <td>0.970869</td>\n",
       "      <td>0.801016</td>\n",
       "      <td>0.942367</td>\n",
       "    </tr>\n",
       "  </tbody>\n",
       "</table>\n",
       "</div>"
      ],
      "text/plain": [
       "                       wine  annthyroid   breastw   shuttle      pima  \\\n",
       "Precision          0.500000    0.402116  0.840909  0.949721  0.289474   \n",
       "Recall             0.500000    0.402116  0.840909  0.949721  0.289474   \n",
       "f1 score           0.500000    0.402116  0.840909  0.949721  0.289474   \n",
       "Accuracy           0.922481    0.909600  0.945525  0.992800  0.812500   \n",
       "Balanced Accuracy  0.728992    0.676610  0.904023  0.972922  0.590737   \n",
       "Average Precision  0.475039    0.444825  0.920983  0.931700  0.315796   \n",
       "ROC AUC            0.948319    0.870935  0.981647  0.997896  0.768158   \n",
       "\n",
       "                     cardio     glass  ionosphere  pendigits  diabetes  \\\n",
       "Precision          0.714286  0.111111    0.771429   0.456140  0.554167   \n",
       "Recall             0.714286  0.111111    0.771429   0.456140  0.551867   \n",
       "f1 score           0.714286  0.111111    0.771429   0.456140  0.553015   \n",
       "Accuracy           0.945115  0.924883    0.938462   0.975200  0.914000   \n",
       "Balanced Accuracy  0.841964  0.535948    0.867937   0.721726  0.752251   \n",
       "Average Precision  0.755085  0.102754    0.771180   0.359230  0.531691   \n",
       "ROC AUC            0.969241  0.764706    0.948635   0.970869  0.801016   \n",
       "\n",
       "                    moodify  \n",
       "Precision          0.662304  \n",
       "Recall             0.662304  \n",
       "f1 score           0.662304  \n",
       "Accuracy           0.896800  \n",
       "Balanced Accuracy  0.800699  \n",
       "Average Precision  0.616547  \n",
       "ROC AUC            0.942367  "
      ]
     },
     "execution_count": 96,
     "metadata": {},
     "output_type": "execute_result"
    }
   ],
   "source": [
    "perf_df_eif"
   ]
  },
  {
   "cell_type": "code",
   "execution_count": 82,
   "metadata": {},
   "outputs": [],
   "source": [
    "perf_df_if=pd.DataFrame(Performance_report_if)"
   ]
  },
  {
   "cell_type": "code",
   "execution_count": 83,
   "metadata": {},
   "outputs": [
    {
     "data": {
      "text/html": [
       "<div>\n",
       "<style scoped>\n",
       "    .dataframe tbody tr th:only-of-type {\n",
       "        vertical-align: middle;\n",
       "    }\n",
       "\n",
       "    .dataframe tbody tr th {\n",
       "        vertical-align: top;\n",
       "    }\n",
       "\n",
       "    .dataframe thead th {\n",
       "        text-align: right;\n",
       "    }\n",
       "</style>\n",
       "<table border=\"1\" class=\"dataframe\">\n",
       "  <thead>\n",
       "    <tr style=\"text-align: right;\">\n",
       "      <th></th>\n",
       "      <th>X_xaxis</th>\n",
       "      <th>X_yaxis</th>\n",
       "      <th>X_bisect</th>\n",
       "      <th>X_bisect_3d</th>\n",
       "      <th>X_bisect_6d</th>\n",
       "      <th>wine</th>\n",
       "      <th>annthyroid</th>\n",
       "      <th>breastw</th>\n",
       "      <th>shuttle</th>\n",
       "      <th>pima</th>\n",
       "      <th>cardio</th>\n",
       "      <th>glass</th>\n",
       "      <th>ionosphere</th>\n",
       "      <th>pendigits</th>\n",
       "      <th>diabetes</th>\n",
       "      <th>moodify</th>\n",
       "    </tr>\n",
       "  </thead>\n",
       "  <tbody>\n",
       "    <tr>\n",
       "      <th>Precision</th>\n",
       "      <td>0.228814</td>\n",
       "      <td>0.320896</td>\n",
       "      <td>0.523560</td>\n",
       "      <td>0.523560</td>\n",
       "      <td>0.523560</td>\n",
       "      <td>0.444444</td>\n",
       "      <td>0.398625</td>\n",
       "      <td>0.543210</td>\n",
       "      <td>0.510264</td>\n",
       "      <td>0.290323</td>\n",
       "      <td>0.478689</td>\n",
       "      <td>0.100000</td>\n",
       "      <td>0.603960</td>\n",
       "      <td>0.370787</td>\n",
       "      <td>0.294498</td>\n",
       "      <td>0.534483</td>\n",
       "    </tr>\n",
       "    <tr>\n",
       "      <th>Recall</th>\n",
       "      <td>0.270000</td>\n",
       "      <td>0.430000</td>\n",
       "      <td>1.000000</td>\n",
       "      <td>1.000000</td>\n",
       "      <td>1.000000</td>\n",
       "      <td>0.800000</td>\n",
       "      <td>0.613757</td>\n",
       "      <td>1.000000</td>\n",
       "      <td>0.972067</td>\n",
       "      <td>0.355263</td>\n",
       "      <td>0.834286</td>\n",
       "      <td>0.111111</td>\n",
       "      <td>0.976000</td>\n",
       "      <td>0.578947</td>\n",
       "      <td>0.377593</td>\n",
       "      <td>0.973822</td>\n",
       "    </tr>\n",
       "    <tr>\n",
       "      <th>f1 score</th>\n",
       "      <td>0.247706</td>\n",
       "      <td>0.367521</td>\n",
       "      <td>0.687285</td>\n",
       "      <td>0.687285</td>\n",
       "      <td>0.687285</td>\n",
       "      <td>0.571429</td>\n",
       "      <td>0.483333</td>\n",
       "      <td>0.704000</td>\n",
       "      <td>0.669231</td>\n",
       "      <td>0.319527</td>\n",
       "      <td>0.608333</td>\n",
       "      <td>0.105263</td>\n",
       "      <td>0.746177</td>\n",
       "      <td>0.452055</td>\n",
       "      <td>0.330909</td>\n",
       "      <td>0.690167</td>\n",
       "    </tr>\n",
       "    <tr>\n",
       "      <th>Accuracy</th>\n",
       "      <td>0.850909</td>\n",
       "      <td>0.865455</td>\n",
       "      <td>0.917273</td>\n",
       "      <td>0.917273</td>\n",
       "      <td>0.917273</td>\n",
       "      <td>0.906977</td>\n",
       "      <td>0.900800</td>\n",
       "      <td>0.856031</td>\n",
       "      <td>0.931200</td>\n",
       "      <td>0.800347</td>\n",
       "      <td>0.896817</td>\n",
       "      <td>0.920188</td>\n",
       "      <td>0.762857</td>\n",
       "      <td>0.968000</td>\n",
       "      <td>0.852800</td>\n",
       "      <td>0.866400</td>\n",
       "    </tr>\n",
       "    <tr>\n",
       "      <th>Balanced Accuracy</th>\n",
       "      <td>0.589500</td>\n",
       "      <td>0.669500</td>\n",
       "      <td>0.954500</td>\n",
       "      <td>0.954500</td>\n",
       "      <td>0.954500</td>\n",
       "      <td>0.857983</td>\n",
       "      <td>0.769016</td>\n",
       "      <td>0.913146</td>\n",
       "      <td>0.950058</td>\n",
       "      <td>0.611632</td>\n",
       "      <td>0.868873</td>\n",
       "      <td>0.533497</td>\n",
       "      <td>0.810222</td>\n",
       "      <td>0.778012</td>\n",
       "      <td>0.640545</td>\n",
       "      <td>0.910424</td>\n",
       "    </tr>\n",
       "    <tr>\n",
       "      <th>Average Precision</th>\n",
       "      <td>0.268749</td>\n",
       "      <td>0.377751</td>\n",
       "      <td>1.000000</td>\n",
       "      <td>1.000000</td>\n",
       "      <td>1.000000</td>\n",
       "      <td>0.462489</td>\n",
       "      <td>0.519052</td>\n",
       "      <td>0.943981</td>\n",
       "      <td>0.942368</td>\n",
       "      <td>0.294302</td>\n",
       "      <td>0.698852</td>\n",
       "      <td>0.100962</td>\n",
       "      <td>0.887997</td>\n",
       "      <td>0.407524</td>\n",
       "      <td>0.245672</td>\n",
       "      <td>0.737007</td>\n",
       "    </tr>\n",
       "    <tr>\n",
       "      <th>ROC AUC</th>\n",
       "      <td>0.786700</td>\n",
       "      <td>0.832210</td>\n",
       "      <td>1.000000</td>\n",
       "      <td>1.000000</td>\n",
       "      <td>1.000000</td>\n",
       "      <td>0.930252</td>\n",
       "      <td>0.920374</td>\n",
       "      <td>0.987303</td>\n",
       "      <td>0.992753</td>\n",
       "      <td>0.764658</td>\n",
       "      <td>0.949043</td>\n",
       "      <td>0.754902</td>\n",
       "      <td>0.931698</td>\n",
       "      <td>0.973717</td>\n",
       "      <td>0.717809</td>\n",
       "      <td>0.964015</td>\n",
       "    </tr>\n",
       "  </tbody>\n",
       "</table>\n",
       "</div>"
      ],
      "text/plain": [
       "                    X_xaxis   X_yaxis  X_bisect  X_bisect_3d  X_bisect_6d  \\\n",
       "Precision          0.228814  0.320896  0.523560     0.523560     0.523560   \n",
       "Recall             0.270000  0.430000  1.000000     1.000000     1.000000   \n",
       "f1 score           0.247706  0.367521  0.687285     0.687285     0.687285   \n",
       "Accuracy           0.850909  0.865455  0.917273     0.917273     0.917273   \n",
       "Balanced Accuracy  0.589500  0.669500  0.954500     0.954500     0.954500   \n",
       "Average Precision  0.268749  0.377751  1.000000     1.000000     1.000000   \n",
       "ROC AUC            0.786700  0.832210  1.000000     1.000000     1.000000   \n",
       "\n",
       "                       wine  annthyroid   breastw   shuttle      pima  \\\n",
       "Precision          0.444444    0.398625  0.543210  0.510264  0.290323   \n",
       "Recall             0.800000    0.613757  1.000000  0.972067  0.355263   \n",
       "f1 score           0.571429    0.483333  0.704000  0.669231  0.319527   \n",
       "Accuracy           0.906977    0.900800  0.856031  0.931200  0.800347   \n",
       "Balanced Accuracy  0.857983    0.769016  0.913146  0.950058  0.611632   \n",
       "Average Precision  0.462489    0.519052  0.943981  0.942368  0.294302   \n",
       "ROC AUC            0.930252    0.920374  0.987303  0.992753  0.764658   \n",
       "\n",
       "                     cardio     glass  ionosphere  pendigits  diabetes  \\\n",
       "Precision          0.478689  0.100000    0.603960   0.370787  0.294498   \n",
       "Recall             0.834286  0.111111    0.976000   0.578947  0.377593   \n",
       "f1 score           0.608333  0.105263    0.746177   0.452055  0.330909   \n",
       "Accuracy           0.896817  0.920188    0.762857   0.968000  0.852800   \n",
       "Balanced Accuracy  0.868873  0.533497    0.810222   0.778012  0.640545   \n",
       "Average Precision  0.698852  0.100962    0.887997   0.407524  0.245672   \n",
       "ROC AUC            0.949043  0.754902    0.931698   0.973717  0.717809   \n",
       "\n",
       "                    moodify  \n",
       "Precision          0.534483  \n",
       "Recall             0.973822  \n",
       "f1 score           0.690167  \n",
       "Accuracy           0.866400  \n",
       "Balanced Accuracy  0.910424  \n",
       "Average Precision  0.737007  \n",
       "ROC AUC            0.964015  "
      ]
     },
     "execution_count": 83,
     "metadata": {},
     "output_type": "execute_result"
    }
   ],
   "source": [
    "perf_df_if"
   ]
  },
  {
   "cell_type": "code",
   "execution_count": 248,
   "metadata": {},
   "outputs": [
    {
     "data": {
      "text/html": [
       "<div>\n",
       "<style scoped>\n",
       "    .dataframe tbody tr th:only-of-type {\n",
       "        vertical-align: middle;\n",
       "    }\n",
       "\n",
       "    .dataframe tbody tr th {\n",
       "        vertical-align: top;\n",
       "    }\n",
       "\n",
       "    .dataframe thead th {\n",
       "        text-align: right;\n",
       "    }\n",
       "</style>\n",
       "<table border=\"1\" class=\"dataframe\">\n",
       "  <thead>\n",
       "    <tr style=\"text-align: right;\">\n",
       "      <th></th>\n",
       "      <th>wine</th>\n",
       "      <th>annthyroid</th>\n",
       "      <th>breastw</th>\n",
       "      <th>shuttle</th>\n",
       "      <th>pima</th>\n",
       "      <th>cardio</th>\n",
       "      <th>glass</th>\n",
       "      <th>ionosphere</th>\n",
       "      <th>pendigits</th>\n",
       "      <th>diabetes</th>\n",
       "      <th>moodify</th>\n",
       "    </tr>\n",
       "  </thead>\n",
       "  <tbody>\n",
       "    <tr>\n",
       "      <th>Precision</th>\n",
       "      <td>0.000000</td>\n",
       "      <td>0.0000</td>\n",
       "      <td>0.000000</td>\n",
       "      <td>0.0000</td>\n",
       "      <td>0.000000</td>\n",
       "      <td>0.000000</td>\n",
       "      <td>0.000000</td>\n",
       "      <td>0.000000</td>\n",
       "      <td>0.0000</td>\n",
       "      <td>0.0000</td>\n",
       "      <td>0.0000</td>\n",
       "    </tr>\n",
       "    <tr>\n",
       "      <th>Recall</th>\n",
       "      <td>0.000000</td>\n",
       "      <td>0.0000</td>\n",
       "      <td>0.000000</td>\n",
       "      <td>0.0000</td>\n",
       "      <td>0.000000</td>\n",
       "      <td>0.000000</td>\n",
       "      <td>0.000000</td>\n",
       "      <td>0.000000</td>\n",
       "      <td>0.0000</td>\n",
       "      <td>0.0000</td>\n",
       "      <td>0.0000</td>\n",
       "    </tr>\n",
       "    <tr>\n",
       "      <th>f1 score</th>\n",
       "      <td>0.000000</td>\n",
       "      <td>0.0000</td>\n",
       "      <td>0.000000</td>\n",
       "      <td>0.0000</td>\n",
       "      <td>0.000000</td>\n",
       "      <td>0.000000</td>\n",
       "      <td>0.000000</td>\n",
       "      <td>0.000000</td>\n",
       "      <td>0.0000</td>\n",
       "      <td>0.0000</td>\n",
       "      <td>0.0000</td>\n",
       "    </tr>\n",
       "    <tr>\n",
       "      <th>Accuracy</th>\n",
       "      <td>0.922481</td>\n",
       "      <td>0.9244</td>\n",
       "      <td>0.828794</td>\n",
       "      <td>0.9284</td>\n",
       "      <td>0.868056</td>\n",
       "      <td>0.903952</td>\n",
       "      <td>0.957746</td>\n",
       "      <td>0.865385</td>\n",
       "      <td>0.9772</td>\n",
       "      <td>0.9036</td>\n",
       "      <td>0.8472</td>\n",
       "    </tr>\n",
       "    <tr>\n",
       "      <th>Balanced Accuracy</th>\n",
       "      <td>0.500000</td>\n",
       "      <td>0.5000</td>\n",
       "      <td>0.500000</td>\n",
       "      <td>0.5000</td>\n",
       "      <td>0.500000</td>\n",
       "      <td>0.500000</td>\n",
       "      <td>0.500000</td>\n",
       "      <td>0.500000</td>\n",
       "      <td>0.5000</td>\n",
       "      <td>0.5000</td>\n",
       "      <td>0.5000</td>\n",
       "    </tr>\n",
       "    <tr>\n",
       "      <th>Average Precision</th>\n",
       "      <td>0.077519</td>\n",
       "      <td>0.0756</td>\n",
       "      <td>0.171206</td>\n",
       "      <td>0.0716</td>\n",
       "      <td>0.131944</td>\n",
       "      <td>0.096048</td>\n",
       "      <td>0.042254</td>\n",
       "      <td>0.134615</td>\n",
       "      <td>0.0228</td>\n",
       "      <td>0.0964</td>\n",
       "      <td>0.1528</td>\n",
       "    </tr>\n",
       "    <tr>\n",
       "      <th>ROC AUC</th>\n",
       "      <td>0.500000</td>\n",
       "      <td>0.5000</td>\n",
       "      <td>0.500000</td>\n",
       "      <td>0.5000</td>\n",
       "      <td>0.500000</td>\n",
       "      <td>0.500000</td>\n",
       "      <td>0.500000</td>\n",
       "      <td>0.500000</td>\n",
       "      <td>0.5000</td>\n",
       "      <td>0.5000</td>\n",
       "      <td>0.5000</td>\n",
       "    </tr>\n",
       "  </tbody>\n",
       "</table>\n",
       "</div>"
      ],
      "text/plain": [
       "                       wine  annthyroid   breastw  shuttle      pima  \\\n",
       "Precision          0.000000      0.0000  0.000000   0.0000  0.000000   \n",
       "Recall             0.000000      0.0000  0.000000   0.0000  0.000000   \n",
       "f1 score           0.000000      0.0000  0.000000   0.0000  0.000000   \n",
       "Accuracy           0.922481      0.9244  0.828794   0.9284  0.868056   \n",
       "Balanced Accuracy  0.500000      0.5000  0.500000   0.5000  0.500000   \n",
       "Average Precision  0.077519      0.0756  0.171206   0.0716  0.131944   \n",
       "ROC AUC            0.500000      0.5000  0.500000   0.5000  0.500000   \n",
       "\n",
       "                     cardio     glass  ionosphere  pendigits  diabetes  \\\n",
       "Precision          0.000000  0.000000    0.000000     0.0000    0.0000   \n",
       "Recall             0.000000  0.000000    0.000000     0.0000    0.0000   \n",
       "f1 score           0.000000  0.000000    0.000000     0.0000    0.0000   \n",
       "Accuracy           0.903952  0.957746    0.865385     0.9772    0.9036   \n",
       "Balanced Accuracy  0.500000  0.500000    0.500000     0.5000    0.5000   \n",
       "Average Precision  0.096048  0.042254    0.134615     0.0228    0.0964   \n",
       "ROC AUC            0.500000  0.500000    0.500000     0.5000    0.5000   \n",
       "\n",
       "                   moodify  \n",
       "Precision           0.0000  \n",
       "Recall              0.0000  \n",
       "f1 score            0.0000  \n",
       "Accuracy            0.8472  \n",
       "Balanced Accuracy   0.5000  \n",
       "Average Precision   0.1528  \n",
       "ROC AUC             0.5000  "
      ]
     },
     "execution_count": 248,
     "metadata": {},
     "output_type": "execute_result"
    }
   ],
   "source": [
    "perf_df_rf"
   ]
  },
  {
   "cell_type": "code",
   "execution_count": 36,
   "metadata": {},
   "outputs": [
    {
     "data": {
      "text/html": [
       "<div>\n",
       "<style scoped>\n",
       "    .dataframe tbody tr th:only-of-type {\n",
       "        vertical-align: middle;\n",
       "    }\n",
       "\n",
       "    .dataframe tbody tr th {\n",
       "        vertical-align: top;\n",
       "    }\n",
       "\n",
       "    .dataframe thead th {\n",
       "        text-align: right;\n",
       "    }\n",
       "</style>\n",
       "<table border=\"1\" class=\"dataframe\">\n",
       "  <thead>\n",
       "    <tr style=\"text-align: right;\">\n",
       "      <th></th>\n",
       "      <th>X_xaxis</th>\n",
       "      <th>X_yaxis</th>\n",
       "      <th>X_bisect</th>\n",
       "      <th>X_bisect_3d</th>\n",
       "      <th>X_bisect_6d</th>\n",
       "    </tr>\n",
       "  </thead>\n",
       "  <tbody>\n",
       "    <tr>\n",
       "      <th>Precision</th>\n",
       "      <td>0.990000</td>\n",
       "      <td>1.0</td>\n",
       "      <td>1.0</td>\n",
       "      <td>1.0</td>\n",
       "      <td>1.0</td>\n",
       "    </tr>\n",
       "    <tr>\n",
       "      <th>Recall</th>\n",
       "      <td>0.990000</td>\n",
       "      <td>1.0</td>\n",
       "      <td>1.0</td>\n",
       "      <td>1.0</td>\n",
       "      <td>1.0</td>\n",
       "    </tr>\n",
       "    <tr>\n",
       "      <th>f1 score</th>\n",
       "      <td>0.990000</td>\n",
       "      <td>1.0</td>\n",
       "      <td>1.0</td>\n",
       "      <td>1.0</td>\n",
       "      <td>1.0</td>\n",
       "    </tr>\n",
       "    <tr>\n",
       "      <th>Accuracy</th>\n",
       "      <td>0.998182</td>\n",
       "      <td>1.0</td>\n",
       "      <td>1.0</td>\n",
       "      <td>1.0</td>\n",
       "      <td>1.0</td>\n",
       "    </tr>\n",
       "    <tr>\n",
       "      <th>Balanced Accuracy</th>\n",
       "      <td>0.994500</td>\n",
       "      <td>1.0</td>\n",
       "      <td>1.0</td>\n",
       "      <td>1.0</td>\n",
       "      <td>1.0</td>\n",
       "    </tr>\n",
       "    <tr>\n",
       "      <th>Average Precision</th>\n",
       "      <td>0.999704</td>\n",
       "      <td>1.0</td>\n",
       "      <td>1.0</td>\n",
       "      <td>1.0</td>\n",
       "      <td>1.0</td>\n",
       "    </tr>\n",
       "    <tr>\n",
       "      <th>ROC AUC</th>\n",
       "      <td>0.999970</td>\n",
       "      <td>1.0</td>\n",
       "      <td>1.0</td>\n",
       "      <td>1.0</td>\n",
       "      <td>1.0</td>\n",
       "    </tr>\n",
       "  </tbody>\n",
       "</table>\n",
       "</div>"
      ],
      "text/plain": [
       "                    X_xaxis  X_yaxis  X_bisect  X_bisect_3d  X_bisect_6d\n",
       "Precision          0.990000      1.0       1.0          1.0          1.0\n",
       "Recall             0.990000      1.0       1.0          1.0          1.0\n",
       "f1 score           0.990000      1.0       1.0          1.0          1.0\n",
       "Accuracy           0.998182      1.0       1.0          1.0          1.0\n",
       "Balanced Accuracy  0.994500      1.0       1.0          1.0          1.0\n",
       "Average Precision  0.999704      1.0       1.0          1.0          1.0\n",
       "ROC AUC            0.999970      1.0       1.0          1.0          1.0"
      ]
     },
     "execution_count": 36,
     "metadata": {},
     "output_type": "execute_result"
    }
   ],
   "source": [
    "perf_df_synt"
   ]
  },
  {
   "cell_type": "code",
   "execution_count": 26,
   "metadata": {},
   "outputs": [
    {
     "data": {
      "text/html": [
       "<div>\n",
       "<style scoped>\n",
       "    .dataframe tbody tr th:only-of-type {\n",
       "        vertical-align: middle;\n",
       "    }\n",
       "\n",
       "    .dataframe tbody tr th {\n",
       "        vertical-align: top;\n",
       "    }\n",
       "\n",
       "    .dataframe thead th {\n",
       "        text-align: right;\n",
       "    }\n",
       "</style>\n",
       "<table border=\"1\" class=\"dataframe\">\n",
       "  <thead>\n",
       "    <tr style=\"text-align: right;\">\n",
       "      <th></th>\n",
       "      <th>X_xaxis</th>\n",
       "      <th>X_yaxis</th>\n",
       "      <th>X_bisect</th>\n",
       "      <th>X_bisect_3d</th>\n",
       "      <th>X_bisect_6d</th>\n",
       "    </tr>\n",
       "  </thead>\n",
       "  <tbody>\n",
       "    <tr>\n",
       "      <th>Precision</th>\n",
       "      <td>1.0</td>\n",
       "      <td>1.0</td>\n",
       "      <td>1.0</td>\n",
       "      <td>1.0</td>\n",
       "      <td>1.0</td>\n",
       "    </tr>\n",
       "    <tr>\n",
       "      <th>Recall</th>\n",
       "      <td>1.0</td>\n",
       "      <td>1.0</td>\n",
       "      <td>1.0</td>\n",
       "      <td>1.0</td>\n",
       "      <td>1.0</td>\n",
       "    </tr>\n",
       "    <tr>\n",
       "      <th>f1 score</th>\n",
       "      <td>1.0</td>\n",
       "      <td>1.0</td>\n",
       "      <td>1.0</td>\n",
       "      <td>1.0</td>\n",
       "      <td>1.0</td>\n",
       "    </tr>\n",
       "    <tr>\n",
       "      <th>Accuracy</th>\n",
       "      <td>1.0</td>\n",
       "      <td>1.0</td>\n",
       "      <td>1.0</td>\n",
       "      <td>1.0</td>\n",
       "      <td>1.0</td>\n",
       "    </tr>\n",
       "    <tr>\n",
       "      <th>Balanced Accuracy</th>\n",
       "      <td>1.0</td>\n",
       "      <td>1.0</td>\n",
       "      <td>1.0</td>\n",
       "      <td>1.0</td>\n",
       "      <td>1.0</td>\n",
       "    </tr>\n",
       "    <tr>\n",
       "      <th>Average Precision</th>\n",
       "      <td>1.0</td>\n",
       "      <td>1.0</td>\n",
       "      <td>1.0</td>\n",
       "      <td>1.0</td>\n",
       "      <td>1.0</td>\n",
       "    </tr>\n",
       "    <tr>\n",
       "      <th>ROC AUC</th>\n",
       "      <td>1.0</td>\n",
       "      <td>1.0</td>\n",
       "      <td>1.0</td>\n",
       "      <td>1.0</td>\n",
       "      <td>1.0</td>\n",
       "    </tr>\n",
       "  </tbody>\n",
       "</table>\n",
       "</div>"
      ],
      "text/plain": [
       "                   X_xaxis  X_yaxis  X_bisect  X_bisect_3d  X_bisect_6d\n",
       "Precision              1.0      1.0       1.0          1.0          1.0\n",
       "Recall                 1.0      1.0       1.0          1.0          1.0\n",
       "f1 score               1.0      1.0       1.0          1.0          1.0\n",
       "Accuracy               1.0      1.0       1.0          1.0          1.0\n",
       "Balanced Accuracy      1.0      1.0       1.0          1.0          1.0\n",
       "Average Precision      1.0      1.0       1.0          1.0          1.0\n",
       "ROC AUC                1.0      1.0       1.0          1.0          1.0"
      ]
     },
     "execution_count": 26,
     "metadata": {},
     "output_type": "execute_result"
    }
   ],
   "source": [
    "df_perf_eif_plus_synt=pd.DataFrame(metrics_dict)\n",
    "df_perf_eif_plus_synt"
   ]
  },
  {
   "cell_type": "code",
   "execution_count": 44,
   "metadata": {},
   "outputs": [
    {
     "data": {
      "text/html": [
       "<div>\n",
       "<style scoped>\n",
       "    .dataframe tbody tr th:only-of-type {\n",
       "        vertical-align: middle;\n",
       "    }\n",
       "\n",
       "    .dataframe tbody tr th {\n",
       "        vertical-align: top;\n",
       "    }\n",
       "\n",
       "    .dataframe thead th {\n",
       "        text-align: right;\n",
       "    }\n",
       "</style>\n",
       "<table border=\"1\" class=\"dataframe\">\n",
       "  <thead>\n",
       "    <tr style=\"text-align: right;\">\n",
       "      <th></th>\n",
       "      <th>X_xaxis</th>\n",
       "      <th>X_yaxis</th>\n",
       "      <th>X_bisect</th>\n",
       "      <th>X_bisect_3d</th>\n",
       "      <th>X_bisect_6d</th>\n",
       "    </tr>\n",
       "  </thead>\n",
       "  <tbody>\n",
       "    <tr>\n",
       "      <th>Precision</th>\n",
       "      <td>0.375000</td>\n",
       "      <td>0.697368</td>\n",
       "      <td>0.751880</td>\n",
       "      <td>0.740741</td>\n",
       "      <td>0.724638</td>\n",
       "    </tr>\n",
       "    <tr>\n",
       "      <th>Recall</th>\n",
       "      <td>0.120000</td>\n",
       "      <td>0.530000</td>\n",
       "      <td>1.000000</td>\n",
       "      <td>1.000000</td>\n",
       "      <td>1.000000</td>\n",
       "    </tr>\n",
       "    <tr>\n",
       "      <th>f1 score</th>\n",
       "      <td>0.181818</td>\n",
       "      <td>0.602273</td>\n",
       "      <td>0.858369</td>\n",
       "      <td>0.851064</td>\n",
       "      <td>0.840336</td>\n",
       "    </tr>\n",
       "    <tr>\n",
       "      <th>Accuracy</th>\n",
       "      <td>0.901818</td>\n",
       "      <td>0.936364</td>\n",
       "      <td>0.970000</td>\n",
       "      <td>0.968182</td>\n",
       "      <td>0.965455</td>\n",
       "    </tr>\n",
       "    <tr>\n",
       "      <th>Balanced Accuracy</th>\n",
       "      <td>0.550000</td>\n",
       "      <td>0.753500</td>\n",
       "      <td>0.983500</td>\n",
       "      <td>0.982500</td>\n",
       "      <td>0.981000</td>\n",
       "    </tr>\n",
       "    <tr>\n",
       "      <th>Average Precision</th>\n",
       "      <td>0.056219</td>\n",
       "      <td>0.048510</td>\n",
       "      <td>0.047353</td>\n",
       "      <td>0.047353</td>\n",
       "      <td>0.063555</td>\n",
       "    </tr>\n",
       "    <tr>\n",
       "      <th>ROC AUC</th>\n",
       "      <td>0.237670</td>\n",
       "      <td>0.065980</td>\n",
       "      <td>0.000000</td>\n",
       "      <td>0.000000</td>\n",
       "      <td>0.000000</td>\n",
       "    </tr>\n",
       "  </tbody>\n",
       "</table>\n",
       "</div>"
      ],
      "text/plain": [
       "                    X_xaxis   X_yaxis  X_bisect  X_bisect_3d  X_bisect_6d\n",
       "Precision          0.375000  0.697368  0.751880     0.740741     0.724638\n",
       "Recall             0.120000  0.530000  1.000000     1.000000     1.000000\n",
       "f1 score           0.181818  0.602273  0.858369     0.851064     0.840336\n",
       "Accuracy           0.901818  0.936364  0.970000     0.968182     0.965455\n",
       "Balanced Accuracy  0.550000  0.753500  0.983500     0.982500     0.981000\n",
       "Average Precision  0.056219  0.048510  0.047353     0.047353     0.063555\n",
       "ROC AUC            0.237670  0.065980  0.000000     0.000000     0.000000"
      ]
     },
     "execution_count": 44,
     "metadata": {},
     "output_type": "execute_result"
    }
   ],
   "source": [
    "df_perf_if_synt=pd.DataFrame(metrics_dict)\n",
    "df_perf_if_synt"
   ]
  },
  {
   "cell_type": "code",
   "execution_count": null,
   "metadata": {},
   "outputs": [],
   "source": []
  }
 ],
 "metadata": {
  "kernelspec": {
   "display_name": "Python 3",
   "language": "python",
   "name": "python3"
  },
  "language_info": {
   "codemirror_mode": {
    "name": "ipython",
    "version": 3
   },
   "file_extension": ".py",
   "mimetype": "text/x-python",
   "name": "python",
   "nbconvert_exporter": "python",
   "pygments_lexer": "ipython3",
   "version": "3.10.11"
  },
  "orig_nbformat": 4
 },
 "nbformat": 4,
 "nbformat_minor": 2
}
